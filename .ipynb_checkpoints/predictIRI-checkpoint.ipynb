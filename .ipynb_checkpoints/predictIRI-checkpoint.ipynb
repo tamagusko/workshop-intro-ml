{
 "cells": [
  {
   "cell_type": "code",
   "execution_count": 1,
   "metadata": {},
   "outputs": [],
   "source": [
    "import numpy as np\n",
    "import pandas as pd\n",
    "import matplotlib.pyplot as plt\n",
    "import seaborn as sns\n",
    "from sklearn.preprocessing import LabelEncoder\n",
    "from sklearn.tree import DecisionTreeRegressor, plot_tree\n",
    "from sklearn.ensemble import RandomForestRegressor\n",
    "import xgboost as xgb\n",
    "import pickle\n",
    "from sklearn.metrics import mean_squared_error, r2_score, mean_absolute_error\n",
    "\n",
    "from sklearn.model_selection import train_test_split\n",
    "\n",
    "%matplotlib inline"
   ]
  },
  {
   "cell_type": "code",
   "execution_count": 2,
   "metadata": {},
   "outputs": [],
   "source": [
    "# Regressors\n",
    "DT_reg = DecisionTreeRegressor(random_state=0, max_depth=10)\n",
    "RF_reg = RandomForestRegressor(random_state=0, max_depth=10)\n",
    "XG_reg = xgb.XGBRegressor(random_state=0, max_depth=4)"
   ]
  },
  {
   "cell_type": "code",
   "execution_count": 3,
   "metadata": {},
   "outputs": [],
   "source": [
    "# Data\n",
    "IRI = pd.read_csv('data/raw/iri.csv')\n",
    "TRAFFIC = pd.read_csv('data/raw/aadtt.csv')\n",
    "SN = pd.read_csv('data/raw/sn.csv')\n",
    "PREC = pd.read_csv('data/raw/precipitation.csv')\n",
    "TEMP = pd.read_csv('data/raw/temperature.csv')"
   ]
  },
  {
   "cell_type": "code",
   "execution_count": 4,
   "metadata": {},
   "outputs": [],
   "source": [
    "# Cleaning data\n",
    "IRI = IRI[['STATE_CODE', 'SHRP_ID', 'VISIT_DATE', 'MRI']]\n",
    "TRAFFIC = TRAFFIC[['STATE_CODE', 'SHRP_ID', 'YEAR', 'AADTT_ALL_TRUCKS_TREND']]\n",
    "SN = SN[['STATE_CODE', 'SHRP_ID', 'SN_VALUE']]\n",
    "PREC = PREC.drop(['STATE_CODE_EXP', 'TOTAL_SNOWFALL_YR'], axis=1)\n",
    "TEMP = TEMP.drop(['STATE_CODE_EXP', 'FREEZE_THAW_YR', 'FREEZE_INDEX_YR'], axis=1)\n",
    "\n",
    "IRI['VISIT_DATE'] = pd.DatetimeIndex(IRI['VISIT_DATE']).year\n",
    "IRI.rename(columns={'VISIT_DATE': 'YEAR'}, inplace=True)"
   ]
  },
  {
   "cell_type": "code",
   "execution_count": 5,
   "metadata": {},
   "outputs": [
    {
     "data": {
      "text/plain": [
       "(3166, 8)"
      ]
     },
     "execution_count": 5,
     "metadata": {},
     "output_type": "execute_result"
    }
   ],
   "source": [
    "# Processing climate data\n",
    "CLIMATE = pd.merge(PREC, TEMP, on=[\n",
    "                   'SHRP_ID', 'STATE_CODE', 'YEAR', 'VWS_ID']).drop(['VWS_ID'], axis=1)\n",
    "# Processing data\n",
    "DATA = pd.merge(IRI, CLIMATE, how='right', on=[\n",
    "                'SHRP_ID', 'STATE_CODE', 'YEAR'])\n",
    "DATA = pd.merge(DATA, TRAFFIC, how='right', on=[\n",
    "                'SHRP_ID', 'STATE_CODE', 'YEAR'])\n",
    "DATA = pd.merge(DATA, SN, how='right', on=['SHRP_ID', 'STATE_CODE'])\n",
    "DATA.shape"
   ]
  },
  {
   "cell_type": "code",
   "execution_count": 6,
   "metadata": {},
   "outputs": [
    {
     "data": {
      "text/plain": [
       "(2203, 8)"
      ]
     },
     "execution_count": 6,
     "metadata": {},
     "output_type": "execute_result"
    }
   ],
   "source": [
    "# drop NA and duplicates\n",
    "DATA = DATA.dropna()\n",
    "DATA = DATA.drop_duplicates()\n",
    "DATA.shape"
   ]
  },
  {
   "cell_type": "code",
   "execution_count": 7,
   "metadata": {},
   "outputs": [],
   "source": [
    "# Sort dataset\n",
    "DATA = DATA.sort_values(['YEAR'], ascending=[True])"
   ]
  },
  {
   "cell_type": "code",
   "execution_count": 8,
   "metadata": {},
   "outputs": [],
   "source": [
    "# Save processed data\n",
    "DATA.to_csv('data/processed/ltppProcessedData.csv', index=None, header=True)"
   ]
  },
  {
   "cell_type": "code",
   "execution_count": 9,
   "metadata": {},
   "outputs": [],
   "source": [
    "# Drop unused columns\n",
    "DATA = DATA.drop(['STATE_CODE', 'SHRP_ID'], axis=1)\n",
    "# Rename columns\n",
    "DATA = DATA.rename({'YEAR': 'Year',\n",
    "                    'MRI': 'IRI',\n",
    "                    'TOTAL_ANN_PRECIP': 'Precipitation',\n",
    "                    'MEAN_ANN_TEMP_AVG': 'Temperature',\n",
    "                    'AADTT_ALL_TRUCKS_TREND': 'AADTT',\n",
    "                    'SN_VALUE': 'SN',\n",
    "                    }, axis=1)"
   ]
  },
  {
   "cell_type": "code",
   "execution_count": 10,
   "metadata": {},
   "outputs": [
    {
     "data": {
      "text/html": [
       "<div>\n",
       "<style scoped>\n",
       "    .dataframe tbody tr th:only-of-type {\n",
       "        vertical-align: middle;\n",
       "    }\n",
       "\n",
       "    .dataframe tbody tr th {\n",
       "        vertical-align: top;\n",
       "    }\n",
       "\n",
       "    .dataframe thead th {\n",
       "        text-align: right;\n",
       "    }\n",
       "</style>\n",
       "<table border=\"1\" class=\"dataframe\">\n",
       "  <thead>\n",
       "    <tr style=\"text-align: right;\">\n",
       "      <th></th>\n",
       "      <th>Year</th>\n",
       "      <th>IRI</th>\n",
       "      <th>Precipitation</th>\n",
       "      <th>Temperature</th>\n",
       "      <th>AADTT</th>\n",
       "      <th>SN</th>\n",
       "    </tr>\n",
       "  </thead>\n",
       "  <tbody>\n",
       "    <tr>\n",
       "      <th>773</th>\n",
       "      <td>1989</td>\n",
       "      <td>0.896</td>\n",
       "      <td>434.000000</td>\n",
       "      <td>15.1</td>\n",
       "      <td>520</td>\n",
       "      <td>4.7</td>\n",
       "    </tr>\n",
       "    <tr>\n",
       "      <th>1181</th>\n",
       "      <td>1989</td>\n",
       "      <td>0.869</td>\n",
       "      <td>1403.699951</td>\n",
       "      <td>4.4</td>\n",
       "      <td>195</td>\n",
       "      <td>2.8</td>\n",
       "    </tr>\n",
       "    <tr>\n",
       "      <th>1182</th>\n",
       "      <td>1989</td>\n",
       "      <td>0.850</td>\n",
       "      <td>1403.699951</td>\n",
       "      <td>4.4</td>\n",
       "      <td>195</td>\n",
       "      <td>2.8</td>\n",
       "    </tr>\n",
       "    <tr>\n",
       "      <th>1183</th>\n",
       "      <td>1989</td>\n",
       "      <td>0.861</td>\n",
       "      <td>1403.699951</td>\n",
       "      <td>4.4</td>\n",
       "      <td>195</td>\n",
       "      <td>2.8</td>\n",
       "    </tr>\n",
       "    <tr>\n",
       "      <th>1106</th>\n",
       "      <td>1989</td>\n",
       "      <td>1.765</td>\n",
       "      <td>1177.500000</td>\n",
       "      <td>5.1</td>\n",
       "      <td>586</td>\n",
       "      <td>2.8</td>\n",
       "    </tr>\n",
       "  </tbody>\n",
       "</table>\n",
       "</div>"
      ],
      "text/plain": [
       "      Year    IRI  Precipitation  Temperature  AADTT   SN\n",
       "773   1989  0.896     434.000000         15.1    520  4.7\n",
       "1181  1989  0.869    1403.699951          4.4    195  2.8\n",
       "1182  1989  0.850    1403.699951          4.4    195  2.8\n",
       "1183  1989  0.861    1403.699951          4.4    195  2.8\n",
       "1106  1989  1.765    1177.500000          5.1    586  2.8"
      ]
     },
     "execution_count": 10,
     "metadata": {},
     "output_type": "execute_result"
    }
   ],
   "source": [
    "DATA.head()"
   ]
  },
  {
   "cell_type": "code",
   "execution_count": 11,
   "metadata": {},
   "outputs": [],
   "source": [
    "# Split into target and dataset\n",
    "y = DATA['IRI']  # target\n",
    "X = DATA.drop(['IRI'], axis=1)"
   ]
  },
  {
   "cell_type": "code",
   "execution_count": 12,
   "metadata": {},
   "outputs": [
    {
     "data": {
      "text/plain": [
       "(2203, 5)"
      ]
     },
     "execution_count": 12,
     "metadata": {},
     "output_type": "execute_result"
    }
   ],
   "source": [
    "X.shape"
   ]
  },
  {
   "cell_type": "code",
   "execution_count": 13,
   "metadata": {},
   "outputs": [],
   "source": [
    "# Split in 75/25 (train/test)\n",
    "train_threshold = 0.75\n",
    "\n",
    "# Split dataset\n",
    "X_train, X_test, y_train, y_test = train_test_split(\n",
    "    X, y, train_size=train_threshold, random_state=0)"
   ]
  },
  {
   "cell_type": "code",
   "execution_count": 14,
   "metadata": {},
   "outputs": [
    {
     "name": "stdout",
     "output_type": "stream",
     "text": [
      "Data trained! =)\n"
     ]
    }
   ],
   "source": [
    "DT_reg.fit(X_train, y_train)\n",
    "RF_reg.fit(X_train, y_train)\n",
    "XG_reg.fit(X_train, y_train)\n",
    "print('Data trained! =)')"
   ]
  },
  {
   "cell_type": "code",
   "execution_count": 15,
   "metadata": {
    "scrolled": true
   },
   "outputs": [
    {
     "name": "stdout",
     "output_type": "stream",
     "text": [
      "Predicted! =)\n"
     ]
    }
   ],
   "source": [
    "# predict results\n",
    "resultDT = DT_reg.predict(X_test)\n",
    "resultRF = RF_reg.predict(X_test)\n",
    "resultXG = XG_reg.predict(X_test)\n",
    "print('Predicted! =)')"
   ]
  },
  {
   "cell_type": "code",
   "execution_count": 16,
   "metadata": {},
   "outputs": [
    {
     "ename": "ModuleNotFoundError",
     "evalue": "No module named 'statsmodels'",
     "output_type": "error",
     "traceback": [
      "\u001b[0;31m---------------------------------------------------------------------------\u001b[0m",
      "\u001b[0;31mModuleNotFoundError\u001b[0m                       Traceback (most recent call last)",
      "\u001b[0;32m<ipython-input-16-6b0aeb8cface>\u001b[0m in \u001b[0;36m<module>\u001b[0;34m\u001b[0m\n\u001b[1;32m     14\u001b[0m \u001b[0;34m\u001b[0m\u001b[0m\n\u001b[1;32m     15\u001b[0m \u001b[0mg\u001b[0m \u001b[0;34m=\u001b[0m \u001b[0msns\u001b[0m\u001b[0;34m.\u001b[0m\u001b[0mPairGrid\u001b[0m\u001b[0;34m(\u001b[0m\u001b[0mDATA\u001b[0m\u001b[0;34m,\u001b[0m \u001b[0maspect\u001b[0m\u001b[0;34m=\u001b[0m\u001b[0;36m1.4\u001b[0m\u001b[0;34m,\u001b[0m \u001b[0mdiag_sharey\u001b[0m\u001b[0;34m=\u001b[0m\u001b[0;32mFalse\u001b[0m\u001b[0;34m)\u001b[0m\u001b[0;34m\u001b[0m\u001b[0;34m\u001b[0m\u001b[0m\n\u001b[0;32m---> 16\u001b[0;31m \u001b[0mg\u001b[0m\u001b[0;34m.\u001b[0m\u001b[0mmap_lower\u001b[0m\u001b[0;34m(\u001b[0m\u001b[0msns\u001b[0m\u001b[0;34m.\u001b[0m\u001b[0mregplot\u001b[0m\u001b[0;34m,\u001b[0m \u001b[0mlowess\u001b[0m\u001b[0;34m=\u001b[0m\u001b[0;32mTrue\u001b[0m\u001b[0;34m,\u001b[0m \u001b[0mci\u001b[0m\u001b[0;34m=\u001b[0m\u001b[0;32mFalse\u001b[0m\u001b[0;34m,\u001b[0m \u001b[0mline_kws\u001b[0m\u001b[0;34m=\u001b[0m\u001b[0;34m{\u001b[0m\u001b[0;34m'color'\u001b[0m\u001b[0;34m:\u001b[0m \u001b[0;34m'black'\u001b[0m\u001b[0;34m}\u001b[0m\u001b[0;34m)\u001b[0m\u001b[0;34m\u001b[0m\u001b[0;34m\u001b[0m\u001b[0m\n\u001b[0m\u001b[1;32m     17\u001b[0m \u001b[0mg\u001b[0m\u001b[0;34m.\u001b[0m\u001b[0mmap_diag\u001b[0m\u001b[0;34m(\u001b[0m\u001b[0msns\u001b[0m\u001b[0;34m.\u001b[0m\u001b[0mdistplot\u001b[0m\u001b[0;34m,\u001b[0m \u001b[0mkde_kws\u001b[0m\u001b[0;34m=\u001b[0m\u001b[0;34m{\u001b[0m\u001b[0;34m'color'\u001b[0m\u001b[0;34m:\u001b[0m \u001b[0;34m'black'\u001b[0m\u001b[0;34m}\u001b[0m\u001b[0;34m)\u001b[0m\u001b[0;34m\u001b[0m\u001b[0;34m\u001b[0m\u001b[0m\n\u001b[1;32m     18\u001b[0m \u001b[0mg\u001b[0m\u001b[0;34m.\u001b[0m\u001b[0mmap_upper\u001b[0m\u001b[0;34m(\u001b[0m\u001b[0mcorrdot\u001b[0m\u001b[0;34m)\u001b[0m\u001b[0;34m\u001b[0m\u001b[0;34m\u001b[0m\u001b[0m\n",
      "\u001b[0;32m~/.local/lib/python3.8/site-packages/seaborn/axisgrid.py\u001b[0m in \u001b[0;36mmap_lower\u001b[0;34m(self, func, **kwargs)\u001b[0m\n\u001b[1;32m   1264\u001b[0m         \"\"\"\n\u001b[1;32m   1265\u001b[0m         \u001b[0mindices\u001b[0m \u001b[0;34m=\u001b[0m \u001b[0mzip\u001b[0m\u001b[0;34m(\u001b[0m\u001b[0;34m*\u001b[0m\u001b[0mnp\u001b[0m\u001b[0;34m.\u001b[0m\u001b[0mtril_indices_from\u001b[0m\u001b[0;34m(\u001b[0m\u001b[0mself\u001b[0m\u001b[0;34m.\u001b[0m\u001b[0maxes\u001b[0m\u001b[0;34m,\u001b[0m \u001b[0;34m-\u001b[0m\u001b[0;36m1\u001b[0m\u001b[0;34m)\u001b[0m\u001b[0;34m)\u001b[0m\u001b[0;34m\u001b[0m\u001b[0;34m\u001b[0m\u001b[0m\n\u001b[0;32m-> 1266\u001b[0;31m         \u001b[0mself\u001b[0m\u001b[0;34m.\u001b[0m\u001b[0m_map_bivariate\u001b[0m\u001b[0;34m(\u001b[0m\u001b[0mfunc\u001b[0m\u001b[0;34m,\u001b[0m \u001b[0mindices\u001b[0m\u001b[0;34m,\u001b[0m \u001b[0;34m**\u001b[0m\u001b[0mkwargs\u001b[0m\u001b[0;34m)\u001b[0m\u001b[0;34m\u001b[0m\u001b[0;34m\u001b[0m\u001b[0m\n\u001b[0m\u001b[1;32m   1267\u001b[0m         \u001b[0;32mreturn\u001b[0m \u001b[0mself\u001b[0m\u001b[0;34m\u001b[0m\u001b[0;34m\u001b[0m\u001b[0m\n\u001b[1;32m   1268\u001b[0m \u001b[0;34m\u001b[0m\u001b[0m\n",
      "\u001b[0;32m~/.local/lib/python3.8/site-packages/seaborn/axisgrid.py\u001b[0m in \u001b[0;36m_map_bivariate\u001b[0;34m(self, func, indices, **kwargs)\u001b[0m\n\u001b[1;32m   1432\u001b[0m             \u001b[0my_var\u001b[0m \u001b[0;34m=\u001b[0m \u001b[0mself\u001b[0m\u001b[0;34m.\u001b[0m\u001b[0my_vars\u001b[0m\u001b[0;34m[\u001b[0m\u001b[0mi\u001b[0m\u001b[0;34m]\u001b[0m\u001b[0;34m\u001b[0m\u001b[0;34m\u001b[0m\u001b[0m\n\u001b[1;32m   1433\u001b[0m             \u001b[0max\u001b[0m \u001b[0;34m=\u001b[0m \u001b[0mself\u001b[0m\u001b[0;34m.\u001b[0m\u001b[0maxes\u001b[0m\u001b[0;34m[\u001b[0m\u001b[0mi\u001b[0m\u001b[0;34m,\u001b[0m \u001b[0mj\u001b[0m\u001b[0;34m]\u001b[0m\u001b[0;34m\u001b[0m\u001b[0;34m\u001b[0m\u001b[0m\n\u001b[0;32m-> 1434\u001b[0;31m             \u001b[0mself\u001b[0m\u001b[0;34m.\u001b[0m\u001b[0m_plot_bivariate\u001b[0m\u001b[0;34m(\u001b[0m\u001b[0mx_var\u001b[0m\u001b[0;34m,\u001b[0m \u001b[0my_var\u001b[0m\u001b[0;34m,\u001b[0m \u001b[0max\u001b[0m\u001b[0;34m,\u001b[0m \u001b[0mfunc\u001b[0m\u001b[0;34m,\u001b[0m \u001b[0;34m**\u001b[0m\u001b[0mkws\u001b[0m\u001b[0;34m)\u001b[0m\u001b[0;34m\u001b[0m\u001b[0;34m\u001b[0m\u001b[0m\n\u001b[0m\u001b[1;32m   1435\u001b[0m         \u001b[0mself\u001b[0m\u001b[0;34m.\u001b[0m\u001b[0m_add_axis_labels\u001b[0m\u001b[0;34m(\u001b[0m\u001b[0;34m)\u001b[0m\u001b[0;34m\u001b[0m\u001b[0;34m\u001b[0m\u001b[0m\n\u001b[1;32m   1436\u001b[0m \u001b[0;34m\u001b[0m\u001b[0m\n",
      "\u001b[0;32m~/.local/lib/python3.8/site-packages/seaborn/axisgrid.py\u001b[0m in \u001b[0;36m_plot_bivariate\u001b[0;34m(self, x_var, y_var, ax, func, **kwargs)\u001b[0m\n\u001b[1;32m   1441\u001b[0m         \u001b[0;34m\"\"\"Draw a bivariate plot on the specified axes.\"\"\"\u001b[0m\u001b[0;34m\u001b[0m\u001b[0;34m\u001b[0m\u001b[0m\n\u001b[1;32m   1442\u001b[0m         \u001b[0;32mif\u001b[0m \u001b[0;34m\"hue\"\u001b[0m \u001b[0;32mnot\u001b[0m \u001b[0;32min\u001b[0m \u001b[0msignature\u001b[0m\u001b[0;34m(\u001b[0m\u001b[0mfunc\u001b[0m\u001b[0;34m)\u001b[0m\u001b[0;34m.\u001b[0m\u001b[0mparameters\u001b[0m\u001b[0;34m:\u001b[0m\u001b[0;34m\u001b[0m\u001b[0;34m\u001b[0m\u001b[0m\n\u001b[0;32m-> 1443\u001b[0;31m             \u001b[0mself\u001b[0m\u001b[0;34m.\u001b[0m\u001b[0m_plot_bivariate_iter_hue\u001b[0m\u001b[0;34m(\u001b[0m\u001b[0mx_var\u001b[0m\u001b[0;34m,\u001b[0m \u001b[0my_var\u001b[0m\u001b[0;34m,\u001b[0m \u001b[0max\u001b[0m\u001b[0;34m,\u001b[0m \u001b[0mfunc\u001b[0m\u001b[0;34m,\u001b[0m \u001b[0;34m**\u001b[0m\u001b[0mkwargs\u001b[0m\u001b[0;34m)\u001b[0m\u001b[0;34m\u001b[0m\u001b[0;34m\u001b[0m\u001b[0m\n\u001b[0m\u001b[1;32m   1444\u001b[0m             \u001b[0;32mreturn\u001b[0m\u001b[0;34m\u001b[0m\u001b[0;34m\u001b[0m\u001b[0m\n\u001b[1;32m   1445\u001b[0m \u001b[0;34m\u001b[0m\u001b[0m\n",
      "\u001b[0;32m~/.local/lib/python3.8/site-packages/seaborn/axisgrid.py\u001b[0m in \u001b[0;36m_plot_bivariate_iter_hue\u001b[0;34m(self, x_var, y_var, ax, func, **kwargs)\u001b[0m\n\u001b[1;32m   1507\u001b[0m \u001b[0;34m\u001b[0m\u001b[0m\n\u001b[1;32m   1508\u001b[0m             \u001b[0;32mif\u001b[0m \u001b[0mstr\u001b[0m\u001b[0;34m(\u001b[0m\u001b[0mfunc\u001b[0m\u001b[0;34m.\u001b[0m\u001b[0m__module__\u001b[0m\u001b[0;34m)\u001b[0m\u001b[0;34m.\u001b[0m\u001b[0mstartswith\u001b[0m\u001b[0;34m(\u001b[0m\u001b[0;34m\"seaborn\"\u001b[0m\u001b[0;34m)\u001b[0m\u001b[0;34m:\u001b[0m\u001b[0;34m\u001b[0m\u001b[0;34m\u001b[0m\u001b[0m\n\u001b[0;32m-> 1509\u001b[0;31m                 \u001b[0mfunc\u001b[0m\u001b[0;34m(\u001b[0m\u001b[0mx\u001b[0m\u001b[0;34m=\u001b[0m\u001b[0mx\u001b[0m\u001b[0;34m,\u001b[0m \u001b[0my\u001b[0m\u001b[0;34m=\u001b[0m\u001b[0my\u001b[0m\u001b[0;34m,\u001b[0m \u001b[0;34m**\u001b[0m\u001b[0mkws\u001b[0m\u001b[0;34m)\u001b[0m\u001b[0;34m\u001b[0m\u001b[0;34m\u001b[0m\u001b[0m\n\u001b[0m\u001b[1;32m   1510\u001b[0m             \u001b[0;32melse\u001b[0m\u001b[0;34m:\u001b[0m\u001b[0;34m\u001b[0m\u001b[0;34m\u001b[0m\u001b[0m\n\u001b[1;32m   1511\u001b[0m                 \u001b[0mfunc\u001b[0m\u001b[0;34m(\u001b[0m\u001b[0mx\u001b[0m\u001b[0;34m,\u001b[0m \u001b[0my\u001b[0m\u001b[0;34m,\u001b[0m \u001b[0;34m**\u001b[0m\u001b[0mkws\u001b[0m\u001b[0;34m)\u001b[0m\u001b[0;34m\u001b[0m\u001b[0;34m\u001b[0m\u001b[0m\n",
      "\u001b[0;32m~/.local/lib/python3.8/site-packages/seaborn/_decorators.py\u001b[0m in \u001b[0;36minner_f\u001b[0;34m(*args, **kwargs)\u001b[0m\n\u001b[1;32m     44\u001b[0m             )\n\u001b[1;32m     45\u001b[0m         \u001b[0mkwargs\u001b[0m\u001b[0;34m.\u001b[0m\u001b[0mupdate\u001b[0m\u001b[0;34m(\u001b[0m\u001b[0;34m{\u001b[0m\u001b[0mk\u001b[0m\u001b[0;34m:\u001b[0m \u001b[0marg\u001b[0m \u001b[0;32mfor\u001b[0m \u001b[0mk\u001b[0m\u001b[0;34m,\u001b[0m \u001b[0marg\u001b[0m \u001b[0;32min\u001b[0m \u001b[0mzip\u001b[0m\u001b[0;34m(\u001b[0m\u001b[0msig\u001b[0m\u001b[0;34m.\u001b[0m\u001b[0mparameters\u001b[0m\u001b[0;34m,\u001b[0m \u001b[0margs\u001b[0m\u001b[0;34m)\u001b[0m\u001b[0;34m}\u001b[0m\u001b[0;34m)\u001b[0m\u001b[0;34m\u001b[0m\u001b[0;34m\u001b[0m\u001b[0m\n\u001b[0;32m---> 46\u001b[0;31m         \u001b[0;32mreturn\u001b[0m \u001b[0mf\u001b[0m\u001b[0;34m(\u001b[0m\u001b[0;34m**\u001b[0m\u001b[0mkwargs\u001b[0m\u001b[0;34m)\u001b[0m\u001b[0;34m\u001b[0m\u001b[0;34m\u001b[0m\u001b[0m\n\u001b[0m\u001b[1;32m     47\u001b[0m     \u001b[0;32mreturn\u001b[0m \u001b[0minner_f\u001b[0m\u001b[0;34m\u001b[0m\u001b[0;34m\u001b[0m\u001b[0m\n\u001b[1;32m     48\u001b[0m \u001b[0;34m\u001b[0m\u001b[0m\n",
      "\u001b[0;32m~/.local/lib/python3.8/site-packages/seaborn/regression.py\u001b[0m in \u001b[0;36mregplot\u001b[0;34m(x, y, data, x_estimator, x_bins, x_ci, scatter, fit_reg, ci, n_boot, units, seed, order, logistic, lowess, robust, logx, x_partial, y_partial, truncate, dropna, x_jitter, y_jitter, label, color, marker, scatter_kws, line_kws, ax)\u001b[0m\n\u001b[1;32m    833\u001b[0m     \u001b[0mscatter_kws\u001b[0m\u001b[0;34m[\u001b[0m\u001b[0;34m\"marker\"\u001b[0m\u001b[0;34m]\u001b[0m \u001b[0;34m=\u001b[0m \u001b[0mmarker\u001b[0m\u001b[0;34m\u001b[0m\u001b[0;34m\u001b[0m\u001b[0m\n\u001b[1;32m    834\u001b[0m     \u001b[0mline_kws\u001b[0m \u001b[0;34m=\u001b[0m \u001b[0;34m{\u001b[0m\u001b[0;34m}\u001b[0m \u001b[0;32mif\u001b[0m \u001b[0mline_kws\u001b[0m \u001b[0;32mis\u001b[0m \u001b[0;32mNone\u001b[0m \u001b[0;32melse\u001b[0m \u001b[0mcopy\u001b[0m\u001b[0;34m.\u001b[0m\u001b[0mcopy\u001b[0m\u001b[0;34m(\u001b[0m\u001b[0mline_kws\u001b[0m\u001b[0;34m)\u001b[0m\u001b[0;34m\u001b[0m\u001b[0;34m\u001b[0m\u001b[0m\n\u001b[0;32m--> 835\u001b[0;31m     \u001b[0mplotter\u001b[0m\u001b[0;34m.\u001b[0m\u001b[0mplot\u001b[0m\u001b[0;34m(\u001b[0m\u001b[0max\u001b[0m\u001b[0;34m,\u001b[0m \u001b[0mscatter_kws\u001b[0m\u001b[0;34m,\u001b[0m \u001b[0mline_kws\u001b[0m\u001b[0;34m)\u001b[0m\u001b[0;34m\u001b[0m\u001b[0;34m\u001b[0m\u001b[0m\n\u001b[0m\u001b[1;32m    836\u001b[0m     \u001b[0;32mreturn\u001b[0m \u001b[0max\u001b[0m\u001b[0;34m\u001b[0m\u001b[0;34m\u001b[0m\u001b[0m\n\u001b[1;32m    837\u001b[0m \u001b[0;34m\u001b[0m\u001b[0m\n",
      "\u001b[0;32m~/.local/lib/python3.8/site-packages/seaborn/regression.py\u001b[0m in \u001b[0;36mplot\u001b[0;34m(self, ax, scatter_kws, line_kws)\u001b[0m\n\u001b[1;32m    368\u001b[0m \u001b[0;34m\u001b[0m\u001b[0m\n\u001b[1;32m    369\u001b[0m         \u001b[0;32mif\u001b[0m \u001b[0mself\u001b[0m\u001b[0;34m.\u001b[0m\u001b[0mfit_reg\u001b[0m\u001b[0;34m:\u001b[0m\u001b[0;34m\u001b[0m\u001b[0;34m\u001b[0m\u001b[0m\n\u001b[0;32m--> 370\u001b[0;31m             \u001b[0mself\u001b[0m\u001b[0;34m.\u001b[0m\u001b[0mlineplot\u001b[0m\u001b[0;34m(\u001b[0m\u001b[0max\u001b[0m\u001b[0;34m,\u001b[0m \u001b[0mline_kws\u001b[0m\u001b[0;34m)\u001b[0m\u001b[0;34m\u001b[0m\u001b[0;34m\u001b[0m\u001b[0m\n\u001b[0m\u001b[1;32m    371\u001b[0m \u001b[0;34m\u001b[0m\u001b[0m\n\u001b[1;32m    372\u001b[0m         \u001b[0;31m# Label the axes\u001b[0m\u001b[0;34m\u001b[0m\u001b[0;34m\u001b[0m\u001b[0;34m\u001b[0m\u001b[0m\n",
      "\u001b[0;32m~/.local/lib/python3.8/site-packages/seaborn/regression.py\u001b[0m in \u001b[0;36mlineplot\u001b[0;34m(self, ax, kws)\u001b[0m\n\u001b[1;32m    411\u001b[0m         \u001b[0;34m\"\"\"Draw the model.\"\"\"\u001b[0m\u001b[0;34m\u001b[0m\u001b[0;34m\u001b[0m\u001b[0m\n\u001b[1;32m    412\u001b[0m         \u001b[0;31m# Fit the regression model\u001b[0m\u001b[0;34m\u001b[0m\u001b[0;34m\u001b[0m\u001b[0;34m\u001b[0m\u001b[0m\n\u001b[0;32m--> 413\u001b[0;31m         \u001b[0mgrid\u001b[0m\u001b[0;34m,\u001b[0m \u001b[0myhat\u001b[0m\u001b[0;34m,\u001b[0m \u001b[0merr_bands\u001b[0m \u001b[0;34m=\u001b[0m \u001b[0mself\u001b[0m\u001b[0;34m.\u001b[0m\u001b[0mfit_regression\u001b[0m\u001b[0;34m(\u001b[0m\u001b[0max\u001b[0m\u001b[0;34m)\u001b[0m\u001b[0;34m\u001b[0m\u001b[0;34m\u001b[0m\u001b[0m\n\u001b[0m\u001b[1;32m    414\u001b[0m         \u001b[0medges\u001b[0m \u001b[0;34m=\u001b[0m \u001b[0mgrid\u001b[0m\u001b[0;34m[\u001b[0m\u001b[0;36m0\u001b[0m\u001b[0;34m]\u001b[0m\u001b[0;34m,\u001b[0m \u001b[0mgrid\u001b[0m\u001b[0;34m[\u001b[0m\u001b[0;34m-\u001b[0m\u001b[0;36m1\u001b[0m\u001b[0;34m]\u001b[0m\u001b[0;34m\u001b[0m\u001b[0;34m\u001b[0m\u001b[0m\n\u001b[1;32m    415\u001b[0m \u001b[0;34m\u001b[0m\u001b[0m\n",
      "\u001b[0;32m~/.local/lib/python3.8/site-packages/seaborn/regression.py\u001b[0m in \u001b[0;36mfit_regression\u001b[0;34m(self, ax, x_range, grid)\u001b[0m\n\u001b[1;32m    212\u001b[0m         \u001b[0;32melif\u001b[0m \u001b[0mself\u001b[0m\u001b[0;34m.\u001b[0m\u001b[0mlowess\u001b[0m\u001b[0;34m:\u001b[0m\u001b[0;34m\u001b[0m\u001b[0;34m\u001b[0m\u001b[0m\n\u001b[1;32m    213\u001b[0m             \u001b[0mci\u001b[0m \u001b[0;34m=\u001b[0m \u001b[0;32mNone\u001b[0m\u001b[0;34m\u001b[0m\u001b[0;34m\u001b[0m\u001b[0m\n\u001b[0;32m--> 214\u001b[0;31m             \u001b[0mgrid\u001b[0m\u001b[0;34m,\u001b[0m \u001b[0myhat\u001b[0m \u001b[0;34m=\u001b[0m \u001b[0mself\u001b[0m\u001b[0;34m.\u001b[0m\u001b[0mfit_lowess\u001b[0m\u001b[0;34m(\u001b[0m\u001b[0;34m)\u001b[0m\u001b[0;34m\u001b[0m\u001b[0;34m\u001b[0m\u001b[0m\n\u001b[0m\u001b[1;32m    215\u001b[0m         \u001b[0;32melif\u001b[0m \u001b[0mself\u001b[0m\u001b[0;34m.\u001b[0m\u001b[0mrobust\u001b[0m\u001b[0;34m:\u001b[0m\u001b[0;34m\u001b[0m\u001b[0;34m\u001b[0m\u001b[0m\n\u001b[1;32m    216\u001b[0m             \u001b[0;32mfrom\u001b[0m \u001b[0mstatsmodels\u001b[0m\u001b[0;34m.\u001b[0m\u001b[0mrobust\u001b[0m\u001b[0;34m.\u001b[0m\u001b[0mrobust_linear_model\u001b[0m \u001b[0;32mimport\u001b[0m \u001b[0mRLM\u001b[0m\u001b[0;34m\u001b[0m\u001b[0;34m\u001b[0m\u001b[0m\n",
      "\u001b[0;32m~/.local/lib/python3.8/site-packages/seaborn/regression.py\u001b[0m in \u001b[0;36mfit_lowess\u001b[0;34m(self)\u001b[0m\n\u001b[1;32m    292\u001b[0m     \u001b[0;32mdef\u001b[0m \u001b[0mfit_lowess\u001b[0m\u001b[0;34m(\u001b[0m\u001b[0mself\u001b[0m\u001b[0;34m)\u001b[0m\u001b[0;34m:\u001b[0m\u001b[0;34m\u001b[0m\u001b[0;34m\u001b[0m\u001b[0m\n\u001b[1;32m    293\u001b[0m         \u001b[0;34m\"\"\"Fit a locally-weighted regression, which returns its own grid.\"\"\"\u001b[0m\u001b[0;34m\u001b[0m\u001b[0;34m\u001b[0m\u001b[0m\n\u001b[0;32m--> 294\u001b[0;31m         \u001b[0;32mfrom\u001b[0m \u001b[0mstatsmodels\u001b[0m\u001b[0;34m.\u001b[0m\u001b[0mnonparametric\u001b[0m\u001b[0;34m.\u001b[0m\u001b[0msmoothers_lowess\u001b[0m \u001b[0;32mimport\u001b[0m \u001b[0mlowess\u001b[0m\u001b[0;34m\u001b[0m\u001b[0;34m\u001b[0m\u001b[0m\n\u001b[0m\u001b[1;32m    295\u001b[0m         \u001b[0mgrid\u001b[0m\u001b[0;34m,\u001b[0m \u001b[0myhat\u001b[0m \u001b[0;34m=\u001b[0m \u001b[0mlowess\u001b[0m\u001b[0;34m(\u001b[0m\u001b[0mself\u001b[0m\u001b[0;34m.\u001b[0m\u001b[0my\u001b[0m\u001b[0;34m,\u001b[0m \u001b[0mself\u001b[0m\u001b[0;34m.\u001b[0m\u001b[0mx\u001b[0m\u001b[0;34m)\u001b[0m\u001b[0;34m.\u001b[0m\u001b[0mT\u001b[0m\u001b[0;34m\u001b[0m\u001b[0;34m\u001b[0m\u001b[0m\n\u001b[1;32m    296\u001b[0m         \u001b[0;32mreturn\u001b[0m \u001b[0mgrid\u001b[0m\u001b[0;34m,\u001b[0m \u001b[0myhat\u001b[0m\u001b[0;34m\u001b[0m\u001b[0;34m\u001b[0m\u001b[0m\n",
      "\u001b[0;31mModuleNotFoundError\u001b[0m: No module named 'statsmodels'"
     ]
    },
    {
     "data": {
      "image/png": "[encoded data removed]",
      "text/plain": [
       "<Figure size 1512x1080 with 36 Axes>"
      ]
     },
     "metadata": {},
     "output_type": "display_data"
    }
   ],
   "source": [
    "def corrdot(*args, **kwargs):\n",
    "    corr_r = args[0].corr(args[1], 'pearson')\n",
    "    corr_text = f\"{corr_r:2.2f}\".replace(\"0.\", \".\")\n",
    "    ax = plt.gca()\n",
    "    ax.set_axis_off()\n",
    "    marker_size = abs(corr_r) * 30000\n",
    "    ax.scatter([.5], [.5], marker_size, [corr_r], alpha=0.6, cmap=\"coolwarm\",\n",
    "               vmin=-1, vmax=1, transform=ax.transAxes)\n",
    "    font_size = abs(corr_r) * 50 + 5\n",
    "    ax.annotate(corr_text, [.5, .5,],  xycoords=\"axes fraction\",\n",
    "                ha='center', va='center', fontsize=font_size)\n",
    "\n",
    "sns.set(style='ticks', font_scale=1.6)\n",
    "\n",
    "g = sns.PairGrid(DATA, aspect=1.4, diag_sharey=False)\n",
    "g.map_lower(sns.regplot, lowess=True, ci=False, line_kws={'color': 'black'})\n",
    "g.map_diag(sns.distplot, kde_kws={'color': 'black'})\n",
    "g.map_upper(corrdot)\n",
    "g.savefig('results/scatter_matrixSNS.png')"
   ]
  },
  {
   "cell_type": "code",
   "execution_count": null,
   "metadata": {},
   "outputs": [],
   "source": [
    "# feature importance for DT\n",
    "importanceDT = DT_reg.feature_importances_\n",
    "graphImportanceDT = pd.Series(importanceDT, index=X_train.columns).sort_values().plot.barh()\n",
    "fig = graphImportanceDT.get_figure()\n",
    "fig.savefig('results/importanceDT.png')"
   ]
  },
  {
   "cell_type": "code",
   "execution_count": null,
   "metadata": {},
   "outputs": [],
   "source": [
    "# summarize feature importance for DT\n",
    "for i, v in enumerate(importanceDT):\n",
    "    print('Feature: %s, Score: %.5f' % (X_train.columns[i], v))"
   ]
  },
  {
   "cell_type": "code",
   "execution_count": null,
   "metadata": {},
   "outputs": [],
   "source": [
    "# feature importance for RF\n",
    "importanceRF = RF_reg.feature_importances_\n",
    "graphImportanceRF = pd.Series(importanceRF, index=X_train.columns).sort_values().plot.barh()\n",
    "\n",
    "fig = graphImportanceRF.get_figure()\n",
    "fig.savefig('results/importanceRF.png')"
   ]
  },
  {
   "cell_type": "code",
   "execution_count": null,
   "metadata": {},
   "outputs": [],
   "source": [
    "# summarize feature importance for RF\n",
    "for i, v in enumerate(importanceRF):\n",
    "    print('Feature: %s, Score: %.5f' % (X_train.columns[i], v))"
   ]
  },
  {
   "cell_type": "code",
   "execution_count": null,
   "metadata": {},
   "outputs": [],
   "source": [
    "# feature importance for XGBoost\n",
    "importanceXG = XG_reg.feature_importances_\n",
    "graphImportanceXG = pd.Series(importanceXG, index=X_train.columns).sort_values().plot.barh()\n",
    "\n",
    "fig = graphImportanceXG.get_figure()\n",
    "fig.savefig('results/importanceXG.png')"
   ]
  },
  {
   "cell_type": "code",
   "execution_count": null,
   "metadata": {},
   "outputs": [],
   "source": [
    "# summarize feature importance for XGBoost\n",
    "for i, v in enumerate(importanceXG):\n",
    "    print('Feature: %s, Score: %.5f' % (X_train.columns[i], v))"
   ]
  },
  {
   "cell_type": "code",
   "execution_count": null,
   "metadata": {},
   "outputs": [],
   "source": [
    "# Metrics\n",
    "def r2(y_test, y_pred):\n",
    "    return round(r2_score(y_test, y_pred), 2)\n",
    "\n",
    "\n",
    "def rmse(y_test, y_pred):\n",
    "    return round(np.sqrt(mean_squared_error(y_test, y_pred)), 2)\n",
    "\n",
    "\n",
    "def mae(y_test, y_pred):\n",
    "    return round(mean_absolute_error(y_test, y_pred), 2)\n",
    "\n",
    "\n",
    "# r2\n",
    "r2DT = r2(y_test, resultDT)\n",
    "r2RF = r2(y_test, resultRF)\n",
    "r2XG = r2(y_test, resultXG)\n",
    "\n",
    "# rmse\n",
    "rmseDT = rmse(y_test, resultDT)\n",
    "rmseRF = rmse(y_test, resultRF)\n",
    "rmseXG = rmse(y_test, resultXG)\n",
    "\n",
    "# MAE\n",
    "maeDT = mae(y_test, resultDT)\n",
    "maeRF = mae(y_test, resultRF)\n",
    "maeXG = mae(y_test, resultXG)"
   ]
  },
  {
   "cell_type": "code",
   "execution_count": null,
   "metadata": {},
   "outputs": [],
   "source": [
    "# calc. of samples\n",
    "n_train = int(X.shape[0]*train_threshold)\n",
    "n_test = int(X.shape[0])-n_train"
   ]
  },
  {
   "cell_type": "code",
   "execution_count": null,
   "metadata": {},
   "outputs": [],
   "source": [
    "# np.shape(TreeRegResult)[0]\n",
    "x = np.arange(np.shape(y_test)[0])"
   ]
  },
  {
   "cell_type": "code",
   "execution_count": null,
   "metadata": {},
   "outputs": [],
   "source": [
    "# plot all results\n",
    "plt.rcParams['figure.figsize'] = (8, 8)\n",
    "plt.plot(y_test, resultDT, 'g.', label='Decision Tree Prediction')\n",
    "plt.plot(y_test, resultRF, 'b.', label='Random Forest Prediction')\n",
    "plt.plot(y_test, resultXG, 'r.', label='XGBoost Prediction')\n",
    "plt.xlabel('Actual IRI (m/km)')\n",
    "plt.ylabel('Predict IRI (m/km)')\n",
    "plt.plot(x, x, 'k-')  # identity line\n",
    "# poor to fair threshold.. 2.7\n",
    "# plt.hlines(2.7, 0, 2.7, colors='black', linestyles='dashed', linewidth=1.2)\n",
    "# plt.vlines(2.7, 0, 2.7, colors='black', linestyles='dashed', linewidth=1.2)\n",
    "plt.axis([0, 5, 0, 5])\n",
    "leg = plt.legend()\n",
    "leg.get_frame().set_linewidth(0.0)\n",
    "plt.title(\"All models\")\n",
    "plt.savefig('results/treesComparison.png')\n",
    "plt.show()"
   ]
  },
  {
   "cell_type": "code",
   "execution_count": null,
   "metadata": {},
   "outputs": [],
   "source": [
    "# plot DT results (test)\n",
    "plt.rcParams['figure.figsize'] = (8,8)\n",
    "plt.plot(y_test, resultDT, 'g.')\n",
    "plt.xlabel('Actual IRI (m/km)')\n",
    "plt.ylabel('Predict IRI (m/km)')\n",
    "plt.plot(x, x, 'k-')  # identity line\n",
    "plt.axis([0, 5, 0, 5])\n",
    "s = \"R² = %.2f \\nRMSE = %.2f\\nn = %i\" % (r2DT, rmseDT, n_test)\n",
    "plt.text(0.2, 4.1, s, fontsize=20)\n",
    "plt.title(\"Decision Tree Prediction\")\n",
    "plt.savefig('results/DT.png')\n",
    "plt.show()"
   ]
  },
  {
   "cell_type": "code",
   "execution_count": null,
   "metadata": {},
   "outputs": [],
   "source": [
    "# plot RF results\n",
    "plt.rcParams['figure.figsize'] = (8, 8)\n",
    "plt.plot(y_test, resultRF, 'b.')\n",
    "plt.xlabel('Actual IRI (m/km)')\n",
    "plt.ylabel('Predict IRI (m/km)')\n",
    "plt.plot(x, x, 'k-')  # identity line\n",
    "plt.axis([0, 5, 0, 5])\n",
    "s = \"R² = %.2f \\nRMSE = %.2f\\nn = %i\" % (r2RF, rmseRF, n_test)\n",
    "plt.text(0.2, 4.1, s, fontsize=20)\n",
    "plt.title(\"Random Forest Prediction\")\n",
    "plt.savefig('results/RF.png')\n",
    "plt.show()"
   ]
  },
  {
   "cell_type": "code",
   "execution_count": null,
   "metadata": {},
   "outputs": [],
   "source": [
    "# plot XGBoost results\n",
    "plt.rcParams['figure.figsize'] = (8, 8)\n",
    "plt.plot(y_test, resultXG, 'r.', label='XGBoost Prediction')\n",
    "plt.xlabel('Actual IRI (m/km)')\n",
    "plt.ylabel('Predict IRI (m/km)')\n",
    "plt.plot(x, x, 'k-')  # identity line\n",
    "plt.axis([0, 5, 0, 5])\n",
    "s = \"R² = %.2f \\nRMSE = %.2f\\nn = %i\" % (r2XG, rmseXG, n_test)\n",
    "plt.text(0.2, 4.1, s, fontsize=18)\n",
    "plt.title(\"XGBoost Prediction\")\n",
    "plt.savefig('results/XGBoost.png')\n",
    "plt.show()"
   ]
  },
  {
   "cell_type": "code",
   "execution_count": null,
   "metadata": {},
   "outputs": [],
   "source": [
    "# save models\n",
    "filenameDT = 'results/ltppIRI_DT.mlmodel'\n",
    "pickle.dump(DT_reg, open(filenameDT, 'wb'))\n",
    "\n",
    "filenameRF = 'results/ltppIRI_RF.mlmodel'\n",
    "pickle.dump(DT_reg, open(filenameRF, 'wb'))\n",
    "\n",
    "filenameXG = 'results/ltppIRI_XG.mlmodel'\n",
    "pickle.dump(DT_reg, open(filenameXG, 'wb'))"
   ]
  },
  {
   "cell_type": "code",
   "execution_count": null,
   "metadata": {},
   "outputs": [],
   "source": [
    "# plt.figure(figsize=(15, 8))\n",
    "# plot_tree(DT_reg, feature_names=list(X_train), node_ids=True, proportion=True, rounded=True, filled=True)"
   ]
  },
  {
   "cell_type": "code",
   "execution_count": null,
   "metadata": {},
   "outputs": [],
   "source": [
    "\"\"\"\n",
    "plt.figure(figsize=(15, 8))\n",
    "plot_tree(RF_reg.estimators_[0],\n",
    "          feature_names=list(X_train),\n",
    "          node_ids=True,\n",
    "          proportion=True,\n",
    "          rounded=True,\n",
    "          filled=True)\n",
    "\"\"\""
   ]
  },
  {
   "cell_type": "code",
   "execution_count": null,
   "metadata": {},
   "outputs": [],
   "source": [
    "\"\"\"\n",
    "xgb.plot_tree(XG_reg, num_trees=0)\n",
    "plt.rcParams['figure.figsize'] = [280, 600]\n",
    "plt.savefig('results/XGBoostTree_0.png')\n",
    "plt.show()\n",
    "\"\"\""
   ]
  },
  {
   "cell_type": "code",
   "execution_count": null,
   "metadata": {
    "scrolled": true
   },
   "outputs": [],
   "source": [
    "r2DT, r2RF, r2XG"
   ]
  },
  {
   "cell_type": "code",
   "execution_count": null,
   "metadata": {},
   "outputs": [],
   "source": [
    "rmseDT, rmseRF, rmseXG"
   ]
  },
  {
   "cell_type": "code",
   "execution_count": null,
   "metadata": {},
   "outputs": [],
   "source": [
    "maeDT, maeRF, maeXG"
   ]
  },
  {
   "cell_type": "code",
   "execution_count": null,
   "metadata": {},
   "outputs": [],
   "source": [
    "# tuning depth of trees R2\n",
    "depth = 10\n",
    "\n",
    "max_depths = np.linspace(1, depth, depth, endpoint=True)\n",
    "\n",
    "r2DT_results = []\n",
    "r2RF_results = []\n",
    "r2XG_results = []\n",
    "\n",
    "rmseDT_results = []\n",
    "rmseRF_results = []\n",
    "rmseXG_results = []\n",
    "\n",
    "maeDT_results = []\n",
    "maeRF_results = []\n",
    "maeXG_results = []\n",
    "\n",
    "for max_depth in max_depths:\n",
    "    dt = DecisionTreeRegressor(random_state=0, max_depth=max_depth)\n",
    "    dt.fit(X_train, y_train)   \n",
    "    DT_pred = dt.predict(X_test)   \n",
    "    \n",
    "    r2_DT = r2(y_test, DT_pred)\n",
    "    rmse_DT = rmse(y_test, DT_pred)\n",
    "    mae_DT = mae(y_test, DT_pred)\n",
    "    \n",
    "    r2DT_results.append(r2_DT)\n",
    "    rmseDT_results.append(rmse_DT)\n",
    "    maeDT_results.append(mae_DT)\n",
    "    \n",
    "    rf = RandomForestRegressor(random_state=0, max_depth=max_depth)\n",
    "    rf.fit(X_train, y_train)   \n",
    "    RF_pred = rf.predict(X_test)   \n",
    "    \n",
    "    r2_RF = r2(y_test, RF_pred)\n",
    "    rmse_RF = rmse(y_test, RF_pred)\n",
    "    mae_RF = mae(y_test, RF_pred)\n",
    "    \n",
    "    r2RF_results.append(r2_RF)\n",
    "    rmseRF_results.append(rmse_RF)\n",
    "    maeRF_results.append(mae_RF)\n",
    "    \n",
    "    xg = xgb.XGBRegressor(random_state=0, max_depth=int(max_depth))\n",
    "    xg.fit(X_train, y_train)   \n",
    "    XG_pred = xg.predict(X_test)\n",
    "    \n",
    "    r2_XG = r2(y_test, XG_pred)\n",
    "    rmse_XG = rmse(y_test, XG_pred)\n",
    "    mae_XG = mae(y_test, XG_pred)\n",
    "    \n",
    "    r2XG_results.append(r2_XG)\n",
    "    rmseXG_results.append(rmse_XG)\n",
    "    maeXG_results.append(mae_XG)"
   ]
  },
  {
   "cell_type": "code",
   "execution_count": null,
   "metadata": {},
   "outputs": [],
   "source": [
    "# Plot r2 graph\n",
    "plt.rcParams['figure.figsize'] = (8, 8)\n",
    "x_used = [10, 10, 4,]\n",
    "y_used = [0.8, 0.95, 0.98]\n",
    "plt.scatter(x_used, y_used, c='k', marker='x', label='Max depth used', zorder=2)\n",
    "line1 = plt.plot(max_depths, r2DT_results, 'g', label='Decision Tree', zorder=1)\n",
    "line2 = plt.plot(max_depths, r2RF_results, 'b', label='Random Forest', zorder=1)\n",
    "line3 = plt.plot(max_depths, r2XG_results, 'r', label='XGBoost', zorder=1)\n",
    "\n",
    "plt.ylabel('R²')\n",
    "plt.xlabel('Tree depth')\n",
    "leg = plt.legend()\n",
    "leg.get_frame().set_linewidth(0.0)\n",
    "plt.title(\"Tree depth tuning (R²)\")\n",
    "\n",
    "plt.savefig('results/depthTreeTuning_R2.png')\n",
    "plt.show()"
   ]
  },
  {
   "cell_type": "code",
   "execution_count": null,
   "metadata": {},
   "outputs": [],
   "source": [
    "# Plot r2 graph\n",
    "plt.rcParams['figure.figsize'] = (8, 8)\n",
    "x_used = [10, 10, 4,]\n",
    "y_used = [0.25, 0.12, 0.08]\n",
    "plt.scatter(x_used, y_used, c='k', marker='x', label='Max depth used', zorder=2)\n",
    "line1 = plt.plot(max_depths, rmseDT_results, 'g', label='Decision Tree', zorder=1)\n",
    "line2 = plt.plot(max_depths, rmseRF_results, 'b', label='Random Forest', zorder=1)\n",
    "line3 = plt.plot(max_depths, rmseXG_results, 'r', label='XGBoost', zorder=1)\n",
    "\n",
    "plt.ylabel('RMSE')\n",
    "plt.xlabel('Tree depth')\n",
    "leg = plt.legend()\n",
    "leg.get_frame().set_linewidth(0.0)\n",
    "plt.title(\"Tree depth tuning (RMSE)\")\n",
    "\n",
    "plt.savefig('results/depthTreeTuning_RMSE.png')\n",
    "plt.show()"
   ]
  },
  {
   "cell_type": "code",
   "execution_count": null,
   "metadata": {
    "scrolled": true
   },
   "outputs": [],
   "source": [
    "data = [y_test, y_train, DATA['IRI']]\n",
    "plt.rcParams['figure.figsize'] = (8, 4)\n",
    "fig, ax = plt.subplots()\n",
    "ax.boxplot(data, labels=['Test', 'Train', 'Sample'], vert=False)\n",
    "ax.set_xlabel('IRI (m/km)')\n",
    "plt.savefig('results/box_plot_random_split.png')\n",
    "plt.title(\"Random split\")\n",
    "plt.show()"
   ]
  },
  {
   "cell_type": "code",
   "execution_count": null,
   "metadata": {},
   "outputs": [],
   "source": [
    "# View data split temporal\n",
    "y_train_ts = y[:int(DATA['IRI'].shape[0]*0.7)]\n",
    "y_test_ts = y[int(DATA['IRI'].shape[0]*0.7):]\n",
    "\n",
    "data = [y_test_ts, y_train_ts, DATA['IRI']]\n",
    "plt.rcParams['figure.figsize'] = (8, 4)\n",
    "fig, ax = plt.subplots()\n",
    "ax.boxplot(data, labels=['Test', 'Train', 'Sample'], vert=False)\n",
    "ax.set_xlabel('IRI (m/km)')\n",
    "plt.title(\"Time series split\")\n",
    "plt.savefig('results/box_plot_ts_split.png')\n",
    "plt.show()"
   ]
  },
  {
   "cell_type": "code",
   "execution_count": null,
   "metadata": {},
   "outputs": [],
   "source": [
    "DT_reg"
   ]
  },
  {
   "cell_type": "code",
   "execution_count": null,
   "metadata": {},
   "outputs": [],
   "source": []
  }
 ],
 "metadata": {
  "kernelspec": {
   "display_name": "Python 3",
   "language": "python",
   "name": "python3"
  },
  "language_info": {
   "codemirror_mode": {
    "name": "ipython",
    "version": 3
   },
   "file_extension": ".py",
   "mimetype": "text/x-python",
   "name": "python",
   "nbconvert_exporter": "python",
   "pygments_lexer": "ipython3",
   "version": "3.8.5"
  }
 },
 "nbformat": 4,
 "nbformat_minor": 2
}
