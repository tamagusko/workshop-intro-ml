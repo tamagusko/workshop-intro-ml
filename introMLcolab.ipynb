{
 "cells": [
  {
   "cell_type": "markdown",
   "metadata": {
    "id": "zasuyDnulW8k"
   },
   "source": [
    "# JEST internal workshop &#8594; Intro to ML (Crash Course)"
   ]
  },
  {
   "cell_type": "markdown",
   "metadata": {
    "id": "OCCOEnxAlW8l"
   },
   "source": [
    "## Basic info\n",
    "Version: 0.2 (2021-04-24)  \n",
    "© Tiago Tamagusko (tamagusko@uc.pt)<br>\n",
    "License: [LICENSE](https://raw.githubusercontent.com/tamagusko/workshop-intro-ml/main/LICENSE)\n",
    "\n",
    "## Requirements\n",
    "\n",
    "- Have a Google account.\n",
    "\n",
    "## Installation\n",
    "\n",
    "Go to the [link](https://colab.research.google.com/github/tamagusko/workshop-intro-ml/blob/main/introMLcolab.ipynb) and make a copy.\n",
    "\n",
    "\n",
    "## Topics\n",
    "\n",
    "0. A Data Science project\n",
    "1. Data Collection\n",
    "2. Exploratory data analysis  \n",
    "    2.1 Data visualization  \n",
    "3. Preprocessing  \n",
    "    3.1 Missing Data, Encoding, Standardizing, Feature Engineering  \n",
    "    3.2 Split data in train/test\n",
    "4. Model  \n",
    "    4.1  Decision Tree  \n",
    "    4.2. Random Forest  \n",
    "    4.3. KNN (k-nearest neighbors)  \n",
    "    4.4. Neural Network (Multilayer perceptron)  \n",
    "    4.5. XGBoost (eXtreme Gradient Boosting)\n",
    "5. Comparison of models  \n",
    "    5.1 Metrics  \n",
    "    5.2 Receiver Operating Characteristic (ROC)  \n",
    "6. Improving the model\n",
    "7. Saving and loading models\n",
    "---"
   ]
  },
  {
   "cell_type": "markdown",
   "metadata": {
    "id": "1A2R5EFklW8r"
   },
   "source": [
    "---\n",
    "### Machine Learning Methods\n",
    "\n",
    "1. Supervised Learning (regression and classification)\n",
    "2. Unsupervised (dimensionality reduction and clustering)\n",
    "3. Reinforcement (learn from mistakes)\n",
    "\n",
    "More details in [What are the types of machine learning?](https://towardsdatascience.com/what-are-the-types-of-machine-learning-e2b9e5d1756f)\n",
    "\n",
    "### Which model should I choose?\n",
    "\n",
    "[scikit-learn: Choosing the right estimator](https://scikit-learn.org/stable/tutorial/machine_learning_map/index.html)"
   ]
  },
  {
   "cell_type": "markdown",
   "metadata": {
    "id": "vq1coMxJlW8u"
   },
   "source": [
    "---\n",
    "\n",
    "# Practical example: Predicting Pulsar Star\n",
    "\n",
    "More details in: [Predicting Pulsar Star](https://www.kaggle.com/colearninglounge/predicting-pulsar-starintermediate)"
   ]
  },
  {
   "cell_type": "markdown",
   "metadata": {
    "id": "KF5bFQ5alW80"
   },
   "source": [
    "## Proposed problem\n",
    "\n",
    "Classify stars between Pulsar (1) and non-Pulsar (0).\n",
    "\n",
    "Note: The data were collected and previously treated.\n",
    " \n",
    "## 1. Data Collection\n",
    "\n",
    "### Dataset - [pulsar_stars.csv](data/pulsar_stars.csv)\n",
    "\n",
    "**rows**: 16,259 spurious examples (RFI/noise), and 1,639 real pulsar examples. Total of 17,898 rows.  \n",
    "\n",
    "**columns**: 9 features, namely:  \n",
    "  1. Mean of the integrated profile.\n",
    "  2. Standard deviation of the integrated profile.\n",
    "  3. Excess kurtosis of the integrated profile.\n",
    "  4. Skewness of the integrated profile.\n",
    "  5. Mean of the DM-SNR curve.\n",
    "  6. Standard deviation of the DM-SNR curve.\n",
    "  7. Excess kurtosis of the DM-SNR curve.\n",
    "  8. Skewness of the DM-SNR curve.\n",
    "  9. Class (1=Pulsar, 0=non-Pulsar)\n",
    "\n",
    "So, the features are columns 1 to 8, and the label is the column 9."
   ]
  },
  {
   "cell_type": "code",
   "execution_count": 1,
   "metadata": {
    "id": "FKu6pFW2lW81"
   },
   "outputs": [],
   "source": [
    "import pandas as pd"
   ]
  },
  {
   "cell_type": "markdown",
   "metadata": {
    "id": "bPhhg1DAlW81"
   },
   "source": [
    "More details in [A Complete Pandas Guide](https://towardsdatascience.com/a-complete-pandas-guide-2dc53c77a002)"
   ]
  },
  {
   "cell_type": "code",
   "execution_count": 2,
   "metadata": {
    "id": "JUTbZQNIlW82"
   },
   "outputs": [],
   "source": [
    "url = 'https://raw.githubusercontent.com/spingegod/ProjetoTI_part1/master/ProjetoTI/pulsar_stars.csv'"
   ]
  },
  {
   "cell_type": "code",
   "execution_count": 3,
   "metadata": {
    "id": "Eqf1XN7LlW82"
   },
   "outputs": [],
   "source": [
    "df = pd.read_csv(url)"
   ]
  },
  {
   "cell_type": "code",
   "execution_count": 4,
   "metadata": {
    "colab": {
     "base_uri": "https://localhost:8080/",
     "height": 441
    },
    "id": "Nr9xRJRylW83",
    "outputId": "023b5202-15ef-4a1b-aba3-554110cfcecf"
   },
   "outputs": [
    {
     "data": {
      "text/html": [
       "<div>\n",
       "<style scoped>\n",
       "    .dataframe tbody tr th:only-of-type {\n",
       "        vertical-align: middle;\n",
       "    }\n",
       "\n",
       "    .dataframe tbody tr th {\n",
       "        vertical-align: top;\n",
       "    }\n",
       "\n",
       "    .dataframe thead th {\n",
       "        text-align: right;\n",
       "    }\n",
       "</style>\n",
       "<table border=\"1\" class=\"dataframe\">\n",
       "  <thead>\n",
       "    <tr style=\"text-align: right;\">\n",
       "      <th></th>\n",
       "      <th>Mean of the integrated profile</th>\n",
       "      <th>Standard deviation of the integrated profile</th>\n",
       "      <th>Excess kurtosis of the integrated profile</th>\n",
       "      <th>Skewness of the integrated profile</th>\n",
       "      <th>Mean of the DM-SNR curve</th>\n",
       "      <th>Standard deviation of the DM-SNR curve</th>\n",
       "      <th>Excess kurtosis of the DM-SNR curve</th>\n",
       "      <th>Skewness of the DM-SNR curve</th>\n",
       "      <th>target_class</th>\n",
       "    </tr>\n",
       "  </thead>\n",
       "  <tbody>\n",
       "    <tr>\n",
       "      <th>0</th>\n",
       "      <td>140.562500</td>\n",
       "      <td>55.683782</td>\n",
       "      <td>-0.234571</td>\n",
       "      <td>-0.699648</td>\n",
       "      <td>3.199833</td>\n",
       "      <td>19.110426</td>\n",
       "      <td>7.975532</td>\n",
       "      <td>74.242225</td>\n",
       "      <td>0</td>\n",
       "    </tr>\n",
       "    <tr>\n",
       "      <th>1</th>\n",
       "      <td>102.507812</td>\n",
       "      <td>58.882430</td>\n",
       "      <td>0.465318</td>\n",
       "      <td>-0.515088</td>\n",
       "      <td>1.677258</td>\n",
       "      <td>14.860146</td>\n",
       "      <td>10.576487</td>\n",
       "      <td>127.393580</td>\n",
       "      <td>0</td>\n",
       "    </tr>\n",
       "    <tr>\n",
       "      <th>2</th>\n",
       "      <td>103.015625</td>\n",
       "      <td>39.341649</td>\n",
       "      <td>0.323328</td>\n",
       "      <td>1.051164</td>\n",
       "      <td>3.121237</td>\n",
       "      <td>21.744669</td>\n",
       "      <td>7.735822</td>\n",
       "      <td>63.171909</td>\n",
       "      <td>0</td>\n",
       "    </tr>\n",
       "    <tr>\n",
       "      <th>3</th>\n",
       "      <td>136.750000</td>\n",
       "      <td>57.178449</td>\n",
       "      <td>-0.068415</td>\n",
       "      <td>-0.636238</td>\n",
       "      <td>3.642977</td>\n",
       "      <td>20.959280</td>\n",
       "      <td>6.896499</td>\n",
       "      <td>53.593661</td>\n",
       "      <td>0</td>\n",
       "    </tr>\n",
       "    <tr>\n",
       "      <th>4</th>\n",
       "      <td>88.726562</td>\n",
       "      <td>40.672225</td>\n",
       "      <td>0.600866</td>\n",
       "      <td>1.123492</td>\n",
       "      <td>1.178930</td>\n",
       "      <td>11.468720</td>\n",
       "      <td>14.269573</td>\n",
       "      <td>252.567306</td>\n",
       "      <td>0</td>\n",
       "    </tr>\n",
       "    <tr>\n",
       "      <th>...</th>\n",
       "      <td>...</td>\n",
       "      <td>...</td>\n",
       "      <td>...</td>\n",
       "      <td>...</td>\n",
       "      <td>...</td>\n",
       "      <td>...</td>\n",
       "      <td>...</td>\n",
       "      <td>...</td>\n",
       "      <td>...</td>\n",
       "    </tr>\n",
       "    <tr>\n",
       "      <th>17893</th>\n",
       "      <td>136.429688</td>\n",
       "      <td>59.847421</td>\n",
       "      <td>-0.187846</td>\n",
       "      <td>-0.738123</td>\n",
       "      <td>1.296823</td>\n",
       "      <td>12.166062</td>\n",
       "      <td>15.450260</td>\n",
       "      <td>285.931022</td>\n",
       "      <td>0</td>\n",
       "    </tr>\n",
       "    <tr>\n",
       "      <th>17894</th>\n",
       "      <td>122.554688</td>\n",
       "      <td>49.485605</td>\n",
       "      <td>0.127978</td>\n",
       "      <td>0.323061</td>\n",
       "      <td>16.409699</td>\n",
       "      <td>44.626893</td>\n",
       "      <td>2.945244</td>\n",
       "      <td>8.297092</td>\n",
       "      <td>0</td>\n",
       "    </tr>\n",
       "    <tr>\n",
       "      <th>17895</th>\n",
       "      <td>119.335938</td>\n",
       "      <td>59.935939</td>\n",
       "      <td>0.159363</td>\n",
       "      <td>-0.743025</td>\n",
       "      <td>21.430602</td>\n",
       "      <td>58.872000</td>\n",
       "      <td>2.499517</td>\n",
       "      <td>4.595173</td>\n",
       "      <td>0</td>\n",
       "    </tr>\n",
       "    <tr>\n",
       "      <th>17896</th>\n",
       "      <td>114.507812</td>\n",
       "      <td>53.902400</td>\n",
       "      <td>0.201161</td>\n",
       "      <td>-0.024789</td>\n",
       "      <td>1.946488</td>\n",
       "      <td>13.381731</td>\n",
       "      <td>10.007967</td>\n",
       "      <td>134.238910</td>\n",
       "      <td>0</td>\n",
       "    </tr>\n",
       "    <tr>\n",
       "      <th>17897</th>\n",
       "      <td>57.062500</td>\n",
       "      <td>85.797340</td>\n",
       "      <td>1.406391</td>\n",
       "      <td>0.089520</td>\n",
       "      <td>188.306020</td>\n",
       "      <td>64.712562</td>\n",
       "      <td>-1.597527</td>\n",
       "      <td>1.429475</td>\n",
       "      <td>0</td>\n",
       "    </tr>\n",
       "  </tbody>\n",
       "</table>\n",
       "<p>17898 rows × 9 columns</p>\n",
       "</div>"
      ],
      "text/plain": [
       "        Mean of the integrated profile  \\\n",
       "0                           140.562500   \n",
       "1                           102.507812   \n",
       "2                           103.015625   \n",
       "3                           136.750000   \n",
       "4                            88.726562   \n",
       "...                                ...   \n",
       "17893                       136.429688   \n",
       "17894                       122.554688   \n",
       "17895                       119.335938   \n",
       "17896                       114.507812   \n",
       "17897                        57.062500   \n",
       "\n",
       "        Standard deviation of the integrated profile  \\\n",
       "0                                          55.683782   \n",
       "1                                          58.882430   \n",
       "2                                          39.341649   \n",
       "3                                          57.178449   \n",
       "4                                          40.672225   \n",
       "...                                              ...   \n",
       "17893                                      59.847421   \n",
       "17894                                      49.485605   \n",
       "17895                                      59.935939   \n",
       "17896                                      53.902400   \n",
       "17897                                      85.797340   \n",
       "\n",
       "        Excess kurtosis of the integrated profile  \\\n",
       "0                                       -0.234571   \n",
       "1                                        0.465318   \n",
       "2                                        0.323328   \n",
       "3                                       -0.068415   \n",
       "4                                        0.600866   \n",
       "...                                           ...   \n",
       "17893                                   -0.187846   \n",
       "17894                                    0.127978   \n",
       "17895                                    0.159363   \n",
       "17896                                    0.201161   \n",
       "17897                                    1.406391   \n",
       "\n",
       "        Skewness of the integrated profile   Mean of the DM-SNR curve  \\\n",
       "0                                -0.699648                   3.199833   \n",
       "1                                -0.515088                   1.677258   \n",
       "2                                 1.051164                   3.121237   \n",
       "3                                -0.636238                   3.642977   \n",
       "4                                 1.123492                   1.178930   \n",
       "...                                    ...                        ...   \n",
       "17893                            -0.738123                   1.296823   \n",
       "17894                             0.323061                  16.409699   \n",
       "17895                            -0.743025                  21.430602   \n",
       "17896                            -0.024789                   1.946488   \n",
       "17897                             0.089520                 188.306020   \n",
       "\n",
       "        Standard deviation of the DM-SNR curve  \\\n",
       "0                                    19.110426   \n",
       "1                                    14.860146   \n",
       "2                                    21.744669   \n",
       "3                                    20.959280   \n",
       "4                                    11.468720   \n",
       "...                                        ...   \n",
       "17893                                12.166062   \n",
       "17894                                44.626893   \n",
       "17895                                58.872000   \n",
       "17896                                13.381731   \n",
       "17897                                64.712562   \n",
       "\n",
       "        Excess kurtosis of the DM-SNR curve   Skewness of the DM-SNR curve  \\\n",
       "0                                  7.975532                      74.242225   \n",
       "1                                 10.576487                     127.393580   \n",
       "2                                  7.735822                      63.171909   \n",
       "3                                  6.896499                      53.593661   \n",
       "4                                 14.269573                     252.567306   \n",
       "...                                     ...                            ...   \n",
       "17893                             15.450260                     285.931022   \n",
       "17894                              2.945244                       8.297092   \n",
       "17895                              2.499517                       4.595173   \n",
       "17896                             10.007967                     134.238910   \n",
       "17897                             -1.597527                       1.429475   \n",
       "\n",
       "       target_class  \n",
       "0                 0  \n",
       "1                 0  \n",
       "2                 0  \n",
       "3                 0  \n",
       "4                 0  \n",
       "...             ...  \n",
       "17893             0  \n",
       "17894             0  \n",
       "17895             0  \n",
       "17896             0  \n",
       "17897             0  \n",
       "\n",
       "[17898 rows x 9 columns]"
      ]
     },
     "execution_count": 4,
     "metadata": {},
     "output_type": "execute_result"
    }
   ],
   "source": [
    "df"
   ]
  },
  {
   "cell_type": "markdown",
   "metadata": {
    "id": "5aCL3sbHlW84"
   },
   "source": [
    "## 2. Exploratory data analysis\n",
    "\n",
    "## 2.1 Data visualization"
   ]
  },
  {
   "cell_type": "code",
   "execution_count": 5,
   "metadata": {
    "colab": {
     "base_uri": "https://localhost:8080/"
    },
    "id": "_DTfelVLlW84",
    "outputId": "323d18d2-3b25-4e64-8451-98e65af94650",
    "scrolled": true
   },
   "outputs": [
    {
     "data": {
      "text/plain": [
       "(17898, 9)"
      ]
     },
     "execution_count": 5,
     "metadata": {},
     "output_type": "execute_result"
    }
   ],
   "source": [
    "df.shape"
   ]
  },
  {
   "cell_type": "code",
   "execution_count": 6,
   "metadata": {
    "ExecuteTime": {
     "start_time": "2019-12-29T11:50:20.389Z"
    },
    "colab": {
     "base_uri": "https://localhost:8080/",
     "height": 224
    },
    "id": "ii7wFNA2lW85",
    "outputId": "67453948-6551-403f-bc14-61b99b7b486b",
    "scrolled": true
   },
   "outputs": [
    {
     "data": {
      "text/html": [
       "<div>\n",
       "<style scoped>\n",
       "    .dataframe tbody tr th:only-of-type {\n",
       "        vertical-align: middle;\n",
       "    }\n",
       "\n",
       "    .dataframe tbody tr th {\n",
       "        vertical-align: top;\n",
       "    }\n",
       "\n",
       "    .dataframe thead th {\n",
       "        text-align: right;\n",
       "    }\n",
       "</style>\n",
       "<table border=\"1\" class=\"dataframe\">\n",
       "  <thead>\n",
       "    <tr style=\"text-align: right;\">\n",
       "      <th></th>\n",
       "      <th>Mean of the integrated profile</th>\n",
       "      <th>Standard deviation of the integrated profile</th>\n",
       "      <th>Excess kurtosis of the integrated profile</th>\n",
       "      <th>Skewness of the integrated profile</th>\n",
       "      <th>Mean of the DM-SNR curve</th>\n",
       "      <th>Standard deviation of the DM-SNR curve</th>\n",
       "      <th>Excess kurtosis of the DM-SNR curve</th>\n",
       "      <th>Skewness of the DM-SNR curve</th>\n",
       "      <th>target_class</th>\n",
       "    </tr>\n",
       "  </thead>\n",
       "  <tbody>\n",
       "    <tr>\n",
       "      <th>0</th>\n",
       "      <td>140.562500</td>\n",
       "      <td>55.683782</td>\n",
       "      <td>-0.234571</td>\n",
       "      <td>-0.699648</td>\n",
       "      <td>3.199833</td>\n",
       "      <td>19.110426</td>\n",
       "      <td>7.975532</td>\n",
       "      <td>74.242225</td>\n",
       "      <td>0</td>\n",
       "    </tr>\n",
       "    <tr>\n",
       "      <th>1</th>\n",
       "      <td>102.507812</td>\n",
       "      <td>58.882430</td>\n",
       "      <td>0.465318</td>\n",
       "      <td>-0.515088</td>\n",
       "      <td>1.677258</td>\n",
       "      <td>14.860146</td>\n",
       "      <td>10.576487</td>\n",
       "      <td>127.393580</td>\n",
       "      <td>0</td>\n",
       "    </tr>\n",
       "    <tr>\n",
       "      <th>2</th>\n",
       "      <td>103.015625</td>\n",
       "      <td>39.341649</td>\n",
       "      <td>0.323328</td>\n",
       "      <td>1.051164</td>\n",
       "      <td>3.121237</td>\n",
       "      <td>21.744669</td>\n",
       "      <td>7.735822</td>\n",
       "      <td>63.171909</td>\n",
       "      <td>0</td>\n",
       "    </tr>\n",
       "    <tr>\n",
       "      <th>3</th>\n",
       "      <td>136.750000</td>\n",
       "      <td>57.178449</td>\n",
       "      <td>-0.068415</td>\n",
       "      <td>-0.636238</td>\n",
       "      <td>3.642977</td>\n",
       "      <td>20.959280</td>\n",
       "      <td>6.896499</td>\n",
       "      <td>53.593661</td>\n",
       "      <td>0</td>\n",
       "    </tr>\n",
       "    <tr>\n",
       "      <th>4</th>\n",
       "      <td>88.726562</td>\n",
       "      <td>40.672225</td>\n",
       "      <td>0.600866</td>\n",
       "      <td>1.123492</td>\n",
       "      <td>1.178930</td>\n",
       "      <td>11.468720</td>\n",
       "      <td>14.269573</td>\n",
       "      <td>252.567306</td>\n",
       "      <td>0</td>\n",
       "    </tr>\n",
       "  </tbody>\n",
       "</table>\n",
       "</div>"
      ],
      "text/plain": [
       "    Mean of the integrated profile  \\\n",
       "0                       140.562500   \n",
       "1                       102.507812   \n",
       "2                       103.015625   \n",
       "3                       136.750000   \n",
       "4                        88.726562   \n",
       "\n",
       "    Standard deviation of the integrated profile  \\\n",
       "0                                      55.683782   \n",
       "1                                      58.882430   \n",
       "2                                      39.341649   \n",
       "3                                      57.178449   \n",
       "4                                      40.672225   \n",
       "\n",
       "    Excess kurtosis of the integrated profile  \\\n",
       "0                                   -0.234571   \n",
       "1                                    0.465318   \n",
       "2                                    0.323328   \n",
       "3                                   -0.068415   \n",
       "4                                    0.600866   \n",
       "\n",
       "    Skewness of the integrated profile   Mean of the DM-SNR curve  \\\n",
       "0                            -0.699648                   3.199833   \n",
       "1                            -0.515088                   1.677258   \n",
       "2                             1.051164                   3.121237   \n",
       "3                            -0.636238                   3.642977   \n",
       "4                             1.123492                   1.178930   \n",
       "\n",
       "    Standard deviation of the DM-SNR curve  \\\n",
       "0                                19.110426   \n",
       "1                                14.860146   \n",
       "2                                21.744669   \n",
       "3                                20.959280   \n",
       "4                                11.468720   \n",
       "\n",
       "    Excess kurtosis of the DM-SNR curve   Skewness of the DM-SNR curve  \\\n",
       "0                              7.975532                      74.242225   \n",
       "1                             10.576487                     127.393580   \n",
       "2                              7.735822                      63.171909   \n",
       "3                              6.896499                      53.593661   \n",
       "4                             14.269573                     252.567306   \n",
       "\n",
       "   target_class  \n",
       "0             0  \n",
       "1             0  \n",
       "2             0  \n",
       "3             0  \n",
       "4             0  "
      ]
     },
     "execution_count": 6,
     "metadata": {},
     "output_type": "execute_result"
    }
   ],
   "source": [
    "df.head()"
   ]
  },
  {
   "cell_type": "markdown",
   "metadata": {
    "id": "mFXTnKMTlW85"
   },
   "source": [
    "### View data type"
   ]
  },
  {
   "cell_type": "code",
   "execution_count": 7,
   "metadata": {
    "colab": {
     "base_uri": "https://localhost:8080/"
    },
    "id": "2tcJwl5ClW86",
    "outputId": "d8108fe5-6139-41f9-ad34-138e1aa3c2e9"
   },
   "outputs": [
    {
     "name": "stdout",
     "output_type": "stream",
     "text": [
      "<class 'pandas.core.frame.DataFrame'>\n",
      "RangeIndex: 17898 entries, 0 to 17897\n",
      "Data columns (total 9 columns):\n",
      " #   Column                                         Non-Null Count  Dtype  \n",
      "---  ------                                         --------------  -----  \n",
      " 0    Mean of the integrated profile                17898 non-null  float64\n",
      " 1    Standard deviation of the integrated profile  17898 non-null  float64\n",
      " 2    Excess kurtosis of the integrated profile     17898 non-null  float64\n",
      " 3    Skewness of the integrated profile            17898 non-null  float64\n",
      " 4    Mean of the DM-SNR curve                      17898 non-null  float64\n",
      " 5    Standard deviation of the DM-SNR curve        17898 non-null  float64\n",
      " 6    Excess kurtosis of the DM-SNR curve           17898 non-null  float64\n",
      " 7    Skewness of the DM-SNR curve                  17898 non-null  float64\n",
      " 8   target_class                                   17898 non-null  int64  \n",
      "dtypes: float64(8), int64(1)\n",
      "memory usage: 1.2 MB\n"
     ]
    }
   ],
   "source": [
    "df.info()"
   ]
  },
  {
   "cell_type": "markdown",
   "metadata": {
    "id": "nU2Fyl9jlW86"
   },
   "source": [
    "### Data overview"
   ]
  },
  {
   "cell_type": "code",
   "execution_count": 8,
   "metadata": {
    "colab": {
     "base_uri": "https://localhost:8080/",
     "height": 332
    },
    "id": "nsEdhTa9lW87",
    "outputId": "b431ecba-fee3-47ba-e16b-52c3b5a74064"
   },
   "outputs": [
    {
     "data": {
      "text/html": [
       "<div>\n",
       "<style scoped>\n",
       "    .dataframe tbody tr th:only-of-type {\n",
       "        vertical-align: middle;\n",
       "    }\n",
       "\n",
       "    .dataframe tbody tr th {\n",
       "        vertical-align: top;\n",
       "    }\n",
       "\n",
       "    .dataframe thead th {\n",
       "        text-align: right;\n",
       "    }\n",
       "</style>\n",
       "<table border=\"1\" class=\"dataframe\">\n",
       "  <thead>\n",
       "    <tr style=\"text-align: right;\">\n",
       "      <th></th>\n",
       "      <th>count</th>\n",
       "      <th>mean</th>\n",
       "      <th>std</th>\n",
       "      <th>min</th>\n",
       "      <th>25%</th>\n",
       "      <th>50%</th>\n",
       "      <th>75%</th>\n",
       "      <th>max</th>\n",
       "    </tr>\n",
       "  </thead>\n",
       "  <tbody>\n",
       "    <tr>\n",
       "      <th>Mean of the integrated profile</th>\n",
       "      <td>17898.0</td>\n",
       "      <td>111.079968</td>\n",
       "      <td>25.652935</td>\n",
       "      <td>5.812500</td>\n",
       "      <td>100.929688</td>\n",
       "      <td>115.078125</td>\n",
       "      <td>127.085938</td>\n",
       "      <td>192.617188</td>\n",
       "    </tr>\n",
       "    <tr>\n",
       "      <th>Standard deviation of the integrated profile</th>\n",
       "      <td>17898.0</td>\n",
       "      <td>46.549532</td>\n",
       "      <td>6.843189</td>\n",
       "      <td>24.772042</td>\n",
       "      <td>42.376018</td>\n",
       "      <td>46.947479</td>\n",
       "      <td>51.023202</td>\n",
       "      <td>98.778911</td>\n",
       "    </tr>\n",
       "    <tr>\n",
       "      <th>Excess kurtosis of the integrated profile</th>\n",
       "      <td>17898.0</td>\n",
       "      <td>0.477857</td>\n",
       "      <td>1.064040</td>\n",
       "      <td>-1.876011</td>\n",
       "      <td>0.027098</td>\n",
       "      <td>0.223240</td>\n",
       "      <td>0.473325</td>\n",
       "      <td>8.069522</td>\n",
       "    </tr>\n",
       "    <tr>\n",
       "      <th>Skewness of the integrated profile</th>\n",
       "      <td>17898.0</td>\n",
       "      <td>1.770279</td>\n",
       "      <td>6.167913</td>\n",
       "      <td>-1.791886</td>\n",
       "      <td>-0.188572</td>\n",
       "      <td>0.198710</td>\n",
       "      <td>0.927783</td>\n",
       "      <td>68.101622</td>\n",
       "    </tr>\n",
       "    <tr>\n",
       "      <th>Mean of the DM-SNR curve</th>\n",
       "      <td>17898.0</td>\n",
       "      <td>12.614400</td>\n",
       "      <td>29.472897</td>\n",
       "      <td>0.213211</td>\n",
       "      <td>1.923077</td>\n",
       "      <td>2.801839</td>\n",
       "      <td>5.464256</td>\n",
       "      <td>223.392141</td>\n",
       "    </tr>\n",
       "    <tr>\n",
       "      <th>Standard deviation of the DM-SNR curve</th>\n",
       "      <td>17898.0</td>\n",
       "      <td>26.326515</td>\n",
       "      <td>19.470572</td>\n",
       "      <td>7.370432</td>\n",
       "      <td>14.437332</td>\n",
       "      <td>18.461316</td>\n",
       "      <td>28.428104</td>\n",
       "      <td>110.642211</td>\n",
       "    </tr>\n",
       "    <tr>\n",
       "      <th>Excess kurtosis of the DM-SNR curve</th>\n",
       "      <td>17898.0</td>\n",
       "      <td>8.303556</td>\n",
       "      <td>4.506092</td>\n",
       "      <td>-3.139270</td>\n",
       "      <td>5.781506</td>\n",
       "      <td>8.433515</td>\n",
       "      <td>10.702959</td>\n",
       "      <td>34.539844</td>\n",
       "    </tr>\n",
       "    <tr>\n",
       "      <th>Skewness of the DM-SNR curve</th>\n",
       "      <td>17898.0</td>\n",
       "      <td>104.857709</td>\n",
       "      <td>106.514540</td>\n",
       "      <td>-1.976976</td>\n",
       "      <td>34.960504</td>\n",
       "      <td>83.064556</td>\n",
       "      <td>139.309330</td>\n",
       "      <td>1191.000837</td>\n",
       "    </tr>\n",
       "    <tr>\n",
       "      <th>target_class</th>\n",
       "      <td>17898.0</td>\n",
       "      <td>0.091574</td>\n",
       "      <td>0.288432</td>\n",
       "      <td>0.000000</td>\n",
       "      <td>0.000000</td>\n",
       "      <td>0.000000</td>\n",
       "      <td>0.000000</td>\n",
       "      <td>1.000000</td>\n",
       "    </tr>\n",
       "  </tbody>\n",
       "</table>\n",
       "</div>"
      ],
      "text/plain": [
       "                                                 count        mean  \\\n",
       " Mean of the integrated profile                17898.0  111.079968   \n",
       " Standard deviation of the integrated profile  17898.0   46.549532   \n",
       " Excess kurtosis of the integrated profile     17898.0    0.477857   \n",
       " Skewness of the integrated profile            17898.0    1.770279   \n",
       " Mean of the DM-SNR curve                      17898.0   12.614400   \n",
       " Standard deviation of the DM-SNR curve        17898.0   26.326515   \n",
       " Excess kurtosis of the DM-SNR curve           17898.0    8.303556   \n",
       " Skewness of the DM-SNR curve                  17898.0  104.857709   \n",
       "target_class                                   17898.0    0.091574   \n",
       "\n",
       "                                                      std        min  \\\n",
       " Mean of the integrated profile                 25.652935   5.812500   \n",
       " Standard deviation of the integrated profile    6.843189  24.772042   \n",
       " Excess kurtosis of the integrated profile       1.064040  -1.876011   \n",
       " Skewness of the integrated profile              6.167913  -1.791886   \n",
       " Mean of the DM-SNR curve                       29.472897   0.213211   \n",
       " Standard deviation of the DM-SNR curve         19.470572   7.370432   \n",
       " Excess kurtosis of the DM-SNR curve             4.506092  -3.139270   \n",
       " Skewness of the DM-SNR curve                  106.514540  -1.976976   \n",
       "target_class                                     0.288432   0.000000   \n",
       "\n",
       "                                                      25%         50%  \\\n",
       " Mean of the integrated profile                100.929688  115.078125   \n",
       " Standard deviation of the integrated profile   42.376018   46.947479   \n",
       " Excess kurtosis of the integrated profile       0.027098    0.223240   \n",
       " Skewness of the integrated profile             -0.188572    0.198710   \n",
       " Mean of the DM-SNR curve                        1.923077    2.801839   \n",
       " Standard deviation of the DM-SNR curve         14.437332   18.461316   \n",
       " Excess kurtosis of the DM-SNR curve             5.781506    8.433515   \n",
       " Skewness of the DM-SNR curve                   34.960504   83.064556   \n",
       "target_class                                     0.000000    0.000000   \n",
       "\n",
       "                                                      75%          max  \n",
       " Mean of the integrated profile                127.085938   192.617188  \n",
       " Standard deviation of the integrated profile   51.023202    98.778911  \n",
       " Excess kurtosis of the integrated profile       0.473325     8.069522  \n",
       " Skewness of the integrated profile              0.927783    68.101622  \n",
       " Mean of the DM-SNR curve                        5.464256   223.392141  \n",
       " Standard deviation of the DM-SNR curve         28.428104   110.642211  \n",
       " Excess kurtosis of the DM-SNR curve            10.702959    34.539844  \n",
       " Skewness of the DM-SNR curve                  139.309330  1191.000837  \n",
       "target_class                                     0.000000     1.000000  "
      ]
     },
     "execution_count": 8,
     "metadata": {},
     "output_type": "execute_result"
    }
   ],
   "source": [
    "df.describe().T"
   ]
  },
  {
   "cell_type": "markdown",
   "metadata": {
    "id": "EcQT8ppRlW87"
   },
   "source": [
    "### NA values?"
   ]
  },
  {
   "cell_type": "code",
   "execution_count": 9,
   "metadata": {
    "colab": {
     "base_uri": "https://localhost:8080/"
    },
    "id": "waSOK98klW88",
    "outputId": "1deef73c-612f-4171-8349-c242e1f68a53"
   },
   "outputs": [
    {
     "data": {
      "text/plain": [
       " Mean of the integrated profile                  False\n",
       " Standard deviation of the integrated profile    False\n",
       " Excess kurtosis of the integrated profile       False\n",
       " Skewness of the integrated profile              False\n",
       " Mean of the DM-SNR curve                        False\n",
       " Standard deviation of the DM-SNR curve          False\n",
       " Excess kurtosis of the DM-SNR curve             False\n",
       " Skewness of the DM-SNR curve                    False\n",
       "target_class                                     False\n",
       "dtype: bool"
      ]
     },
     "execution_count": 9,
     "metadata": {},
     "output_type": "execute_result"
    }
   ],
   "source": [
    "df.isna().any()"
   ]
  },
  {
   "cell_type": "markdown",
   "metadata": {
    "id": "CYUrdXArlW89"
   },
   "source": [
    "### Duplicate rows?"
   ]
  },
  {
   "cell_type": "code",
   "execution_count": 10,
   "metadata": {
    "colab": {
     "base_uri": "https://localhost:8080/"
    },
    "id": "WK4R-jaIlW89",
    "outputId": "8a30faa7-abfb-4e73-cd39-888255a1934b"
   },
   "outputs": [
    {
     "name": "stdout",
     "output_type": "stream",
     "text": [
      "Duplicate rows:  0\n"
     ]
    }
   ],
   "source": [
    "print(\"Duplicate rows: \", df.duplicated().sum())"
   ]
  },
  {
   "cell_type": "markdown",
   "metadata": {
    "id": "0CBjSKqLlW8-"
   },
   "source": [
    "### Target (label) class"
   ]
  },
  {
   "cell_type": "code",
   "execution_count": 11,
   "metadata": {
    "colab": {
     "base_uri": "https://localhost:8080/"
    },
    "id": "MXDr9DNRlW8_",
    "outputId": "f2819c86-5636-42a2-a044-907bd9d10737"
   },
   "outputs": [
    {
     "data": {
      "text/plain": [
       "0    16259\n",
       "1     1639\n",
       "Name: target_class, dtype: int64"
      ]
     },
     "execution_count": 11,
     "metadata": {},
     "output_type": "execute_result"
    }
   ],
   "source": [
    "df['target_class'].value_counts()"
   ]
  },
  {
   "cell_type": "code",
   "execution_count": 12,
   "metadata": {
    "colab": {
     "base_uri": "https://localhost:8080/",
     "height": 265
    },
    "id": "QzpH2MB6lW8_",
    "outputId": "dba948ab-9c51-4a78-a740-baf9d2013d7a"
   },
   "outputs": [
    {
     "data": {
      "text/plain": [
       "<AxesSubplot:ylabel='target_class'>"
      ]
     },
     "execution_count": 12,
     "metadata": {},
     "output_type": "execute_result"
    },
    {
     "data": {
      "image/png": "[encoded data removed]",
      "text/plain": [
       "<Figure size 432x288 with 1 Axes>"
      ]
     },
     "metadata": {},
     "output_type": "display_data"
    }
   ],
   "source": [
    "df.target_class.value_counts().plot.pie(autopct='%.2f%%')"
   ]
  },
  {
   "cell_type": "markdown",
   "metadata": {
    "id": "7-xFYE3GlW9A"
   },
   "source": [
    "### Correlation matrix"
   ]
  },
  {
   "cell_type": "code",
   "execution_count": 13,
   "metadata": {
    "colab": {
     "base_uri": "https://localhost:8080/",
     "height": 372
    },
    "id": "YBgsntuslW9B",
    "outputId": "31ebe34b-b9ae-4c54-f2c6-3e640035fb80"
   },
   "outputs": [
    {
     "name": "stderr",
     "output_type": "stream",
     "text": [
      "<ipython-input-13-85e8427fef8b>:2: FutureWarning: this method is deprecated in favour of `Styler.format(precision=..)`\n",
      "  correlation.style.background_gradient(cmap='coolwarm').set_precision(2)\n"
     ]
    },
    {
     "data": {
      "text/html": [
       "<style type=\"text/css\">\n",
       "#T_78195_row0_col0, #T_78195_row1_col1, #T_78195_row2_col2, #T_78195_row3_col3, #T_78195_row4_col4, #T_78195_row5_col5, #T_78195_row6_col6, #T_78195_row7_col7, #T_78195_row8_col8 {\n",
       "  background-color: #b40426;\n",
       "  color: #f1f1f1;\n",
       "}\n",
       "#T_78195_row0_col1 {\n",
       "  background-color: #f7aa8c;\n",
       "  color: #000000;\n",
       "}\n",
       "#T_78195_row0_col2, #T_78195_row0_col3, #T_78195_row0_col8, #T_78195_row2_col0, #T_78195_row3_col1, #T_78195_row5_col6, #T_78195_row5_col7, #T_78195_row6_col4, #T_78195_row6_col5 {\n",
       "  background-color: #3b4cc0;\n",
       "  color: #f1f1f1;\n",
       "}\n",
       "#T_78195_row0_col4 {\n",
       "  background-color: #7a9df8;\n",
       "  color: #f1f1f1;\n",
       "}\n",
       "#T_78195_row0_col5 {\n",
       "  background-color: #97b8ff;\n",
       "  color: #000000;\n",
       "}\n",
       "#T_78195_row0_col6 {\n",
       "  background-color: #eed0c0;\n",
       "  color: #000000;\n",
       "}\n",
       "#T_78195_row0_col7 {\n",
       "  background-color: #d1dae9;\n",
       "  color: #000000;\n",
       "}\n",
       "#T_78195_row1_col0 {\n",
       "  background-color: #f39577;\n",
       "  color: #000000;\n",
       "}\n",
       "#T_78195_row1_col2 {\n",
       "  background-color: #779af7;\n",
       "  color: #f1f1f1;\n",
       "}\n",
       "#T_78195_row1_col3, #T_78195_row8_col1 {\n",
       "  background-color: #5e7de7;\n",
       "  color: #f1f1f1;\n",
       "}\n",
       "#T_78195_row1_col4, #T_78195_row1_col7 {\n",
       "  background-color: #bbd1f8;\n",
       "  color: #000000;\n",
       "}\n",
       "#T_78195_row1_col5 {\n",
       "  background-color: #c6d6f1;\n",
       "  color: #000000;\n",
       "}\n",
       "#T_78195_row1_col6 {\n",
       "  background-color: #d3dbe7;\n",
       "  color: #000000;\n",
       "}\n",
       "#T_78195_row1_col8 {\n",
       "  background-color: #7699f6;\n",
       "  color: #f1f1f1;\n",
       "}\n",
       "#T_78195_row2_col1 {\n",
       "  background-color: #3e51c5;\n",
       "  color: #f1f1f1;\n",
       "}\n",
       "#T_78195_row2_col3, #T_78195_row3_col2 {\n",
       "  background-color: #be242e;\n",
       "  color: #f1f1f1;\n",
       "}\n",
       "#T_78195_row2_col4 {\n",
       "  background-color: #f5c0a7;\n",
       "  color: #000000;\n",
       "}\n",
       "#T_78195_row2_col5, #T_78195_row4_col2 {\n",
       "  background-color: #f7b194;\n",
       "  color: #000000;\n",
       "}\n",
       "#T_78195_row2_col6 {\n",
       "  background-color: #90b2fe;\n",
       "  color: #000000;\n",
       "}\n",
       "#T_78195_row2_col7 {\n",
       "  background-color: #85a8fc;\n",
       "  color: #f1f1f1;\n",
       "}\n",
       "#T_78195_row2_col8 {\n",
       "  background-color: #dd5f4b;\n",
       "  color: #f1f1f1;\n",
       "}\n",
       "#T_78195_row3_col0 {\n",
       "  background-color: #506bda;\n",
       "  color: #f1f1f1;\n",
       "}\n",
       "#T_78195_row3_col4 {\n",
       "  background-color: #f5c1a9;\n",
       "  color: #000000;\n",
       "}\n",
       "#T_78195_row3_col5 {\n",
       "  background-color: #f7b497;\n",
       "  color: #000000;\n",
       "}\n",
       "#T_78195_row3_col6 {\n",
       "  background-color: #93b5fe;\n",
       "  color: #000000;\n",
       "}\n",
       "#T_78195_row3_col7, #T_78195_row6_col3 {\n",
       "  background-color: #88abfd;\n",
       "  color: #000000;\n",
       "}\n",
       "#T_78195_row3_col8 {\n",
       "  background-color: #e9785d;\n",
       "  color: #f1f1f1;\n",
       "}\n",
       "#T_78195_row4_col0, #T_78195_row7_col3 {\n",
       "  background-color: #a1c0ff;\n",
       "  color: #000000;\n",
       "}\n",
       "#T_78195_row4_col1, #T_78195_row7_col2 {\n",
       "  background-color: #b1cbfc;\n",
       "  color: #000000;\n",
       "}\n",
       "#T_78195_row4_col3, #T_78195_row5_col3 {\n",
       "  background-color: #f7b99e;\n",
       "  color: #000000;\n",
       "}\n",
       "#T_78195_row4_col5, #T_78195_row8_col2 {\n",
       "  background-color: #d95847;\n",
       "  color: #f1f1f1;\n",
       "}\n",
       "#T_78195_row4_col6, #T_78195_row8_col0 {\n",
       "  background-color: #5b7ae5;\n",
       "  color: #f1f1f1;\n",
       "}\n",
       "#T_78195_row4_col7 {\n",
       "  background-color: #6687ed;\n",
       "  color: #f1f1f1;\n",
       "}\n",
       "#T_78195_row4_col8 {\n",
       "  background-color: #f6bfa6;\n",
       "  color: #000000;\n",
       "}\n",
       "#T_78195_row5_col0 {\n",
       "  background-color: #9fbfff;\n",
       "  color: #000000;\n",
       "}\n",
       "#T_78195_row5_col1 {\n",
       "  background-color: #a5c3fe;\n",
       "  color: #000000;\n",
       "}\n",
       "#T_78195_row5_col2, #T_78195_row5_col8 {\n",
       "  background-color: #f7ad90;\n",
       "  color: #000000;\n",
       "}\n",
       "#T_78195_row5_col4 {\n",
       "  background-color: #de614d;\n",
       "  color: #f1f1f1;\n",
       "}\n",
       "#T_78195_row6_col0 {\n",
       "  background-color: #f1cdba;\n",
       "  color: #000000;\n",
       "}\n",
       "#T_78195_row6_col1, #T_78195_row7_col1 {\n",
       "  background-color: #b6cefa;\n",
       "  color: #000000;\n",
       "}\n",
       "#T_78195_row6_col2 {\n",
       "  background-color: #98b9ff;\n",
       "  color: #000000;\n",
       "}\n",
       "#T_78195_row6_col7 {\n",
       "  background-color: #c53334;\n",
       "  color: #f1f1f1;\n",
       "}\n",
       "#T_78195_row6_col8 {\n",
       "  background-color: #7093f3;\n",
       "  color: #f1f1f1;\n",
       "}\n",
       "#T_78195_row7_col0 {\n",
       "  background-color: #e8d6cc;\n",
       "  color: #000000;\n",
       "}\n",
       "#T_78195_row7_col4 {\n",
       "  background-color: #6e90f2;\n",
       "  color: #f1f1f1;\n",
       "}\n",
       "#T_78195_row7_col5 {\n",
       "  background-color: #6384eb;\n",
       "  color: #f1f1f1;\n",
       "}\n",
       "#T_78195_row7_col6 {\n",
       "  background-color: #c32e31;\n",
       "  color: #f1f1f1;\n",
       "}\n",
       "#T_78195_row7_col8 {\n",
       "  background-color: #8caffe;\n",
       "  color: #000000;\n",
       "}\n",
       "#T_78195_row8_col3 {\n",
       "  background-color: #e7745b;\n",
       "  color: #f1f1f1;\n",
       "}\n",
       "#T_78195_row8_col4 {\n",
       "  background-color: #f5c2aa;\n",
       "  color: #000000;\n",
       "}\n",
       "#T_78195_row8_col5 {\n",
       "  background-color: #f6a586;\n",
       "  color: #000000;\n",
       "}\n",
       "#T_78195_row8_col6 {\n",
       "  background-color: #86a9fc;\n",
       "  color: #f1f1f1;\n",
       "}\n",
       "#T_78195_row8_col7 {\n",
       "  background-color: #7b9ff9;\n",
       "  color: #f1f1f1;\n",
       "}\n",
       "</style>\n",
       "<table id=\"T_78195_\">\n",
       "  <thead>\n",
       "    <tr>\n",
       "      <th class=\"blank level0\" >&nbsp;</th>\n",
       "      <th class=\"col_heading level0 col0\" > Mean of the integrated profile</th>\n",
       "      <th class=\"col_heading level0 col1\" > Standard deviation of the integrated profile</th>\n",
       "      <th class=\"col_heading level0 col2\" > Excess kurtosis of the integrated profile</th>\n",
       "      <th class=\"col_heading level0 col3\" > Skewness of the integrated profile</th>\n",
       "      <th class=\"col_heading level0 col4\" > Mean of the DM-SNR curve</th>\n",
       "      <th class=\"col_heading level0 col5\" > Standard deviation of the DM-SNR curve</th>\n",
       "      <th class=\"col_heading level0 col6\" > Excess kurtosis of the DM-SNR curve</th>\n",
       "      <th class=\"col_heading level0 col7\" > Skewness of the DM-SNR curve</th>\n",
       "      <th class=\"col_heading level0 col8\" >target_class</th>\n",
       "    </tr>\n",
       "  </thead>\n",
       "  <tbody>\n",
       "    <tr>\n",
       "      <th id=\"T_78195_level0_row0\" class=\"row_heading level0 row0\" > Mean of the integrated profile</th>\n",
       "      <td id=\"T_78195_row0_col0\" class=\"data row0 col0\" >1.00</td>\n",
       "      <td id=\"T_78195_row0_col1\" class=\"data row0 col1\" >0.55</td>\n",
       "      <td id=\"T_78195_row0_col2\" class=\"data row0 col2\" >-0.87</td>\n",
       "      <td id=\"T_78195_row0_col3\" class=\"data row0 col3\" >-0.74</td>\n",
       "      <td id=\"T_78195_row0_col4\" class=\"data row0 col4\" >-0.30</td>\n",
       "      <td id=\"T_78195_row0_col5\" class=\"data row0 col5\" >-0.31</td>\n",
       "      <td id=\"T_78195_row0_col6\" class=\"data row0 col6\" >0.23</td>\n",
       "      <td id=\"T_78195_row0_col7\" class=\"data row0 col7\" >0.14</td>\n",
       "      <td id=\"T_78195_row0_col8\" class=\"data row0 col8\" >-0.67</td>\n",
       "    </tr>\n",
       "    <tr>\n",
       "      <th id=\"T_78195_level0_row1\" class=\"row_heading level0 row1\" > Standard deviation of the integrated profile</th>\n",
       "      <td id=\"T_78195_row1_col0\" class=\"data row1 col0\" >0.55</td>\n",
       "      <td id=\"T_78195_row1_col1\" class=\"data row1 col1\" >1.00</td>\n",
       "      <td id=\"T_78195_row1_col2\" class=\"data row1 col2\" >-0.52</td>\n",
       "      <td id=\"T_78195_row1_col3\" class=\"data row1 col3\" >-0.54</td>\n",
       "      <td id=\"T_78195_row1_col4\" class=\"data row1 col4\" >0.01</td>\n",
       "      <td id=\"T_78195_row1_col5\" class=\"data row1 col5\" >-0.05</td>\n",
       "      <td id=\"T_78195_row1_col6\" class=\"data row1 col6\" >0.03</td>\n",
       "      <td id=\"T_78195_row1_col7\" class=\"data row1 col7\" >0.03</td>\n",
       "      <td id=\"T_78195_row1_col8\" class=\"data row1 col8\" >-0.36</td>\n",
       "    </tr>\n",
       "    <tr>\n",
       "      <th id=\"T_78195_level0_row2\" class=\"row_heading level0 row2\" > Excess kurtosis of the integrated profile</th>\n",
       "      <td id=\"T_78195_row2_col0\" class=\"data row2 col0\" >-0.87</td>\n",
       "      <td id=\"T_78195_row2_col1\" class=\"data row2 col1\" >-0.52</td>\n",
       "      <td id=\"T_78195_row2_col2\" class=\"data row2 col2\" >1.00</td>\n",
       "      <td id=\"T_78195_row2_col3\" class=\"data row2 col3\" >0.95</td>\n",
       "      <td id=\"T_78195_row2_col4\" class=\"data row2 col4\" >0.41</td>\n",
       "      <td id=\"T_78195_row2_col5\" class=\"data row2 col5\" >0.43</td>\n",
       "      <td id=\"T_78195_row2_col6\" class=\"data row2 col6\" >-0.34</td>\n",
       "      <td id=\"T_78195_row2_col7\" class=\"data row2 col7\" >-0.21</td>\n",
       "      <td id=\"T_78195_row2_col8\" class=\"data row2 col8\" >0.79</td>\n",
       "    </tr>\n",
       "    <tr>\n",
       "      <th id=\"T_78195_level0_row3\" class=\"row_heading level0 row3\" > Skewness of the integrated profile</th>\n",
       "      <td id=\"T_78195_row3_col0\" class=\"data row3 col0\" >-0.74</td>\n",
       "      <td id=\"T_78195_row3_col1\" class=\"data row3 col1\" >-0.54</td>\n",
       "      <td id=\"T_78195_row3_col2\" class=\"data row3 col2\" >0.95</td>\n",
       "      <td id=\"T_78195_row3_col3\" class=\"data row3 col3\" >1.00</td>\n",
       "      <td id=\"T_78195_row3_col4\" class=\"data row3 col4\" >0.41</td>\n",
       "      <td id=\"T_78195_row3_col5\" class=\"data row3 col5\" >0.42</td>\n",
       "      <td id=\"T_78195_row3_col6\" class=\"data row3 col6\" >-0.33</td>\n",
       "      <td id=\"T_78195_row3_col7\" class=\"data row3 col7\" >-0.20</td>\n",
       "      <td id=\"T_78195_row3_col8\" class=\"data row3 col8\" >0.71</td>\n",
       "    </tr>\n",
       "    <tr>\n",
       "      <th id=\"T_78195_level0_row4\" class=\"row_heading level0 row4\" > Mean of the DM-SNR curve</th>\n",
       "      <td id=\"T_78195_row4_col0\" class=\"data row4 col0\" >-0.30</td>\n",
       "      <td id=\"T_78195_row4_col1\" class=\"data row4 col1\" >0.01</td>\n",
       "      <td id=\"T_78195_row4_col2\" class=\"data row4 col2\" >0.41</td>\n",
       "      <td id=\"T_78195_row4_col3\" class=\"data row4 col3\" >0.41</td>\n",
       "      <td id=\"T_78195_row4_col4\" class=\"data row4 col4\" >1.00</td>\n",
       "      <td id=\"T_78195_row4_col5\" class=\"data row4 col5\" >0.80</td>\n",
       "      <td id=\"T_78195_row4_col6\" class=\"data row4 col6\" >-0.62</td>\n",
       "      <td id=\"T_78195_row4_col7\" class=\"data row4 col7\" >-0.35</td>\n",
       "      <td id=\"T_78195_row4_col8\" class=\"data row4 col8\" >0.40</td>\n",
       "    </tr>\n",
       "    <tr>\n",
       "      <th id=\"T_78195_level0_row5\" class=\"row_heading level0 row5\" > Standard deviation of the DM-SNR curve</th>\n",
       "      <td id=\"T_78195_row5_col0\" class=\"data row5 col0\" >-0.31</td>\n",
       "      <td id=\"T_78195_row5_col1\" class=\"data row5 col1\" >-0.05</td>\n",
       "      <td id=\"T_78195_row5_col2\" class=\"data row5 col2\" >0.43</td>\n",
       "      <td id=\"T_78195_row5_col3\" class=\"data row5 col3\" >0.42</td>\n",
       "      <td id=\"T_78195_row5_col4\" class=\"data row5 col4\" >0.80</td>\n",
       "      <td id=\"T_78195_row5_col5\" class=\"data row5 col5\" >1.00</td>\n",
       "      <td id=\"T_78195_row5_col6\" class=\"data row5 col6\" >-0.81</td>\n",
       "      <td id=\"T_78195_row5_col7\" class=\"data row5 col7\" >-0.58</td>\n",
       "      <td id=\"T_78195_row5_col8\" class=\"data row5 col8\" >0.49</td>\n",
       "    </tr>\n",
       "    <tr>\n",
       "      <th id=\"T_78195_level0_row6\" class=\"row_heading level0 row6\" > Excess kurtosis of the DM-SNR curve</th>\n",
       "      <td id=\"T_78195_row6_col0\" class=\"data row6 col0\" >0.23</td>\n",
       "      <td id=\"T_78195_row6_col1\" class=\"data row6 col1\" >0.03</td>\n",
       "      <td id=\"T_78195_row6_col2\" class=\"data row6 col2\" >-0.34</td>\n",
       "      <td id=\"T_78195_row6_col3\" class=\"data row6 col3\" >-0.33</td>\n",
       "      <td id=\"T_78195_row6_col4\" class=\"data row6 col4\" >-0.62</td>\n",
       "      <td id=\"T_78195_row6_col5\" class=\"data row6 col5\" >-0.81</td>\n",
       "      <td id=\"T_78195_row6_col6\" class=\"data row6 col6\" >1.00</td>\n",
       "      <td id=\"T_78195_row6_col7\" class=\"data row6 col7\" >0.92</td>\n",
       "      <td id=\"T_78195_row6_col8\" class=\"data row6 col8\" >-0.39</td>\n",
       "    </tr>\n",
       "    <tr>\n",
       "      <th id=\"T_78195_level0_row7\" class=\"row_heading level0 row7\" > Skewness of the DM-SNR curve</th>\n",
       "      <td id=\"T_78195_row7_col0\" class=\"data row7 col0\" >0.14</td>\n",
       "      <td id=\"T_78195_row7_col1\" class=\"data row7 col1\" >0.03</td>\n",
       "      <td id=\"T_78195_row7_col2\" class=\"data row7 col2\" >-0.21</td>\n",
       "      <td id=\"T_78195_row7_col3\" class=\"data row7 col3\" >-0.20</td>\n",
       "      <td id=\"T_78195_row7_col4\" class=\"data row7 col4\" >-0.35</td>\n",
       "      <td id=\"T_78195_row7_col5\" class=\"data row7 col5\" >-0.58</td>\n",
       "      <td id=\"T_78195_row7_col6\" class=\"data row7 col6\" >0.92</td>\n",
       "      <td id=\"T_78195_row7_col7\" class=\"data row7 col7\" >1.00</td>\n",
       "      <td id=\"T_78195_row7_col8\" class=\"data row7 col8\" >-0.26</td>\n",
       "    </tr>\n",
       "    <tr>\n",
       "      <th id=\"T_78195_level0_row8\" class=\"row_heading level0 row8\" >target_class</th>\n",
       "      <td id=\"T_78195_row8_col0\" class=\"data row8 col0\" >-0.67</td>\n",
       "      <td id=\"T_78195_row8_col1\" class=\"data row8 col1\" >-0.36</td>\n",
       "      <td id=\"T_78195_row8_col2\" class=\"data row8 col2\" >0.79</td>\n",
       "      <td id=\"T_78195_row8_col3\" class=\"data row8 col3\" >0.71</td>\n",
       "      <td id=\"T_78195_row8_col4\" class=\"data row8 col4\" >0.40</td>\n",
       "      <td id=\"T_78195_row8_col5\" class=\"data row8 col5\" >0.49</td>\n",
       "      <td id=\"T_78195_row8_col6\" class=\"data row8 col6\" >-0.39</td>\n",
       "      <td id=\"T_78195_row8_col7\" class=\"data row8 col7\" >-0.26</td>\n",
       "      <td id=\"T_78195_row8_col8\" class=\"data row8 col8\" >1.00</td>\n",
       "    </tr>\n",
       "  </tbody>\n",
       "</table>\n"
      ],
      "text/plain": [
       "<pandas.io.formats.style.Styler at 0x7fea93c1a910>"
      ]
     },
     "execution_count": 13,
     "metadata": {},
     "output_type": "execute_result"
    }
   ],
   "source": [
    "correlation = df.corr()\n",
    "correlation.style.background_gradient(cmap='coolwarm').set_precision(2)"
   ]
  },
  {
   "cell_type": "markdown",
   "metadata": {
    "id": "d1K6jFIElW9C"
   },
   "source": [
    "## 3 Preprocessing\n",
    "\n",
    "### 3.1 Missing Data, Encoding, Standardizing, Feature Engineering\n",
    "\n",
    "Look in: [freecodecamp: Preprocessing](https://www.youtube.com/watch?v=0B5eIE_1vpU&t=2076s) (not necessary in this dataset)"
   ]
  },
  {
   "cell_type": "markdown",
   "metadata": {
    "id": "Y_hHuRfLlW9C"
   },
   "source": [
    "### 3.2 Split data in train/test"
   ]
  },
  {
   "cell_type": "code",
   "execution_count": 14,
   "metadata": {
    "id": "PHVl4vWzlW9C"
   },
   "outputs": [],
   "source": [
    "X = df.drop(['target_class'], axis=1)\n",
    "y = df['target_class']"
   ]
  },
  {
   "cell_type": "code",
   "execution_count": 15,
   "metadata": {
    "colab": {
     "base_uri": "https://localhost:8080/"
    },
    "id": "8P1faZeAlW9D",
    "outputId": "dd62086e-8b1b-4131-9ba7-638ab6136f79"
   },
   "outputs": [
    {
     "data": {
      "text/plain": [
       "((8949, 8), (8949, 8), (8949,), (8949,))"
      ]
     },
     "execution_count": 15,
     "metadata": {},
     "output_type": "execute_result"
    }
   ],
   "source": [
    "from sklearn.model_selection import train_test_split\n",
    "\n",
    "# 50/50 (common: 70/30 or 80/20)\n",
    "X_train, X_test, y_train, y_test = train_test_split(\n",
    "    X, y, train_size=0.5, random_state=42, stratify=y)\n",
    "\n",
    "X_train.shape, X_test.shape, y_train.shape, y_test.shape"
   ]
  },
  {
   "cell_type": "markdown",
   "metadata": {
    "id": "pNvSta90lW9E"
   },
   "source": [
    "## 4. Models"
   ]
  },
  {
   "cell_type": "markdown",
   "metadata": {
    "id": "UYoVJIQelW9E"
   },
   "source": [
    "## How to use Scikit-Learn?\n",
    "\n",
    "By [Andre Ye](https://www.linkedin.com/in/andre-ye-501746150/), in KDnuggets:[The Ultimate Scikit-Learn Machine Learning Cheatsheet](https://www.kdnuggets.com/2021/01/ultimate-scikit-learn-machine-learning-cheatsheet.html).\n",
    "\n",
    "```python\n",
    "# import\n",
    "from sklearn.BRANCH import MODEL_NAME\n",
    "from sklearn.metrics import METRIC_NAME\n",
    "\n",
    "# Build\n",
    "MODEL = MODEL_NAME()\n",
    "\n",
    "# train\n",
    "MODEL.fit(X_train, y_train)\n",
    "\n",
    "# predict\n",
    "y_pred_MODEL = MODEL.predict(X_test)\n",
    "\n",
    "# eval \n",
    "METRIC = METRIC_NAME((y_test, y_pred_MODEL)) \n",
    "```"
   ]
  },
  {
   "cell_type": "markdown",
   "metadata": {
    "id": "KsOSe79xlW9G"
   },
   "source": [
    "### 4.1 Decision Tree\n",
    "\n",
    "See the parameters in: [sklearn.tree.DecisionTreeClassifier](https://scikit-learn.org/stable/modules/generated/sklearn.tree.DecisionTreeClassifier.html)\n",
    "\n",
    "More details in: [Decision Trees](https://scikit-learn.org/stable/modules/tree.html)\n",
    "\n",
    "How to tune the parameters: [InDepth: Parameter tuning for Decision Tree](https://medium.com/@mohtedibf/indepth-parameter-tuning-for-decision-tree-6753118a03c3)"
   ]
  },
  {
   "cell_type": "code",
   "execution_count": 16,
   "metadata": {
    "id": "ZNq6umkdlW9I"
   },
   "outputs": [],
   "source": [
    "from sklearn.tree import DecisionTreeClassifier\n",
    "\n",
    "# Building (need to tune for better results)\n",
    "DT = DecisionTreeClassifier(max_depth=3, random_state=42)"
   ]
  },
  {
   "cell_type": "code",
   "execution_count": 17,
   "metadata": {
    "colab": {
     "base_uri": "https://localhost:8080/"
    },
    "id": "1RQEUBKjlW9I",
    "outputId": "3b202832-d350-4ebb-8ffe-672e10a0d217"
   },
   "outputs": [
    {
     "data": {
      "text/plain": [
       "DecisionTreeClassifier(max_depth=3, random_state=42)"
      ]
     },
     "execution_count": 17,
     "metadata": {},
     "output_type": "execute_result"
    }
   ],
   "source": [
    "# Training \n",
    "DT.fit(X_train, y_train)"
   ]
  },
  {
   "cell_type": "code",
   "execution_count": 18,
   "metadata": {},
   "outputs": [],
   "source": [
    "# Predict\n",
    "y_pred_DT = DT.predict(X_test)"
   ]
  },
  {
   "cell_type": "code",
   "execution_count": 19,
   "metadata": {
    "id": "yGTt9oxzlW9K"
   },
   "outputs": [],
   "source": [
    "# Evaluating\n",
    "from sklearn.metrics import accuracy_score\n",
    "from sklearn.metrics import f1_score\n",
    "from sklearn.metrics import matthews_corrcoef\n",
    "from sklearn.metrics import confusion_matrix\n",
    "from sklearn.metrics import roc_curve\n",
    "from sklearn.metrics import auc\n",
    "from sklearn.metrics import confusion_matrix"
   ]
  },
  {
   "cell_type": "markdown",
   "metadata": {
    "id": "NRboQoezlW9K"
   },
   "source": [
    "*Confusion Matrix:*\n",
    "\\begin{pmatrix} \n",
    "True Negative & False Positive\\\\\n",
    "False Negative & True Positive\n",
    "\\end{pmatrix} "
   ]
  },
  {
   "cell_type": "markdown",
   "metadata": {
    "id": "rv9DTvullW9K"
   },
   "source": [
    "\\begin{equation}\n",
    "Accuracy = \\frac{TP+TN}{(TP+TN+FP+FN)} \\\\\n",
    "F1 = \\frac{2*TP}{(2*TP+FP+FN)} \\\\\n",
    "MCC = \\frac{TP*TN-FP*FN}{\\sqrt{(TP+FP)(TP+FN)(TN+FP)(TN+FN)}} \\\\\n",
    "\\end{equation}\n",
    "\n",
    "*where:*\n",
    "\n",
    "*TP = True Positive  \n",
    "TN = True Negative  \n",
    "FP = False Positive  \n",
    "FN = False Negative* "
   ]
  },
  {
   "cell_type": "code",
   "execution_count": 20,
   "metadata": {
    "colab": {
     "base_uri": "https://localhost:8080/"
    },
    "id": "dezqsWJslW9L",
    "outputId": "c510682c-d24a-4ac9-8297-54226128c195"
   },
   "outputs": [
    {
     "name": "stdout",
     "output_type": "stream",
     "text": [
      "DT Model performance\n",
      "----------------------\n",
      "- Accuracy: 0.978\n",
      "- F1 score: 0.978\n",
      "- MCC: 0.868\n",
      "----------------------\n"
     ]
    }
   ],
   "source": [
    "DT_accuracy = accuracy_score(y_test, y_pred_DT)\n",
    "DT_f1 = f1_score(y_test, y_pred_DT, average='weighted')\n",
    "# best metric for binary (0/1) classification \n",
    "DT_mcc = matthews_corrcoef(y_test, y_pred_DT) \n",
    "\n",
    "print('DT Model performance')\n",
    "print('----------------------')\n",
    "print(f'- Accuracy: {DT_accuracy:0.3f}')\n",
    "print(f'- F1 score: {DT_f1:0.3f}')\n",
    "print(f'- MCC: {DT_mcc:0.3f}')\n",
    "print('----------------------')"
   ]
  },
  {
   "cell_type": "markdown",
   "metadata": {
    "id": "1a7d-N7zlW9L"
   },
   "source": [
    "### Trick (worst possible threshold)"
   ]
  },
  {
   "cell_type": "code",
   "execution_count": 21,
   "metadata": {
    "id": "quxyWZMQlW9M"
   },
   "outputs": [],
   "source": [
    "# Bad practice (don't do it)\n",
    "import warnings\n",
    "warnings.filterwarnings('ignore')"
   ]
  },
  {
   "cell_type": "code",
   "execution_count": 22,
   "metadata": {
    "colab": {
     "base_uri": "https://localhost:8080/"
    },
    "id": "JLHBBvcElW9M",
    "outputId": "b6aa35b5-4fa4-4995-9f95-d7a71689e3de"
   },
   "outputs": [
    {
     "name": "stdout",
     "output_type": "stream",
     "text": [
      "DT Model performance \n",
      "----------------------\n",
      "- Accuracy: 0.908\n",
      "- F1 score: 0.865\n",
      "- MCC: 0.000\n",
      "----------------------\n"
     ]
    }
   ],
   "source": [
    "threshold = [0] * len(X_test)  # All results equal to 0\n",
    "\n",
    "threshold_accuracy = accuracy_score(y_test, threshold)\n",
    "threshold_f1 = f1_score(y_test, threshold, average='weighted')\n",
    "threshold_mcc = matthews_corrcoef(y_test, threshold)\n",
    "\n",
    "print('DT Model performance ')\n",
    "print('----------------------')\n",
    "print(f'- Accuracy: {threshold_accuracy:0.3f}')\n",
    "print(f'- F1 score: {threshold_f1:0.3f}')\n",
    "print(f'- MCC: {threshold_mcc:0.3f}')\n",
    "print('----------------------')"
   ]
  },
  {
   "cell_type": "code",
   "execution_count": 23,
   "metadata": {
    "colab": {
     "base_uri": "https://localhost:8080/",
     "height": 300
    },
    "id": "9HitglTBlW9N",
    "outputId": "024440bd-328f-4f4a-d54f-21acb69e6edd"
   },
   "outputs": [
    {
     "data": {
      "text/html": [
       "<div>\n",
       "<style scoped>\n",
       "    .dataframe tbody tr th:only-of-type {\n",
       "        vertical-align: middle;\n",
       "    }\n",
       "\n",
       "    .dataframe tbody tr th {\n",
       "        vertical-align: top;\n",
       "    }\n",
       "\n",
       "    .dataframe thead th {\n",
       "        text-align: right;\n",
       "    }\n",
       "</style>\n",
       "<table border=\"1\" class=\"dataframe\">\n",
       "  <thead>\n",
       "    <tr style=\"text-align: right;\">\n",
       "      <th></th>\n",
       "      <th>Feature</th>\n",
       "      <th>Importance</th>\n",
       "    </tr>\n",
       "  </thead>\n",
       "  <tbody>\n",
       "    <tr>\n",
       "      <th>2</th>\n",
       "      <td>Excess kurtosis of the integrated profile</td>\n",
       "      <td>0.972950</td>\n",
       "    </tr>\n",
       "    <tr>\n",
       "      <th>5</th>\n",
       "      <td>Standard deviation of the DM-SNR curve</td>\n",
       "      <td>0.019431</td>\n",
       "    </tr>\n",
       "    <tr>\n",
       "      <th>0</th>\n",
       "      <td>Mean of the integrated profile</td>\n",
       "      <td>0.006398</td>\n",
       "    </tr>\n",
       "    <tr>\n",
       "      <th>1</th>\n",
       "      <td>Standard deviation of the integrated profile</td>\n",
       "      <td>0.001221</td>\n",
       "    </tr>\n",
       "    <tr>\n",
       "      <th>3</th>\n",
       "      <td>Skewness of the integrated profile</td>\n",
       "      <td>0.000000</td>\n",
       "    </tr>\n",
       "    <tr>\n",
       "      <th>4</th>\n",
       "      <td>Mean of the DM-SNR curve</td>\n",
       "      <td>0.000000</td>\n",
       "    </tr>\n",
       "    <tr>\n",
       "      <th>6</th>\n",
       "      <td>Excess kurtosis of the DM-SNR curve</td>\n",
       "      <td>0.000000</td>\n",
       "    </tr>\n",
       "    <tr>\n",
       "      <th>7</th>\n",
       "      <td>Skewness of the DM-SNR curve</td>\n",
       "      <td>0.000000</td>\n",
       "    </tr>\n",
       "  </tbody>\n",
       "</table>\n",
       "</div>"
      ],
      "text/plain": [
       "                                         Feature  Importance\n",
       "2      Excess kurtosis of the integrated profile    0.972950\n",
       "5         Standard deviation of the DM-SNR curve    0.019431\n",
       "0                 Mean of the integrated profile    0.006398\n",
       "1   Standard deviation of the integrated profile    0.001221\n",
       "3             Skewness of the integrated profile    0.000000\n",
       "4                       Mean of the DM-SNR curve    0.000000\n",
       "6            Excess kurtosis of the DM-SNR curve    0.000000\n",
       "7                   Skewness of the DM-SNR curve    0.000000"
      ]
     },
     "execution_count": 23,
     "metadata": {},
     "output_type": "execute_result"
    }
   ],
   "source": [
    "# Feature Importance\n",
    "\n",
    "featureImportanceDT = pd.DataFrame({'Feature': list(X_train.columns),\n",
    "                                  'Importance': DT.feature_importances_}).\\\n",
    "    sort_values('Importance', ascending=False)\n",
    "\n",
    "featureImportanceDT"
   ]
  },
  {
   "cell_type": "markdown",
   "metadata": {
    "id": "UehqlGqJlW9N"
   },
   "source": [
    "### 4.2 Random Forest\n",
    "\n",
    "See the parameters in: [sklearn.ensemble.RandomForestClassifier](https://scikit-learn.org/stable/modules/generated/sklearn.ensemble.RandomForestClassifier.html)\n",
    "\n",
    "More details in: [Random Forests](https://scikit-learn.org/stable/modules/ensemble.html#random-forests)\n",
    "\n",
    "How to tune the parameters: [Random Forest: Hyperparameters and how to fine-tune them](https://towardsdatascience.com/random-forest-hyperparameters-and-how-to-fine-tune-them-17aee785ee0d)"
   ]
  },
  {
   "cell_type": "code",
   "execution_count": 24,
   "metadata": {
    "colab": {
     "base_uri": "https://localhost:8080/"
    },
    "id": "8eRFslFElW9N",
    "outputId": "e254da5e-219a-48b0-b344-028958816e63"
   },
   "outputs": [
    {
     "data": {
      "text/plain": [
       "RandomForestClassifier(max_depth=4, random_state=42)"
      ]
     },
     "execution_count": 24,
     "metadata": {},
     "output_type": "execute_result"
    }
   ],
   "source": [
    "from sklearn.ensemble import RandomForestClassifier\n",
    "\n",
    "# Building (need to tune for better results)\n",
    "RF = RandomForestClassifier(max_depth=4, random_state=42)\n",
    "\n",
    "# Training \n",
    "RF.fit(X_train, y_train)"
   ]
  },
  {
   "cell_type": "code",
   "execution_count": 25,
   "metadata": {},
   "outputs": [],
   "source": [
    "# Predict\n",
    "y_pred_RF = RF.predict(X_test)"
   ]
  },
  {
   "cell_type": "code",
   "execution_count": 26,
   "metadata": {
    "colab": {
     "base_uri": "https://localhost:8080/"
    },
    "id": "UjTY8b8PlW9O",
    "outputId": "e42cf851-ffbb-448a-df9f-3bcc51ecb85a"
   },
   "outputs": [
    {
     "name": "stdout",
     "output_type": "stream",
     "text": [
      "RF Model performance\n",
      "----------------------\n",
      "- Accuracy: 0.979\n",
      "- F1 score: 0.979\n",
      "- MCC: 0.870\n",
      "----------------------\n"
     ]
    }
   ],
   "source": [
    "# Evaluating\n",
    "RF_accuracy = accuracy_score(y_test, y_pred_RF)\n",
    "RF_f1 = f1_score(y_test, y_pred_RF, average='weighted')\n",
    "# best metric for binary (0/1) classification \n",
    "RF_mcc = matthews_corrcoef(y_test, y_pred_RF) \n",
    "\n",
    "print('RF Model performance')\n",
    "print('----------------------')\n",
    "print(f'- Accuracy: {RF_accuracy:0.3f}')\n",
    "print(f'- F1 score: {RF_f1:0.3f}')\n",
    "print(f'- MCC: {RF_mcc:0.3f}')\n",
    "print('----------------------')"
   ]
  },
  {
   "cell_type": "code",
   "execution_count": 27,
   "metadata": {
    "colab": {
     "base_uri": "https://localhost:8080/",
     "height": 300
    },
    "id": "Bxkgf3fRlW9O",
    "outputId": "d20acc80-808d-404e-8d02-a055fddc779c"
   },
   "outputs": [
    {
     "data": {
      "text/html": [
       "<div>\n",
       "<style scoped>\n",
       "    .dataframe tbody tr th:only-of-type {\n",
       "        vertical-align: middle;\n",
       "    }\n",
       "\n",
       "    .dataframe tbody tr th {\n",
       "        vertical-align: top;\n",
       "    }\n",
       "\n",
       "    .dataframe thead th {\n",
       "        text-align: right;\n",
       "    }\n",
       "</style>\n",
       "<table border=\"1\" class=\"dataframe\">\n",
       "  <thead>\n",
       "    <tr style=\"text-align: right;\">\n",
       "      <th></th>\n",
       "      <th>feature</th>\n",
       "      <th>importance</th>\n",
       "    </tr>\n",
       "  </thead>\n",
       "  <tbody>\n",
       "    <tr>\n",
       "      <th>2</th>\n",
       "      <td>Excess kurtosis of the integrated profile</td>\n",
       "      <td>0.410166</td>\n",
       "    </tr>\n",
       "    <tr>\n",
       "      <th>3</th>\n",
       "      <td>Skewness of the integrated profile</td>\n",
       "      <td>0.215174</td>\n",
       "    </tr>\n",
       "    <tr>\n",
       "      <th>0</th>\n",
       "      <td>Mean of the integrated profile</td>\n",
       "      <td>0.176768</td>\n",
       "    </tr>\n",
       "    <tr>\n",
       "      <th>4</th>\n",
       "      <td>Mean of the DM-SNR curve</td>\n",
       "      <td>0.059261</td>\n",
       "    </tr>\n",
       "    <tr>\n",
       "      <th>5</th>\n",
       "      <td>Standard deviation of the DM-SNR curve</td>\n",
       "      <td>0.054170</td>\n",
       "    </tr>\n",
       "    <tr>\n",
       "      <th>1</th>\n",
       "      <td>Standard deviation of the integrated profile</td>\n",
       "      <td>0.033804</td>\n",
       "    </tr>\n",
       "    <tr>\n",
       "      <th>7</th>\n",
       "      <td>Skewness of the DM-SNR curve</td>\n",
       "      <td>0.030396</td>\n",
       "    </tr>\n",
       "    <tr>\n",
       "      <th>6</th>\n",
       "      <td>Excess kurtosis of the DM-SNR curve</td>\n",
       "      <td>0.020261</td>\n",
       "    </tr>\n",
       "  </tbody>\n",
       "</table>\n",
       "</div>"
      ],
      "text/plain": [
       "                                         feature  importance\n",
       "2      Excess kurtosis of the integrated profile    0.410166\n",
       "3             Skewness of the integrated profile    0.215174\n",
       "0                 Mean of the integrated profile    0.176768\n",
       "4                       Mean of the DM-SNR curve    0.059261\n",
       "5         Standard deviation of the DM-SNR curve    0.054170\n",
       "1   Standard deviation of the integrated profile    0.033804\n",
       "7                   Skewness of the DM-SNR curve    0.030396\n",
       "6            Excess kurtosis of the DM-SNR curve    0.020261"
      ]
     },
     "execution_count": 27,
     "metadata": {},
     "output_type": "execute_result"
    }
   ],
   "source": [
    "# Feature Importance\n",
    "featureImportanceRF = pd.DataFrame({'feature': list(X_train.columns),\n",
    "                                  'importance': RF.feature_importances_}).\\\n",
    "    sort_values('importance', ascending=False)\n",
    "\n",
    "featureImportanceRF"
   ]
  },
  {
   "cell_type": "markdown",
   "metadata": {
    "id": "wcl5Jq5BlW9P"
   },
   "source": [
    "### 4.3 K Nearest Neighbors (KNN)\n",
    "\n",
    "See the parameters in: [sklearn.neighbors.KNeighborsClassifier](https://scikit-learn.org/stable/modules/generated/sklearn.neighbors.KNeighborsClassifier.html)\n",
    "\n",
    "More details in: [Nearest Neighbors](https://scikit-learn.org/stable/modules/neighbors.html)"
   ]
  },
  {
   "cell_type": "code",
   "execution_count": 28,
   "metadata": {
    "colab": {
     "base_uri": "https://localhost:8080/"
    },
    "id": "bG4ZFRVJlW9P",
    "outputId": "4418b37e-2540-42cb-cdea-3cf3c2016e30",
    "scrolled": true
   },
   "outputs": [
    {
     "data": {
      "text/plain": [
       "KNeighborsClassifier(metric='euclidean', n_neighbors=2)"
      ]
     },
     "execution_count": 28,
     "metadata": {},
     "output_type": "execute_result"
    }
   ],
   "source": [
    "from sklearn.neighbors import KNeighborsClassifier\n",
    "\n",
    "# Building\n",
    "KNN = KNeighborsClassifier(n_neighbors=2, metric='euclidean')\n",
    "\n",
    "# Training \n",
    "KNN.fit(X_train, y_train)"
   ]
  },
  {
   "cell_type": "code",
   "execution_count": 29,
   "metadata": {},
   "outputs": [],
   "source": [
    "# Predict\n",
    "y_pred_KNN = KNN.predict(X_test)"
   ]
  },
  {
   "cell_type": "code",
   "execution_count": 30,
   "metadata": {
    "colab": {
     "base_uri": "https://localhost:8080/"
    },
    "id": "8AzSoQS_lW9Q",
    "outputId": "237130e2-a92f-48ae-bf5b-7f85f9923f56"
   },
   "outputs": [
    {
     "name": "stdout",
     "output_type": "stream",
     "text": [
      "KNN Model performance\n",
      "----------------------\n",
      "- Accuracy: 0.970\n",
      "- F1 score: 0.968\n",
      "- MCC: 0.805\n",
      "----------------------\n"
     ]
    }
   ],
   "source": [
    "# Evaluating\n",
    "KNN_accuracy = accuracy_score(y_test, y_pred_KNN)\n",
    "KNN_f1 = f1_score(y_test, y_pred_KNN, average='weighted')\n",
    "# best metric for binary (0/1) classification \n",
    "KNN_mcc = matthews_corrcoef(y_test, y_pred_KNN) \n",
    "\n",
    "print('KNN Model performance')\n",
    "print('----------------------')\n",
    "print(f'- Accuracy: {KNN_accuracy:0.3f}')\n",
    "print(f'- F1 score: {KNN_f1:0.3f}')\n",
    "print(f'- MCC: {KNN_mcc:0.3f}')\n",
    "print('----------------------')"
   ]
  },
  {
   "cell_type": "markdown",
   "metadata": {
    "id": "CKG5L3avlW9R"
   },
   "source": [
    "### 4.4 Neural Network: Multi-Layer Perceptron (MLP)\n",
    "\n",
    "See the parameters in: [sklearn.neural_network.MLPClassifier](https://scikit-learn.org/stable/modules/generated/sklearn.neural_network.MLPClassifier.html)\n",
    "\n",
    "More details in: [Multi-layer Perceptron (MLP)](https://scikit-learn.org/stable/modules/neural_networks_supervised.html)"
   ]
  },
  {
   "cell_type": "code",
   "execution_count": 31,
   "metadata": {
    "colab": {
     "base_uri": "https://localhost:8080/"
    },
    "id": "Ip9TXl8ElW9R",
    "outputId": "210332b5-07c9-4cc3-ec26-38979317f226"
   },
   "outputs": [
    {
     "data": {
      "text/plain": [
       "MLPClassifier(alpha=1, max_iter=1000)"
      ]
     },
     "execution_count": 31,
     "metadata": {},
     "output_type": "execute_result"
    }
   ],
   "source": [
    "from sklearn.neural_network import MLPClassifier\n",
    "\n",
    "MLP = MLPClassifier(alpha=1, max_iter=1000)\n",
    "\n",
    "# Training \n",
    "MLP.fit(X_train, y_train)"
   ]
  },
  {
   "cell_type": "code",
   "execution_count": 32,
   "metadata": {},
   "outputs": [],
   "source": [
    "# Predict\n",
    "y_pred_MLP = MLP.predict(X_test)"
   ]
  },
  {
   "cell_type": "code",
   "execution_count": 33,
   "metadata": {
    "colab": {
     "base_uri": "https://localhost:8080/"
    },
    "id": "gtAO-oY-lW9R",
    "outputId": "2c95e654-7940-492b-8ac9-044360c84d92"
   },
   "outputs": [
    {
     "name": "stdout",
     "output_type": "stream",
     "text": [
      "MLP Model performance\n",
      "----------------------\n",
      "- Accuracy: 0.972\n",
      "- F1 score: 0.970\n",
      "- MCC: 0.818\n",
      "----------------------\n"
     ]
    }
   ],
   "source": [
    "# Evaluating\n",
    "MLP_accuracy = accuracy_score(y_test, y_pred_MLP)\n",
    "MLP_f1 = f1_score(y_test, y_pred_MLP, average='weighted')\n",
    "# best metric for binary (0/1) classification \n",
    "MLP_mcc = matthews_corrcoef(y_test, y_pred_MLP) \n",
    "\n",
    "print('MLP Model performance')\n",
    "print('----------------------')\n",
    "print(f'- Accuracy: {MLP_accuracy:0.3f}')\n",
    "print(f'- F1 score: {MLP_f1:0.3f}')\n",
    "print(f'- MCC: {MLP_mcc:0.3f}')\n",
    "print('----------------------')"
   ]
  },
  {
   "cell_type": "markdown",
   "metadata": {
    "id": "uf2su988lW9S"
   },
   "source": [
    "### 4.5 XGBoost (Ensemble model)\n",
    "\n",
    "See the parameters in: [XGBoost Parameters](https://xgboost.readthedocs.io/en/latest/parameter.html)\n",
    "\n",
    "More details in: [Getting Started with XGBoost in scikit-learn](https://towardsdatascience.com/getting-started-with-xgboost-in-scikit-learn-f69f5f470a97)\n",
    "\n",
    "* XGBoost is regularized (avoid overfit).\n",
    "* XGBoost Have hyperparameters to handle imbalanced data and null values.\n",
    "* Combine some of the best practices and algorithms in a single model.\n",
    "* Fast and easy to use.\n",
    "* It is my go-to algorithm for dealing with structured data."
   ]
  },
  {
   "cell_type": "code",
   "execution_count": 34,
   "metadata": {
    "colab": {
     "base_uri": "https://localhost:8080/"
    },
    "id": "ugCJAaSclW9S",
    "outputId": "6a6baea5-f952-49f0-863d-1bf2aece6941"
   },
   "outputs": [
    {
     "name": "stdout",
     "output_type": "stream",
     "text": [
      "[14:54:47] WARNING: ../src/learner.cc:1115: Starting in XGBoost 1.3.0, the default evaluation metric used with the objective 'binary:logistic' was changed from 'error' to 'logloss'. Explicitly set eval_metric if you'd like to restore the old behavior.\n"
     ]
    },
    {
     "data": {
      "text/plain": [
       "XGBClassifier(base_score=0.5, booster='gbtree', colsample_bylevel=1,\n",
       "              colsample_bynode=1, colsample_bytree=1, enable_categorical=False,\n",
       "              gamma=0, gpu_id=-1, importance_type=None,\n",
       "              interaction_constraints='', learning_rate=0.300000012,\n",
       "              max_delta_step=0, max_depth=4, min_child_weight=1, missing=nan,\n",
       "              monotone_constraints='()', n_estimators=100, n_jobs=4,\n",
       "              num_parallel_tree=1, predictor='auto', random_state=42,\n",
       "              reg_alpha=0, reg_lambda=1, scale_pos_weight=1, subsample=1,\n",
       "              tree_method='exact', validate_parameters=1, verbosity=None)"
      ]
     },
     "execution_count": 34,
     "metadata": {},
     "output_type": "execute_result"
    }
   ],
   "source": [
    "import xgboost as xgb\n",
    "\n",
    "# Building (need to tune for better results)\n",
    "XGB = xgb.XGBClassifier(max_depth=4, random_state=42)\n",
    "\n",
    "# Training \n",
    "XGB.fit(X_train, y_train)"
   ]
  },
  {
   "cell_type": "code",
   "execution_count": 35,
   "metadata": {},
   "outputs": [],
   "source": [
    "# Predict\n",
    "y_pred_XGB = XGB.predict(X_test)"
   ]
  },
  {
   "cell_type": "code",
   "execution_count": 36,
   "metadata": {
    "colab": {
     "base_uri": "https://localhost:8080/"
    },
    "id": "OTfDqVZUlW9S",
    "outputId": "7373e2e2-da5d-4d7d-dd5d-208250e7ba03"
   },
   "outputs": [
    {
     "name": "stdout",
     "output_type": "stream",
     "text": [
      "XGB Model performance\n",
      "----------------------\n",
      "- Accuracy: 0.979\n",
      "- F1 score: 0.978\n",
      "- MCC: 0.868\n",
      "----------------------\n"
     ]
    }
   ],
   "source": [
    "# Evaluating\n",
    "XGB_accuracy = accuracy_score(y_test, y_pred_XGB)\n",
    "XGB_f1 = f1_score(y_test, y_pred_XGB, average='weighted')\n",
    "# best metric for binary (0/1) classification \n",
    "XGB_mcc = matthews_corrcoef(y_test, y_pred_XGB) \n",
    "\n",
    "print('XGB Model performance')\n",
    "print('----------------------')\n",
    "print(f'- Accuracy: {XGB_accuracy:0.3f}')\n",
    "print(f'- F1 score: {XGB_f1:0.3f}')\n",
    "print(f'- MCC: {XGB_mcc:0.3f}')\n",
    "print('----------------------')"
   ]
  },
  {
   "cell_type": "code",
   "execution_count": 37,
   "metadata": {
    "colab": {
     "base_uri": "https://localhost:8080/",
     "height": 0
    },
    "id": "KKC9kwT5lW9T",
    "outputId": "cdd3519f-6deb-4de3-c52c-6b3408e23939"
   },
   "outputs": [
    {
     "data": {
      "text/html": [
       "<div>\n",
       "<style scoped>\n",
       "    .dataframe tbody tr th:only-of-type {\n",
       "        vertical-align: middle;\n",
       "    }\n",
       "\n",
       "    .dataframe tbody tr th {\n",
       "        vertical-align: top;\n",
       "    }\n",
       "\n",
       "    .dataframe thead th {\n",
       "        text-align: right;\n",
       "    }\n",
       "</style>\n",
       "<table border=\"1\" class=\"dataframe\">\n",
       "  <thead>\n",
       "    <tr style=\"text-align: right;\">\n",
       "      <th></th>\n",
       "      <th>feature</th>\n",
       "      <th>importance</th>\n",
       "    </tr>\n",
       "  </thead>\n",
       "  <tbody>\n",
       "    <tr>\n",
       "      <th>2</th>\n",
       "      <td>Excess kurtosis of the integrated profile</td>\n",
       "      <td>0.705079</td>\n",
       "    </tr>\n",
       "    <tr>\n",
       "      <th>5</th>\n",
       "      <td>Standard deviation of the DM-SNR curve</td>\n",
       "      <td>0.066338</td>\n",
       "    </tr>\n",
       "    <tr>\n",
       "      <th>1</th>\n",
       "      <td>Standard deviation of the integrated profile</td>\n",
       "      <td>0.043162</td>\n",
       "    </tr>\n",
       "    <tr>\n",
       "      <th>6</th>\n",
       "      <td>Excess kurtosis of the DM-SNR curve</td>\n",
       "      <td>0.040389</td>\n",
       "    </tr>\n",
       "    <tr>\n",
       "      <th>0</th>\n",
       "      <td>Mean of the integrated profile</td>\n",
       "      <td>0.038011</td>\n",
       "    </tr>\n",
       "    <tr>\n",
       "      <th>3</th>\n",
       "      <td>Skewness of the integrated profile</td>\n",
       "      <td>0.037221</td>\n",
       "    </tr>\n",
       "    <tr>\n",
       "      <th>4</th>\n",
       "      <td>Mean of the DM-SNR curve</td>\n",
       "      <td>0.035053</td>\n",
       "    </tr>\n",
       "    <tr>\n",
       "      <th>7</th>\n",
       "      <td>Skewness of the DM-SNR curve</td>\n",
       "      <td>0.034746</td>\n",
       "    </tr>\n",
       "  </tbody>\n",
       "</table>\n",
       "</div>"
      ],
      "text/plain": [
       "                                         feature  importance\n",
       "2      Excess kurtosis of the integrated profile    0.705079\n",
       "5         Standard deviation of the DM-SNR curve    0.066338\n",
       "1   Standard deviation of the integrated profile    0.043162\n",
       "6            Excess kurtosis of the DM-SNR curve    0.040389\n",
       "0                 Mean of the integrated profile    0.038011\n",
       "3             Skewness of the integrated profile    0.037221\n",
       "4                       Mean of the DM-SNR curve    0.035053\n",
       "7                   Skewness of the DM-SNR curve    0.034746"
      ]
     },
     "execution_count": 37,
     "metadata": {},
     "output_type": "execute_result"
    }
   ],
   "source": [
    "# Feature Importance\n",
    "featureImportanceXGB = pd.DataFrame({'feature': list(X_train.columns),\n",
    "                                  'importance': XGB.feature_importances_}).\\\n",
    "    sort_values('importance', ascending=False)\n",
    "\n",
    "featureImportanceXGB"
   ]
  },
  {
   "cell_type": "markdown",
   "metadata": {
    "id": "IyrPiwKDlW9T"
   },
   "source": [
    "## 5. Comparison of models\n",
    "\n",
    "### 5.1 Metrics"
   ]
  },
  {
   "cell_type": "code",
   "execution_count": 38,
   "metadata": {
    "colab": {
     "base_uri": "https://localhost:8080/",
     "height": 238
    },
    "id": "C-gh-B3GlW9T",
    "outputId": "c2a3b197-0d66-4070-f216-0e707d4931b9"
   },
   "outputs": [
    {
     "data": {
      "text/html": [
       "<div>\n",
       "<style scoped>\n",
       "    .dataframe tbody tr th:only-of-type {\n",
       "        vertical-align: middle;\n",
       "    }\n",
       "\n",
       "    .dataframe tbody tr th {\n",
       "        vertical-align: top;\n",
       "    }\n",
       "\n",
       "    .dataframe thead th {\n",
       "        text-align: right;\n",
       "    }\n",
       "</style>\n",
       "<table border=\"1\" class=\"dataframe\">\n",
       "  <thead>\n",
       "    <tr style=\"text-align: right;\">\n",
       "      <th></th>\n",
       "      <th>Accuracy</th>\n",
       "      <th>F1</th>\n",
       "      <th>MCC</th>\n",
       "    </tr>\n",
       "  </thead>\n",
       "  <tbody>\n",
       "    <tr>\n",
       "      <th>Threshold</th>\n",
       "      <td>0.908481</td>\n",
       "      <td>0.864916</td>\n",
       "      <td>0.000000</td>\n",
       "    </tr>\n",
       "    <tr>\n",
       "      <th>DT</th>\n",
       "      <td>0.978322</td>\n",
       "      <td>0.978176</td>\n",
       "      <td>0.868007</td>\n",
       "    </tr>\n",
       "    <tr>\n",
       "      <th>RF</th>\n",
       "      <td>0.979104</td>\n",
       "      <td>0.978599</td>\n",
       "      <td>0.869823</td>\n",
       "    </tr>\n",
       "    <tr>\n",
       "      <th>KNN</th>\n",
       "      <td>0.969606</td>\n",
       "      <td>0.967917</td>\n",
       "      <td>0.804520</td>\n",
       "    </tr>\n",
       "    <tr>\n",
       "      <th>MLP</th>\n",
       "      <td>0.971729</td>\n",
       "      <td>0.969735</td>\n",
       "      <td>0.818279</td>\n",
       "    </tr>\n",
       "    <tr>\n",
       "      <th>XGB</th>\n",
       "      <td>0.978657</td>\n",
       "      <td>0.978309</td>\n",
       "      <td>0.868180</td>\n",
       "    </tr>\n",
       "  </tbody>\n",
       "</table>\n",
       "</div>"
      ],
      "text/plain": [
       "           Accuracy        F1       MCC\n",
       "Threshold  0.908481  0.864916  0.000000\n",
       "DT         0.978322  0.978176  0.868007\n",
       "RF         0.979104  0.978599  0.869823\n",
       "KNN        0.969606  0.967917  0.804520\n",
       "MLP        0.971729  0.969735  0.818279\n",
       "XGB        0.978657  0.978309  0.868180"
      ]
     },
     "execution_count": 38,
     "metadata": {},
     "output_type": "execute_result"
    }
   ],
   "source": [
    "results_accuracy = {\n",
    "    'Threshold': threshold_accuracy,\n",
    "    'DT': DT_accuracy,\n",
    "    'RF': RF_accuracy,\n",
    "    'KNN': KNN_accuracy,\n",
    "    'MLP': MLP_accuracy,\n",
    "    'XGB': XGB_accuracy,\n",
    "    \n",
    "}\n",
    "results_f1 = {\n",
    "    'Threshold': threshold_f1,\n",
    "    'DT': DT_f1,\n",
    "    'RF': RF_f1,\n",
    "    'KNN': KNN_f1,\n",
    "    'MLP': MLP_f1,\n",
    "    'XGB': XGB_f1,\n",
    "}\n",
    "results_mcc = {\n",
    "    'Threshold': threshold_mcc,\n",
    "    'DT': DT_mcc,\n",
    "    'RF': RF_mcc,\n",
    "    'KNN': KNN_mcc,\n",
    "    'MLP': MLP_mcc,\n",
    "    'XGB': XGB_mcc,\n",
    "}\n",
    "\n",
    "acc_df = pd.DataFrame.from_dict(results_accuracy, orient='index', columns=['Accuracy'])\n",
    "f1_df = pd.DataFrame.from_dict(results_f1, orient='index', columns=['F1'])\n",
    "mcc_df = pd.DataFrame.from_dict(results_mcc, orient='index', columns=['MCC'])\n",
    "results = pd.concat([acc_df, f1_df, mcc_df], axis=1)\n",
    "results"
   ]
  },
  {
   "cell_type": "markdown",
   "metadata": {
    "id": "Lq48gCW4lW9U"
   },
   "source": [
    "### 5.2 Receiver Operating Characteristic (ROC)"
   ]
  },
  {
   "cell_type": "code",
   "execution_count": 39,
   "metadata": {
    "colab": {
     "base_uri": "https://localhost:8080/",
     "height": 295
    },
    "id": "uDL-FqcTlW9U",
    "outputId": "878e6fb9-a8bf-43e6-f22d-2ee0c6daa562"
   },
   "outputs": [
    {
     "data": {
      "image/png": "[encoded data removed]",
      "text/plain": [
       "<Figure size 432x288 with 1 Axes>"
      ]
     },
     "metadata": {
      "needs_background": "light"
     },
     "output_type": "display_data"
    }
   ],
   "source": [
    "import matplotlib.pyplot as plt\n",
    "\n",
    "fpr_DT, tpr_DT, _ = roc_curve(y_test, y_pred_DT)\n",
    "fpr_RF, tpr_RF, _ = roc_curve(y_test, y_pred_RF)\n",
    "fpr_KNN, tpr_KNN, _ = roc_curve(y_test, y_pred_KNN)\n",
    "fpr_MLP, tpr_MLP, _ = roc_curve(y_test, y_pred_MLP)\n",
    "fpr_XGB, tpr_XGB, _ = roc_curve(y_test, y_pred_XGB)\n",
    "roc_auc_DT = auc(fpr_DT, tpr_DT)\n",
    "roc_auc_RF = auc(fpr_RF, tpr_RF)\n",
    "roc_auc_KNN = auc(fpr_KNN, tpr_KNN)\n",
    "roc_auc_MLP = auc(fpr_MLP, tpr_MLP)\n",
    "roc_auc_XGB = auc(fpr_XGB, tpr_XGB) \n",
    "\n",
    "plt.plot(fpr_DT, \n",
    "         tpr_DT,\n",
    "         color='orange',\n",
    "         linestyle='--',\n",
    "         label=f'Decision Tree (area = {roc_auc_DT:0.2f})')\n",
    "plt.plot(fpr_RF, \n",
    "         tpr_RF,\n",
    "         color='green',\n",
    "         linestyle='--',\n",
    "         label=f'Random Forest (area = {roc_auc_RF:0.2f})')\n",
    "plt.plot(fpr_KNN, \n",
    "         tpr_KNN,\n",
    "         color='red',\n",
    "         linestyle='--',\n",
    "         label=f'KNN (area = {roc_auc_KNN:0.2f})')\n",
    "plt.plot(fpr_MLP, \n",
    "         tpr_MLP,\n",
    "         color='purple',\n",
    "         linestyle='--',\n",
    "         label=f'MLP (area = {roc_auc_MLP:0.2f})')\n",
    "plt.plot(fpr_XGB, \n",
    "         tpr_XGB,\n",
    "         color='blue',\n",
    "         linestyle='--',\n",
    "         label=f'XGB (area = {roc_auc_XGB:0.2f})')\n",
    "# plt.plot([0,0,1,1],[0,1,1,1],color='blue',label='Perfect')\n",
    "plt.plot([0, 1], [0, 1], color='black', linestyle='-', label='Random')\n",
    "plt.xlabel('False Positive Rate')\n",
    "plt.ylabel('True Positive Rate')\n",
    "plt.title('ROC curve')\n",
    "plt.legend(loc='lower right')\n",
    "plt.show()"
   ]
  },
  {
   "cell_type": "markdown",
   "metadata": {
    "id": "4p2psinHlW9V"
   },
   "source": [
    "More details in [Receiver Operating Characteristic (ROC)](https://scikit-learn.org/stable/auto_examples/model_selection/plot_roc.html) and [Entenda o que é AUC e ROC nos modelos de Machine Learning](https://medium.com/bio-data-blog/entenda-o-que-%C3%A9-auc-e-roc-nos-modelos-de-machine-learning-8191fb4df772)"
   ]
  },
  {
   "cell_type": "markdown",
   "metadata": {
    "id": "q1mOFyLtlW9W"
   },
   "source": [
    "## 6. Improving the model\n",
    "\n",
    "What can we do better?"
   ]
  },
  {
   "cell_type": "code",
   "execution_count": 40,
   "metadata": {
    "id": "0pfMtaIHlW9W"
   },
   "outputs": [],
   "source": [
    "from sklearn.model_selection import GridSearchCV\n",
    "# Try possible combinations of the parameters and find the best ones.\n",
    "\n",
    "from sklearn.model_selection import RandomizedSearchCV\n",
    "# Random search for the best parameters (slow and computationally intensive).\n",
    "\n",
    "from sklearn.ensemble import StackingClassifier\n",
    "# Combine algorithms and make a hybrid model."
   ]
  },
  {
   "cell_type": "markdown",
   "metadata": {
    "id": "TwJgy_USlW9W"
   },
   "source": [
    "More details in [Machine Learning: GridSearchCV & RandomizedSearchCV](https://towardsdatascience.com/machine-learning-gridsearchcv-randomizedsearchcv-d36b89231b10) and [Stacking made easy with Sklearn](https://towardsdatascience.com/stacking-made-easy-with-sklearn-e27a0793c92b)."
   ]
  },
  {
   "cell_type": "markdown",
   "metadata": {
    "id": "5rwd2e_ClW9W"
   },
   "source": [
    "## 7. Save Model (doesn't work in the colab env)"
   ]
  },
  {
   "cell_type": "markdown",
   "metadata": {
    "id": "E8McBwYkrjOQ"
   },
   "source": [
    "```python\n",
    "import pickle\n",
    "import datetime\n",
    "\n",
    "current_date: str = datetime.date.today().strftime(\"%Y-%m-%d\")\n",
    "    \n",
    "# save models\n",
    "filename_DT = f'models/{current_date}_Pulsar_DT.mlmodel'\n",
    "pickle.dump(DT, open(filename_DT, 'wb'))\n",
    "\n",
    "filename_RF = f'models/{current_date}_Pulsar_RF.mlmodel'\n",
    "pickle.dump(RF, open(filename_RF, 'wb'))\n",
    "\n",
    "filename_KNN = f'models/{current_date}_Pulsar_KNN.mlmodel'\n",
    "pickle.dump(KNN, open(filename_KNN, 'wb'))\n",
    "\n",
    "filename_MLP = f'models/{current_date}_Pulsar_MLP.mlmodel'\n",
    "pickle.dump(MLP, open(filename_MLP, 'wb'))\n",
    "\n",
    "filename_XGB = f'models/{current_date}_Pulsar_XGB.mlmodel'\n",
    "pickle.dump(XGB, open(filename_XGB, 'wb'))\n",
    "```"
   ]
  },
  {
   "cell_type": "markdown",
   "metadata": {
    "id": "hcB7qeGDlW9X"
   },
   "source": [
    "## 7.1 Load model (doesn't work in the colab env)"
   ]
  },
  {
   "cell_type": "markdown",
   "metadata": {
    "id": "s3rXmNTNrpCr"
   },
   "source": [
    "```python\n",
    "loaded_model = pickle.load(open(filename_RF, 'rb'))\n",
    "\n",
    "# In real life you will use data from the production pipeline.\n",
    "result = loaded_model.score(X_test, y_test)\n",
    "\n",
    "print(f'Random Forest: {result:0.3f}')\n",
    "```"
   ]
  }
 ],
 "metadata": {
  "colab": {
   "name": "introMLcolab.ipynb",
   "provenance": []
  },
  "kernelspec": {
   "display_name": "Python 3",
   "language": "python",
   "name": "python3"
  },
  "language_info": {
   "codemirror_mode": {
    "name": "ipython",
    "version": 3
   },
   "file_extension": ".py",
   "mimetype": "text/x-python",
   "name": "python",
   "nbconvert_exporter": "python",
   "pygments_lexer": "ipython3",
   "version": "3.8.10"
  },
  "toc": {
   "base_numbering": 1,
   "nav_menu": {},
   "number_sections": true,
   "sideBar": true,
   "skip_h1_title": false,
   "title_cell": "Table of Contents",
   "title_sidebar": "Contents",
   "toc_cell": false,
   "toc_position": {},
   "toc_section_display": true,
   "toc_window_display": false
  }
 },
 "nbformat": 4,
 "nbformat_minor": 1
}
