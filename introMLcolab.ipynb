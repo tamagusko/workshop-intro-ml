{
 "cells": [
  {
   "cell_type": "markdown",
   "metadata": {},
   "source": [
    "# JEST internal workshop &#8594; Intro to ML (Crash Course)"
   ]
  },
  {
   "cell_type": "markdown",
   "metadata": {},
   "source": [
    "## This is an short version (without explanations) of the workshop, to access the full version of the document click [here](https://github.com/tamagusko/workshop-intro-ml/blob/main/introML.ipynb).\n",
    "\n",
    "## Topics\n",
    "\n",
    "1. Data Collection\n",
    "2. Exploratory data analysis  \n",
    "    2.1 Data visualization  \n",
    "3. Preprocessing  \n",
    "    3.1 Missing Data, Encoding, Standardizing, Feature Engineering  \n",
    "    3.2 Split data in train/test\n",
    "4. Model  \n",
    "    4.1  Decision Tree  \n",
    "    4.2. Random Forest  \n",
    "    4.3. KNN (k-nearest neighbors)  \n",
    "    4.4. XGBoost (eXtreme Gradient Boosting)  \n",
    "    4.5. Neural Network (Multilayer perceptron)   \n",
    "5. Comparison of models (Metrics)  \n",
    "6. Improving the model\n",
    "7. Saving and loading models\n",
    "8. How to identify overfitting?\n",
    "9. Automating tasks (Choosing the best model)\n",
    "---"
   ]
  },
  {
   "cell_type": "markdown",
   "metadata": {},
   "source": [
    "---\n",
    "\n",
    "# Practical example: Predicting Pulsar Star\n",
    "\n",
    "More details in: [Predicting Pulsar Star](https://www.kaggle.com/colearninglounge/predicting-pulsar-starintermediate)"
   ]
  },
  {
   "cell_type": "markdown",
   "metadata": {},
   "source": [
    "## Proposed problem\n",
    "\n",
    "Classify stars between Pulsar (1) and non-Pulsar (0).\n",
    "\n",
    "Note: The data were collected and previously treated.\n",
    " \n",
    "## 1. Data Collection\n",
    "\n",
    "### Dataset - [pulsar_stars.csv](data/pulsar_stars.csv)\n",
    "\n",
    "**rows**: 16,259 spurious examples (RFI/noise), and 1,639 real pulsar examples. Total of 17,898 rows.  \n",
    "\n",
    "**columns**: 9 features, namely:  \n",
    "  1. Mean of the integrated profile.\n",
    "  2. Standard deviation of the integrated profile.\n",
    "  3. Excess kurtosis of the integrated profile.\n",
    "  4. Skewness of the integrated profile.\n",
    "  5. Mean of the DM-SNR curve.\n",
    "  6. Standard deviation of the DM-SNR curve.\n",
    "  7. Excess kurtosis of the DM-SNR curve.\n",
    "  8. Skewness of the DM-SNR curve.\n",
    "  9. Class (1=Pulsar, 0=non-Pulsar)\n",
    "\n",
    "So, the features are columns 1 to 8, and the label is the column 9."
   ]
  },
  {
   "cell_type": "code",
   "execution_count": 1,
   "metadata": {},
   "outputs": [],
   "source": [
    "# Data manipulation\n",
    "import pandas as pd \n",
    "# Data visualization\n",
    "import seaborn as sns \n",
    "import matplotlib.pyplot as plt"
   ]
  },
  {
   "cell_type": "markdown",
   "metadata": {},
   "source": [
    "More details in [A Complete Pandas Guide](https://towardsdatascience.com/a-complete-pandas-guide-2dc53c77a002)"
   ]
  },
  {
   "cell_type": "code",
   "execution_count": 2,
   "metadata": {},
   "outputs": [],
   "source": [
    "url = 'https://raw.githubusercontent.com/spingegod/ProjetoTI_part1/master/ProjetoTI/pulsar_stars.csv'"
   ]
  },
  {
   "cell_type": "code",
   "execution_count": 3,
   "metadata": {},
   "outputs": [],
   "source": [
    "df = pd.read_csv(url)"
   ]
  },
  {
   "cell_type": "code",
   "execution_count": 4,
   "metadata": {},
   "outputs": [
    {
     "data": {
      "text/html": [
       "<div>\n",
       "<style scoped>\n",
       "    .dataframe tbody tr th:only-of-type {\n",
       "        vertical-align: middle;\n",
       "    }\n",
       "\n",
       "    .dataframe tbody tr th {\n",
       "        vertical-align: top;\n",
       "    }\n",
       "\n",
       "    .dataframe thead th {\n",
       "        text-align: right;\n",
       "    }\n",
       "</style>\n",
       "<table border=\"1\" class=\"dataframe\">\n",
       "  <thead>\n",
       "    <tr style=\"text-align: right;\">\n",
       "      <th></th>\n",
       "      <th>Mean of the integrated profile</th>\n",
       "      <th>Standard deviation of the integrated profile</th>\n",
       "      <th>Excess kurtosis of the integrated profile</th>\n",
       "      <th>Skewness of the integrated profile</th>\n",
       "      <th>Mean of the DM-SNR curve</th>\n",
       "      <th>Standard deviation of the DM-SNR curve</th>\n",
       "      <th>Excess kurtosis of the DM-SNR curve</th>\n",
       "      <th>Skewness of the DM-SNR curve</th>\n",
       "      <th>target_class</th>\n",
       "    </tr>\n",
       "  </thead>\n",
       "  <tbody>\n",
       "    <tr>\n",
       "      <th>0</th>\n",
       "      <td>140.562500</td>\n",
       "      <td>55.683782</td>\n",
       "      <td>-0.234571</td>\n",
       "      <td>-0.699648</td>\n",
       "      <td>3.199833</td>\n",
       "      <td>19.110426</td>\n",
       "      <td>7.975532</td>\n",
       "      <td>74.242225</td>\n",
       "      <td>0</td>\n",
       "    </tr>\n",
       "    <tr>\n",
       "      <th>1</th>\n",
       "      <td>102.507812</td>\n",
       "      <td>58.882430</td>\n",
       "      <td>0.465318</td>\n",
       "      <td>-0.515088</td>\n",
       "      <td>1.677258</td>\n",
       "      <td>14.860146</td>\n",
       "      <td>10.576487</td>\n",
       "      <td>127.393580</td>\n",
       "      <td>0</td>\n",
       "    </tr>\n",
       "    <tr>\n",
       "      <th>2</th>\n",
       "      <td>103.015625</td>\n",
       "      <td>39.341649</td>\n",
       "      <td>0.323328</td>\n",
       "      <td>1.051164</td>\n",
       "      <td>3.121237</td>\n",
       "      <td>21.744669</td>\n",
       "      <td>7.735822</td>\n",
       "      <td>63.171909</td>\n",
       "      <td>0</td>\n",
       "    </tr>\n",
       "    <tr>\n",
       "      <th>3</th>\n",
       "      <td>136.750000</td>\n",
       "      <td>57.178449</td>\n",
       "      <td>-0.068415</td>\n",
       "      <td>-0.636238</td>\n",
       "      <td>3.642977</td>\n",
       "      <td>20.959280</td>\n",
       "      <td>6.896499</td>\n",
       "      <td>53.593661</td>\n",
       "      <td>0</td>\n",
       "    </tr>\n",
       "    <tr>\n",
       "      <th>4</th>\n",
       "      <td>88.726562</td>\n",
       "      <td>40.672225</td>\n",
       "      <td>0.600866</td>\n",
       "      <td>1.123492</td>\n",
       "      <td>1.178930</td>\n",
       "      <td>11.468720</td>\n",
       "      <td>14.269573</td>\n",
       "      <td>252.567306</td>\n",
       "      <td>0</td>\n",
       "    </tr>\n",
       "    <tr>\n",
       "      <th>...</th>\n",
       "      <td>...</td>\n",
       "      <td>...</td>\n",
       "      <td>...</td>\n",
       "      <td>...</td>\n",
       "      <td>...</td>\n",
       "      <td>...</td>\n",
       "      <td>...</td>\n",
       "      <td>...</td>\n",
       "      <td>...</td>\n",
       "    </tr>\n",
       "    <tr>\n",
       "      <th>17893</th>\n",
       "      <td>136.429688</td>\n",
       "      <td>59.847421</td>\n",
       "      <td>-0.187846</td>\n",
       "      <td>-0.738123</td>\n",
       "      <td>1.296823</td>\n",
       "      <td>12.166062</td>\n",
       "      <td>15.450260</td>\n",
       "      <td>285.931022</td>\n",
       "      <td>0</td>\n",
       "    </tr>\n",
       "    <tr>\n",
       "      <th>17894</th>\n",
       "      <td>122.554688</td>\n",
       "      <td>49.485605</td>\n",
       "      <td>0.127978</td>\n",
       "      <td>0.323061</td>\n",
       "      <td>16.409699</td>\n",
       "      <td>44.626893</td>\n",
       "      <td>2.945244</td>\n",
       "      <td>8.297092</td>\n",
       "      <td>0</td>\n",
       "    </tr>\n",
       "    <tr>\n",
       "      <th>17895</th>\n",
       "      <td>119.335938</td>\n",
       "      <td>59.935939</td>\n",
       "      <td>0.159363</td>\n",
       "      <td>-0.743025</td>\n",
       "      <td>21.430602</td>\n",
       "      <td>58.872000</td>\n",
       "      <td>2.499517</td>\n",
       "      <td>4.595173</td>\n",
       "      <td>0</td>\n",
       "    </tr>\n",
       "    <tr>\n",
       "      <th>17896</th>\n",
       "      <td>114.507812</td>\n",
       "      <td>53.902400</td>\n",
       "      <td>0.201161</td>\n",
       "      <td>-0.024789</td>\n",
       "      <td>1.946488</td>\n",
       "      <td>13.381731</td>\n",
       "      <td>10.007967</td>\n",
       "      <td>134.238910</td>\n",
       "      <td>0</td>\n",
       "    </tr>\n",
       "    <tr>\n",
       "      <th>17897</th>\n",
       "      <td>57.062500</td>\n",
       "      <td>85.797340</td>\n",
       "      <td>1.406391</td>\n",
       "      <td>0.089520</td>\n",
       "      <td>188.306020</td>\n",
       "      <td>64.712562</td>\n",
       "      <td>-1.597527</td>\n",
       "      <td>1.429475</td>\n",
       "      <td>0</td>\n",
       "    </tr>\n",
       "  </tbody>\n",
       "</table>\n",
       "<p>17898 rows × 9 columns</p>\n",
       "</div>"
      ],
      "text/plain": [
       "        Mean of the integrated profile  \\\n",
       "0                           140.562500   \n",
       "1                           102.507812   \n",
       "2                           103.015625   \n",
       "3                           136.750000   \n",
       "4                            88.726562   \n",
       "...                                ...   \n",
       "17893                       136.429688   \n",
       "17894                       122.554688   \n",
       "17895                       119.335938   \n",
       "17896                       114.507812   \n",
       "17897                        57.062500   \n",
       "\n",
       "        Standard deviation of the integrated profile  \\\n",
       "0                                          55.683782   \n",
       "1                                          58.882430   \n",
       "2                                          39.341649   \n",
       "3                                          57.178449   \n",
       "4                                          40.672225   \n",
       "...                                              ...   \n",
       "17893                                      59.847421   \n",
       "17894                                      49.485605   \n",
       "17895                                      59.935939   \n",
       "17896                                      53.902400   \n",
       "17897                                      85.797340   \n",
       "\n",
       "        Excess kurtosis of the integrated profile  \\\n",
       "0                                       -0.234571   \n",
       "1                                        0.465318   \n",
       "2                                        0.323328   \n",
       "3                                       -0.068415   \n",
       "4                                        0.600866   \n",
       "...                                           ...   \n",
       "17893                                   -0.187846   \n",
       "17894                                    0.127978   \n",
       "17895                                    0.159363   \n",
       "17896                                    0.201161   \n",
       "17897                                    1.406391   \n",
       "\n",
       "        Skewness of the integrated profile   Mean of the DM-SNR curve  \\\n",
       "0                                -0.699648                   3.199833   \n",
       "1                                -0.515088                   1.677258   \n",
       "2                                 1.051164                   3.121237   \n",
       "3                                -0.636238                   3.642977   \n",
       "4                                 1.123492                   1.178930   \n",
       "...                                    ...                        ...   \n",
       "17893                            -0.738123                   1.296823   \n",
       "17894                             0.323061                  16.409699   \n",
       "17895                            -0.743025                  21.430602   \n",
       "17896                            -0.024789                   1.946488   \n",
       "17897                             0.089520                 188.306020   \n",
       "\n",
       "        Standard deviation of the DM-SNR curve  \\\n",
       "0                                    19.110426   \n",
       "1                                    14.860146   \n",
       "2                                    21.744669   \n",
       "3                                    20.959280   \n",
       "4                                    11.468720   \n",
       "...                                        ...   \n",
       "17893                                12.166062   \n",
       "17894                                44.626893   \n",
       "17895                                58.872000   \n",
       "17896                                13.381731   \n",
       "17897                                64.712562   \n",
       "\n",
       "        Excess kurtosis of the DM-SNR curve   Skewness of the DM-SNR curve  \\\n",
       "0                                  7.975532                      74.242225   \n",
       "1                                 10.576487                     127.393580   \n",
       "2                                  7.735822                      63.171909   \n",
       "3                                  6.896499                      53.593661   \n",
       "4                                 14.269573                     252.567306   \n",
       "...                                     ...                            ...   \n",
       "17893                             15.450260                     285.931022   \n",
       "17894                              2.945244                       8.297092   \n",
       "17895                              2.499517                       4.595173   \n",
       "17896                             10.007967                     134.238910   \n",
       "17897                             -1.597527                       1.429475   \n",
       "\n",
       "       target_class  \n",
       "0                 0  \n",
       "1                 0  \n",
       "2                 0  \n",
       "3                 0  \n",
       "4                 0  \n",
       "...             ...  \n",
       "17893             0  \n",
       "17894             0  \n",
       "17895             0  \n",
       "17896             0  \n",
       "17897             0  \n",
       "\n",
       "[17898 rows x 9 columns]"
      ]
     },
     "execution_count": 4,
     "metadata": {},
     "output_type": "execute_result"
    }
   ],
   "source": [
    "df"
   ]
  },
  {
   "cell_type": "markdown",
   "metadata": {},
   "source": [
    "## 2. Exploratory data analysis\n",
    "\n",
    "## 2.1 Data visualization"
   ]
  },
  {
   "cell_type": "code",
   "execution_count": 5,
   "metadata": {
    "scrolled": true
   },
   "outputs": [
    {
     "data": {
      "text/plain": [
       "(17898, 9)"
      ]
     },
     "execution_count": 5,
     "metadata": {},
     "output_type": "execute_result"
    }
   ],
   "source": [
    "df.shape"
   ]
  },
  {
   "cell_type": "code",
   "execution_count": 6,
   "metadata": {
    "ExecuteTime": {
     "start_time": "2019-12-29T11:50:20.389Z"
    },
    "scrolled": true,
    "slideshow": {
     "slide_type": "-"
    }
   },
   "outputs": [
    {
     "data": {
      "text/html": [
       "<div>\n",
       "<style scoped>\n",
       "    .dataframe tbody tr th:only-of-type {\n",
       "        vertical-align: middle;\n",
       "    }\n",
       "\n",
       "    .dataframe tbody tr th {\n",
       "        vertical-align: top;\n",
       "    }\n",
       "\n",
       "    .dataframe thead th {\n",
       "        text-align: right;\n",
       "    }\n",
       "</style>\n",
       "<table border=\"1\" class=\"dataframe\">\n",
       "  <thead>\n",
       "    <tr style=\"text-align: right;\">\n",
       "      <th></th>\n",
       "      <th>Mean of the integrated profile</th>\n",
       "      <th>Standard deviation of the integrated profile</th>\n",
       "      <th>Excess kurtosis of the integrated profile</th>\n",
       "      <th>Skewness of the integrated profile</th>\n",
       "      <th>Mean of the DM-SNR curve</th>\n",
       "      <th>Standard deviation of the DM-SNR curve</th>\n",
       "      <th>Excess kurtosis of the DM-SNR curve</th>\n",
       "      <th>Skewness of the DM-SNR curve</th>\n",
       "      <th>target_class</th>\n",
       "    </tr>\n",
       "  </thead>\n",
       "  <tbody>\n",
       "    <tr>\n",
       "      <th>17893</th>\n",
       "      <td>136.429688</td>\n",
       "      <td>59.847421</td>\n",
       "      <td>-0.187846</td>\n",
       "      <td>-0.738123</td>\n",
       "      <td>1.296823</td>\n",
       "      <td>12.166062</td>\n",
       "      <td>15.450260</td>\n",
       "      <td>285.931022</td>\n",
       "      <td>0</td>\n",
       "    </tr>\n",
       "    <tr>\n",
       "      <th>17894</th>\n",
       "      <td>122.554688</td>\n",
       "      <td>49.485605</td>\n",
       "      <td>0.127978</td>\n",
       "      <td>0.323061</td>\n",
       "      <td>16.409699</td>\n",
       "      <td>44.626893</td>\n",
       "      <td>2.945244</td>\n",
       "      <td>8.297092</td>\n",
       "      <td>0</td>\n",
       "    </tr>\n",
       "    <tr>\n",
       "      <th>17895</th>\n",
       "      <td>119.335938</td>\n",
       "      <td>59.935939</td>\n",
       "      <td>0.159363</td>\n",
       "      <td>-0.743025</td>\n",
       "      <td>21.430602</td>\n",
       "      <td>58.872000</td>\n",
       "      <td>2.499517</td>\n",
       "      <td>4.595173</td>\n",
       "      <td>0</td>\n",
       "    </tr>\n",
       "    <tr>\n",
       "      <th>17896</th>\n",
       "      <td>114.507812</td>\n",
       "      <td>53.902400</td>\n",
       "      <td>0.201161</td>\n",
       "      <td>-0.024789</td>\n",
       "      <td>1.946488</td>\n",
       "      <td>13.381731</td>\n",
       "      <td>10.007967</td>\n",
       "      <td>134.238910</td>\n",
       "      <td>0</td>\n",
       "    </tr>\n",
       "    <tr>\n",
       "      <th>17897</th>\n",
       "      <td>57.062500</td>\n",
       "      <td>85.797340</td>\n",
       "      <td>1.406391</td>\n",
       "      <td>0.089520</td>\n",
       "      <td>188.306020</td>\n",
       "      <td>64.712562</td>\n",
       "      <td>-1.597527</td>\n",
       "      <td>1.429475</td>\n",
       "      <td>0</td>\n",
       "    </tr>\n",
       "  </tbody>\n",
       "</table>\n",
       "</div>"
      ],
      "text/plain": [
       "        Mean of the integrated profile  \\\n",
       "17893                       136.429688   \n",
       "17894                       122.554688   \n",
       "17895                       119.335938   \n",
       "17896                       114.507812   \n",
       "17897                        57.062500   \n",
       "\n",
       "        Standard deviation of the integrated profile  \\\n",
       "17893                                      59.847421   \n",
       "17894                                      49.485605   \n",
       "17895                                      59.935939   \n",
       "17896                                      53.902400   \n",
       "17897                                      85.797340   \n",
       "\n",
       "        Excess kurtosis of the integrated profile  \\\n",
       "17893                                   -0.187846   \n",
       "17894                                    0.127978   \n",
       "17895                                    0.159363   \n",
       "17896                                    0.201161   \n",
       "17897                                    1.406391   \n",
       "\n",
       "        Skewness of the integrated profile   Mean of the DM-SNR curve  \\\n",
       "17893                            -0.738123                   1.296823   \n",
       "17894                             0.323061                  16.409699   \n",
       "17895                            -0.743025                  21.430602   \n",
       "17896                            -0.024789                   1.946488   \n",
       "17897                             0.089520                 188.306020   \n",
       "\n",
       "        Standard deviation of the DM-SNR curve  \\\n",
       "17893                                12.166062   \n",
       "17894                                44.626893   \n",
       "17895                                58.872000   \n",
       "17896                                13.381731   \n",
       "17897                                64.712562   \n",
       "\n",
       "        Excess kurtosis of the DM-SNR curve   Skewness of the DM-SNR curve  \\\n",
       "17893                             15.450260                     285.931022   \n",
       "17894                              2.945244                       8.297092   \n",
       "17895                              2.499517                       4.595173   \n",
       "17896                             10.007967                     134.238910   \n",
       "17897                             -1.597527                       1.429475   \n",
       "\n",
       "       target_class  \n",
       "17893             0  \n",
       "17894             0  \n",
       "17895             0  \n",
       "17896             0  \n",
       "17897             0  "
      ]
     },
     "execution_count": 6,
     "metadata": {},
     "output_type": "execute_result"
    }
   ],
   "source": [
    "df.tail()"
   ]
  },
  {
   "cell_type": "markdown",
   "metadata": {},
   "source": [
    "### View data type"
   ]
  },
  {
   "cell_type": "code",
   "execution_count": 7,
   "metadata": {},
   "outputs": [
    {
     "name": "stdout",
     "output_type": "stream",
     "text": [
      "<class 'pandas.core.frame.DataFrame'>\n",
      "RangeIndex: 17898 entries, 0 to 17897\n",
      "Data columns (total 9 columns):\n",
      " #   Column                                         Non-Null Count  Dtype  \n",
      "---  ------                                         --------------  -----  \n",
      " 0    Mean of the integrated profile                17898 non-null  float64\n",
      " 1    Standard deviation of the integrated profile  17898 non-null  float64\n",
      " 2    Excess kurtosis of the integrated profile     17898 non-null  float64\n",
      " 3    Skewness of the integrated profile            17898 non-null  float64\n",
      " 4    Mean of the DM-SNR curve                      17898 non-null  float64\n",
      " 5    Standard deviation of the DM-SNR curve        17898 non-null  float64\n",
      " 6    Excess kurtosis of the DM-SNR curve           17898 non-null  float64\n",
      " 7    Skewness of the DM-SNR curve                  17898 non-null  float64\n",
      " 8   target_class                                   17898 non-null  int64  \n",
      "dtypes: float64(8), int64(1)\n",
      "memory usage: 1.2 MB\n"
     ]
    }
   ],
   "source": [
    "df.info()"
   ]
  },
  {
   "cell_type": "markdown",
   "metadata": {},
   "source": [
    "### Data overview"
   ]
  },
  {
   "cell_type": "code",
   "execution_count": 8,
   "metadata": {},
   "outputs": [
    {
     "data": {
      "text/html": [
       "<div>\n",
       "<style scoped>\n",
       "    .dataframe tbody tr th:only-of-type {\n",
       "        vertical-align: middle;\n",
       "    }\n",
       "\n",
       "    .dataframe tbody tr th {\n",
       "        vertical-align: top;\n",
       "    }\n",
       "\n",
       "    .dataframe thead th {\n",
       "        text-align: right;\n",
       "    }\n",
       "</style>\n",
       "<table border=\"1\" class=\"dataframe\">\n",
       "  <thead>\n",
       "    <tr style=\"text-align: right;\">\n",
       "      <th></th>\n",
       "      <th>count</th>\n",
       "      <th>mean</th>\n",
       "      <th>std</th>\n",
       "      <th>min</th>\n",
       "      <th>25%</th>\n",
       "      <th>50%</th>\n",
       "      <th>75%</th>\n",
       "      <th>max</th>\n",
       "    </tr>\n",
       "  </thead>\n",
       "  <tbody>\n",
       "    <tr>\n",
       "      <th>Mean of the integrated profile</th>\n",
       "      <td>17898.0</td>\n",
       "      <td>111.079968</td>\n",
       "      <td>25.652935</td>\n",
       "      <td>5.812500</td>\n",
       "      <td>100.929688</td>\n",
       "      <td>115.078125</td>\n",
       "      <td>127.085938</td>\n",
       "      <td>192.617188</td>\n",
       "    </tr>\n",
       "    <tr>\n",
       "      <th>Standard deviation of the integrated profile</th>\n",
       "      <td>17898.0</td>\n",
       "      <td>46.549532</td>\n",
       "      <td>6.843189</td>\n",
       "      <td>24.772042</td>\n",
       "      <td>42.376018</td>\n",
       "      <td>46.947479</td>\n",
       "      <td>51.023202</td>\n",
       "      <td>98.778911</td>\n",
       "    </tr>\n",
       "    <tr>\n",
       "      <th>Excess kurtosis of the integrated profile</th>\n",
       "      <td>17898.0</td>\n",
       "      <td>0.477857</td>\n",
       "      <td>1.064040</td>\n",
       "      <td>-1.876011</td>\n",
       "      <td>0.027098</td>\n",
       "      <td>0.223240</td>\n",
       "      <td>0.473325</td>\n",
       "      <td>8.069522</td>\n",
       "    </tr>\n",
       "    <tr>\n",
       "      <th>Skewness of the integrated profile</th>\n",
       "      <td>17898.0</td>\n",
       "      <td>1.770279</td>\n",
       "      <td>6.167913</td>\n",
       "      <td>-1.791886</td>\n",
       "      <td>-0.188572</td>\n",
       "      <td>0.198710</td>\n",
       "      <td>0.927783</td>\n",
       "      <td>68.101622</td>\n",
       "    </tr>\n",
       "    <tr>\n",
       "      <th>Mean of the DM-SNR curve</th>\n",
       "      <td>17898.0</td>\n",
       "      <td>12.614400</td>\n",
       "      <td>29.472897</td>\n",
       "      <td>0.213211</td>\n",
       "      <td>1.923077</td>\n",
       "      <td>2.801839</td>\n",
       "      <td>5.464256</td>\n",
       "      <td>223.392140</td>\n",
       "    </tr>\n",
       "    <tr>\n",
       "      <th>Standard deviation of the DM-SNR curve</th>\n",
       "      <td>17898.0</td>\n",
       "      <td>26.326515</td>\n",
       "      <td>19.470572</td>\n",
       "      <td>7.370432</td>\n",
       "      <td>14.437332</td>\n",
       "      <td>18.461316</td>\n",
       "      <td>28.428104</td>\n",
       "      <td>110.642211</td>\n",
       "    </tr>\n",
       "    <tr>\n",
       "      <th>Excess kurtosis of the DM-SNR curve</th>\n",
       "      <td>17898.0</td>\n",
       "      <td>8.303556</td>\n",
       "      <td>4.506092</td>\n",
       "      <td>-3.139270</td>\n",
       "      <td>5.781506</td>\n",
       "      <td>8.433515</td>\n",
       "      <td>10.702959</td>\n",
       "      <td>34.539844</td>\n",
       "    </tr>\n",
       "    <tr>\n",
       "      <th>Skewness of the DM-SNR curve</th>\n",
       "      <td>17898.0</td>\n",
       "      <td>104.857709</td>\n",
       "      <td>106.514540</td>\n",
       "      <td>-1.976976</td>\n",
       "      <td>34.960504</td>\n",
       "      <td>83.064556</td>\n",
       "      <td>139.309331</td>\n",
       "      <td>1191.000837</td>\n",
       "    </tr>\n",
       "    <tr>\n",
       "      <th>target_class</th>\n",
       "      <td>17898.0</td>\n",
       "      <td>0.091574</td>\n",
       "      <td>0.288432</td>\n",
       "      <td>0.000000</td>\n",
       "      <td>0.000000</td>\n",
       "      <td>0.000000</td>\n",
       "      <td>0.000000</td>\n",
       "      <td>1.000000</td>\n",
       "    </tr>\n",
       "  </tbody>\n",
       "</table>\n",
       "</div>"
      ],
      "text/plain": [
       "                                                 count        mean  \\\n",
       " Mean of the integrated profile                17898.0  111.079968   \n",
       " Standard deviation of the integrated profile  17898.0   46.549532   \n",
       " Excess kurtosis of the integrated profile     17898.0    0.477857   \n",
       " Skewness of the integrated profile            17898.0    1.770279   \n",
       " Mean of the DM-SNR curve                      17898.0   12.614400   \n",
       " Standard deviation of the DM-SNR curve        17898.0   26.326515   \n",
       " Excess kurtosis of the DM-SNR curve           17898.0    8.303556   \n",
       " Skewness of the DM-SNR curve                  17898.0  104.857709   \n",
       "target_class                                   17898.0    0.091574   \n",
       "\n",
       "                                                      std        min  \\\n",
       " Mean of the integrated profile                 25.652935   5.812500   \n",
       " Standard deviation of the integrated profile    6.843189  24.772042   \n",
       " Excess kurtosis of the integrated profile       1.064040  -1.876011   \n",
       " Skewness of the integrated profile              6.167913  -1.791886   \n",
       " Mean of the DM-SNR curve                       29.472897   0.213211   \n",
       " Standard deviation of the DM-SNR curve         19.470572   7.370432   \n",
       " Excess kurtosis of the DM-SNR curve             4.506092  -3.139270   \n",
       " Skewness of the DM-SNR curve                  106.514540  -1.976976   \n",
       "target_class                                     0.288432   0.000000   \n",
       "\n",
       "                                                      25%         50%  \\\n",
       " Mean of the integrated profile                100.929688  115.078125   \n",
       " Standard deviation of the integrated profile   42.376018   46.947479   \n",
       " Excess kurtosis of the integrated profile       0.027098    0.223240   \n",
       " Skewness of the integrated profile             -0.188572    0.198710   \n",
       " Mean of the DM-SNR curve                        1.923077    2.801839   \n",
       " Standard deviation of the DM-SNR curve         14.437332   18.461316   \n",
       " Excess kurtosis of the DM-SNR curve             5.781506    8.433515   \n",
       " Skewness of the DM-SNR curve                   34.960504   83.064556   \n",
       "target_class                                     0.000000    0.000000   \n",
       "\n",
       "                                                      75%          max  \n",
       " Mean of the integrated profile                127.085938   192.617188  \n",
       " Standard deviation of the integrated profile   51.023202    98.778911  \n",
       " Excess kurtosis of the integrated profile       0.473325     8.069522  \n",
       " Skewness of the integrated profile              0.927783    68.101622  \n",
       " Mean of the DM-SNR curve                        5.464256   223.392140  \n",
       " Standard deviation of the DM-SNR curve         28.428104   110.642211  \n",
       " Excess kurtosis of the DM-SNR curve            10.702959    34.539844  \n",
       " Skewness of the DM-SNR curve                  139.309331  1191.000837  \n",
       "target_class                                     0.000000     1.000000  "
      ]
     },
     "execution_count": 8,
     "metadata": {},
     "output_type": "execute_result"
    }
   ],
   "source": [
    "df.describe().T"
   ]
  },
  {
   "cell_type": "markdown",
   "metadata": {},
   "source": [
    "### NA values?"
   ]
  },
  {
   "cell_type": "code",
   "execution_count": 9,
   "metadata": {},
   "outputs": [
    {
     "data": {
      "text/plain": [
       " Mean of the integrated profile                  False\n",
       " Standard deviation of the integrated profile    False\n",
       " Excess kurtosis of the integrated profile       False\n",
       " Skewness of the integrated profile              False\n",
       " Mean of the DM-SNR curve                        False\n",
       " Standard deviation of the DM-SNR curve          False\n",
       " Excess kurtosis of the DM-SNR curve             False\n",
       " Skewness of the DM-SNR curve                    False\n",
       "target_class                                     False\n",
       "dtype: bool"
      ]
     },
     "execution_count": 9,
     "metadata": {},
     "output_type": "execute_result"
    }
   ],
   "source": [
    "df.isna().any()"
   ]
  },
  {
   "cell_type": "markdown",
   "metadata": {},
   "source": [
    "### Duplicate rows?"
   ]
  },
  {
   "cell_type": "code",
   "execution_count": 10,
   "metadata": {},
   "outputs": [
    {
     "name": "stdout",
     "output_type": "stream",
     "text": [
      "Duplicate rows:  0\n"
     ]
    }
   ],
   "source": [
    "print(\"Duplicate rows: \", df.duplicated().sum())"
   ]
  },
  {
   "cell_type": "markdown",
   "metadata": {},
   "source": [
    "### Target (label) class"
   ]
  },
  {
   "cell_type": "code",
   "execution_count": 11,
   "metadata": {},
   "outputs": [
    {
     "data": {
      "text/plain": [
       "0    16259\n",
       "1     1639\n",
       "Name: target_class, dtype: int64"
      ]
     },
     "execution_count": 11,
     "metadata": {},
     "output_type": "execute_result"
    }
   ],
   "source": [
    "df.target_class.value_counts()"
   ]
  },
  {
   "cell_type": "code",
   "execution_count": 12,
   "metadata": {},
   "outputs": [
    {
     "data": {
      "text/plain": [
       "<AxesSubplot:ylabel='target_class'>"
      ]
     },
     "execution_count": 12,
     "metadata": {},
     "output_type": "execute_result"
    },
    {
     "data": {
      "image/png": "[encoded data removed]",
      "text/plain": [
       "<Figure size 432x288 with 1 Axes>"
      ]
     },
     "metadata": {},
     "output_type": "display_data"
    }
   ],
   "source": [
    "df.target_class.value_counts().plot.pie(autopct='%.2f%%')"
   ]
  },
  {
   "cell_type": "markdown",
   "metadata": {},
   "source": [
    "### Correlation matrix"
   ]
  },
  {
   "cell_type": "code",
   "execution_count": 13,
   "metadata": {},
   "outputs": [
    {
     "data": {
      "text/html": [
       "<style  type=\"text/css\" >\n",
       "#T_0943e16c_59eb_11ec_a349_dfcbe02e91e4row0_col0,#T_0943e16c_59eb_11ec_a349_dfcbe02e91e4row1_col1,#T_0943e16c_59eb_11ec_a349_dfcbe02e91e4row2_col2,#T_0943e16c_59eb_11ec_a349_dfcbe02e91e4row3_col3,#T_0943e16c_59eb_11ec_a349_dfcbe02e91e4row4_col4,#T_0943e16c_59eb_11ec_a349_dfcbe02e91e4row5_col5,#T_0943e16c_59eb_11ec_a349_dfcbe02e91e4row6_col6,#T_0943e16c_59eb_11ec_a349_dfcbe02e91e4row7_col7,#T_0943e16c_59eb_11ec_a349_dfcbe02e91e4row8_col8{\n",
       "            background-color:  #b40426;\n",
       "            color:  #f1f1f1;\n",
       "        }#T_0943e16c_59eb_11ec_a349_dfcbe02e91e4row0_col1{\n",
       "            background-color:  #f7aa8c;\n",
       "            color:  #000000;\n",
       "        }#T_0943e16c_59eb_11ec_a349_dfcbe02e91e4row0_col2,#T_0943e16c_59eb_11ec_a349_dfcbe02e91e4row0_col3,#T_0943e16c_59eb_11ec_a349_dfcbe02e91e4row0_col8,#T_0943e16c_59eb_11ec_a349_dfcbe02e91e4row2_col0,#T_0943e16c_59eb_11ec_a349_dfcbe02e91e4row3_col1,#T_0943e16c_59eb_11ec_a349_dfcbe02e91e4row5_col6,#T_0943e16c_59eb_11ec_a349_dfcbe02e91e4row5_col7,#T_0943e16c_59eb_11ec_a349_dfcbe02e91e4row6_col4,#T_0943e16c_59eb_11ec_a349_dfcbe02e91e4row6_col5{\n",
       "            background-color:  #3b4cc0;\n",
       "            color:  #f1f1f1;\n",
       "        }#T_0943e16c_59eb_11ec_a349_dfcbe02e91e4row0_col4{\n",
       "            background-color:  #7a9df8;\n",
       "            color:  #000000;\n",
       "        }#T_0943e16c_59eb_11ec_a349_dfcbe02e91e4row0_col5{\n",
       "            background-color:  #97b8ff;\n",
       "            color:  #000000;\n",
       "        }#T_0943e16c_59eb_11ec_a349_dfcbe02e91e4row0_col6{\n",
       "            background-color:  #eed0c0;\n",
       "            color:  #000000;\n",
       "        }#T_0943e16c_59eb_11ec_a349_dfcbe02e91e4row0_col7{\n",
       "            background-color:  #d1dae9;\n",
       "            color:  #000000;\n",
       "        }#T_0943e16c_59eb_11ec_a349_dfcbe02e91e4row1_col0{\n",
       "            background-color:  #f39577;\n",
       "            color:  #000000;\n",
       "        }#T_0943e16c_59eb_11ec_a349_dfcbe02e91e4row1_col2{\n",
       "            background-color:  #779af7;\n",
       "            color:  #000000;\n",
       "        }#T_0943e16c_59eb_11ec_a349_dfcbe02e91e4row1_col3,#T_0943e16c_59eb_11ec_a349_dfcbe02e91e4row8_col1{\n",
       "            background-color:  #5e7de7;\n",
       "            color:  #000000;\n",
       "        }#T_0943e16c_59eb_11ec_a349_dfcbe02e91e4row1_col4,#T_0943e16c_59eb_11ec_a349_dfcbe02e91e4row1_col7{\n",
       "            background-color:  #bbd1f8;\n",
       "            color:  #000000;\n",
       "        }#T_0943e16c_59eb_11ec_a349_dfcbe02e91e4row1_col5{\n",
       "            background-color:  #c6d6f1;\n",
       "            color:  #000000;\n",
       "        }#T_0943e16c_59eb_11ec_a349_dfcbe02e91e4row1_col6{\n",
       "            background-color:  #d3dbe7;\n",
       "            color:  #000000;\n",
       "        }#T_0943e16c_59eb_11ec_a349_dfcbe02e91e4row1_col8{\n",
       "            background-color:  #7699f6;\n",
       "            color:  #000000;\n",
       "        }#T_0943e16c_59eb_11ec_a349_dfcbe02e91e4row2_col1{\n",
       "            background-color:  #3e51c5;\n",
       "            color:  #f1f1f1;\n",
       "        }#T_0943e16c_59eb_11ec_a349_dfcbe02e91e4row2_col3,#T_0943e16c_59eb_11ec_a349_dfcbe02e91e4row3_col2{\n",
       "            background-color:  #be242e;\n",
       "            color:  #f1f1f1;\n",
       "        }#T_0943e16c_59eb_11ec_a349_dfcbe02e91e4row2_col4{\n",
       "            background-color:  #f5c0a7;\n",
       "            color:  #000000;\n",
       "        }#T_0943e16c_59eb_11ec_a349_dfcbe02e91e4row2_col5,#T_0943e16c_59eb_11ec_a349_dfcbe02e91e4row4_col2{\n",
       "            background-color:  #f7b194;\n",
       "            color:  #000000;\n",
       "        }#T_0943e16c_59eb_11ec_a349_dfcbe02e91e4row2_col6{\n",
       "            background-color:  #90b2fe;\n",
       "            color:  #000000;\n",
       "        }#T_0943e16c_59eb_11ec_a349_dfcbe02e91e4row2_col7{\n",
       "            background-color:  #85a8fc;\n",
       "            color:  #000000;\n",
       "        }#T_0943e16c_59eb_11ec_a349_dfcbe02e91e4row2_col8{\n",
       "            background-color:  #dd5f4b;\n",
       "            color:  #000000;\n",
       "        }#T_0943e16c_59eb_11ec_a349_dfcbe02e91e4row3_col0{\n",
       "            background-color:  #506bda;\n",
       "            color:  #000000;\n",
       "        }#T_0943e16c_59eb_11ec_a349_dfcbe02e91e4row3_col4{\n",
       "            background-color:  #f5c1a9;\n",
       "            color:  #000000;\n",
       "        }#T_0943e16c_59eb_11ec_a349_dfcbe02e91e4row3_col5{\n",
       "            background-color:  #f7b497;\n",
       "            color:  #000000;\n",
       "        }#T_0943e16c_59eb_11ec_a349_dfcbe02e91e4row3_col6{\n",
       "            background-color:  #93b5fe;\n",
       "            color:  #000000;\n",
       "        }#T_0943e16c_59eb_11ec_a349_dfcbe02e91e4row3_col7,#T_0943e16c_59eb_11ec_a349_dfcbe02e91e4row6_col3{\n",
       "            background-color:  #88abfd;\n",
       "            color:  #000000;\n",
       "        }#T_0943e16c_59eb_11ec_a349_dfcbe02e91e4row3_col8{\n",
       "            background-color:  #e9785d;\n",
       "            color:  #000000;\n",
       "        }#T_0943e16c_59eb_11ec_a349_dfcbe02e91e4row4_col0,#T_0943e16c_59eb_11ec_a349_dfcbe02e91e4row7_col3{\n",
       "            background-color:  #a1c0ff;\n",
       "            color:  #000000;\n",
       "        }#T_0943e16c_59eb_11ec_a349_dfcbe02e91e4row4_col1,#T_0943e16c_59eb_11ec_a349_dfcbe02e91e4row7_col2{\n",
       "            background-color:  #b1cbfc;\n",
       "            color:  #000000;\n",
       "        }#T_0943e16c_59eb_11ec_a349_dfcbe02e91e4row4_col3,#T_0943e16c_59eb_11ec_a349_dfcbe02e91e4row5_col3{\n",
       "            background-color:  #f7b99e;\n",
       "            color:  #000000;\n",
       "        }#T_0943e16c_59eb_11ec_a349_dfcbe02e91e4row4_col5,#T_0943e16c_59eb_11ec_a349_dfcbe02e91e4row8_col2{\n",
       "            background-color:  #d95847;\n",
       "            color:  #000000;\n",
       "        }#T_0943e16c_59eb_11ec_a349_dfcbe02e91e4row4_col6,#T_0943e16c_59eb_11ec_a349_dfcbe02e91e4row8_col0{\n",
       "            background-color:  #5b7ae5;\n",
       "            color:  #000000;\n",
       "        }#T_0943e16c_59eb_11ec_a349_dfcbe02e91e4row4_col7{\n",
       "            background-color:  #6687ed;\n",
       "            color:  #000000;\n",
       "        }#T_0943e16c_59eb_11ec_a349_dfcbe02e91e4row4_col8{\n",
       "            background-color:  #f6bfa6;\n",
       "            color:  #000000;\n",
       "        }#T_0943e16c_59eb_11ec_a349_dfcbe02e91e4row5_col0{\n",
       "            background-color:  #9fbfff;\n",
       "            color:  #000000;\n",
       "        }#T_0943e16c_59eb_11ec_a349_dfcbe02e91e4row5_col1{\n",
       "            background-color:  #a5c3fe;\n",
       "            color:  #000000;\n",
       "        }#T_0943e16c_59eb_11ec_a349_dfcbe02e91e4row5_col2,#T_0943e16c_59eb_11ec_a349_dfcbe02e91e4row5_col8{\n",
       "            background-color:  #f7ad90;\n",
       "            color:  #000000;\n",
       "        }#T_0943e16c_59eb_11ec_a349_dfcbe02e91e4row5_col4{\n",
       "            background-color:  #de614d;\n",
       "            color:  #000000;\n",
       "        }#T_0943e16c_59eb_11ec_a349_dfcbe02e91e4row6_col0{\n",
       "            background-color:  #f1cdba;\n",
       "            color:  #000000;\n",
       "        }#T_0943e16c_59eb_11ec_a349_dfcbe02e91e4row6_col1,#T_0943e16c_59eb_11ec_a349_dfcbe02e91e4row7_col1{\n",
       "            background-color:  #b6cefa;\n",
       "            color:  #000000;\n",
       "        }#T_0943e16c_59eb_11ec_a349_dfcbe02e91e4row6_col2{\n",
       "            background-color:  #98b9ff;\n",
       "            color:  #000000;\n",
       "        }#T_0943e16c_59eb_11ec_a349_dfcbe02e91e4row6_col7{\n",
       "            background-color:  #c53334;\n",
       "            color:  #f1f1f1;\n",
       "        }#T_0943e16c_59eb_11ec_a349_dfcbe02e91e4row6_col8{\n",
       "            background-color:  #7093f3;\n",
       "            color:  #000000;\n",
       "        }#T_0943e16c_59eb_11ec_a349_dfcbe02e91e4row7_col0{\n",
       "            background-color:  #e8d6cc;\n",
       "            color:  #000000;\n",
       "        }#T_0943e16c_59eb_11ec_a349_dfcbe02e91e4row7_col4{\n",
       "            background-color:  #6e90f2;\n",
       "            color:  #000000;\n",
       "        }#T_0943e16c_59eb_11ec_a349_dfcbe02e91e4row7_col5{\n",
       "            background-color:  #6384eb;\n",
       "            color:  #000000;\n",
       "        }#T_0943e16c_59eb_11ec_a349_dfcbe02e91e4row7_col6{\n",
       "            background-color:  #c32e31;\n",
       "            color:  #f1f1f1;\n",
       "        }#T_0943e16c_59eb_11ec_a349_dfcbe02e91e4row7_col8{\n",
       "            background-color:  #8caffe;\n",
       "            color:  #000000;\n",
       "        }#T_0943e16c_59eb_11ec_a349_dfcbe02e91e4row8_col3{\n",
       "            background-color:  #e7745b;\n",
       "            color:  #000000;\n",
       "        }#T_0943e16c_59eb_11ec_a349_dfcbe02e91e4row8_col4{\n",
       "            background-color:  #f5c2aa;\n",
       "            color:  #000000;\n",
       "        }#T_0943e16c_59eb_11ec_a349_dfcbe02e91e4row8_col5{\n",
       "            background-color:  #f6a586;\n",
       "            color:  #000000;\n",
       "        }#T_0943e16c_59eb_11ec_a349_dfcbe02e91e4row8_col6{\n",
       "            background-color:  #86a9fc;\n",
       "            color:  #000000;\n",
       "        }#T_0943e16c_59eb_11ec_a349_dfcbe02e91e4row8_col7{\n",
       "            background-color:  #7b9ff9;\n",
       "            color:  #000000;\n",
       "        }</style><table id=\"T_0943e16c_59eb_11ec_a349_dfcbe02e91e4\" ><thead>    <tr>        <th class=\"blank level0\" ></th>        <th class=\"col_heading level0 col0\" > Mean of the integrated profile</th>        <th class=\"col_heading level0 col1\" > Standard deviation of the integrated profile</th>        <th class=\"col_heading level0 col2\" > Excess kurtosis of the integrated profile</th>        <th class=\"col_heading level0 col3\" > Skewness of the integrated profile</th>        <th class=\"col_heading level0 col4\" > Mean of the DM-SNR curve</th>        <th class=\"col_heading level0 col5\" > Standard deviation of the DM-SNR curve</th>        <th class=\"col_heading level0 col6\" > Excess kurtosis of the DM-SNR curve</th>        <th class=\"col_heading level0 col7\" > Skewness of the DM-SNR curve</th>        <th class=\"col_heading level0 col8\" >target_class</th>    </tr></thead><tbody>\n",
       "                <tr>\n",
       "                        <th id=\"T_0943e16c_59eb_11ec_a349_dfcbe02e91e4level0_row0\" class=\"row_heading level0 row0\" > Mean of the integrated profile</th>\n",
       "                        <td id=\"T_0943e16c_59eb_11ec_a349_dfcbe02e91e4row0_col0\" class=\"data row0 col0\" >1.00</td>\n",
       "                        <td id=\"T_0943e16c_59eb_11ec_a349_dfcbe02e91e4row0_col1\" class=\"data row0 col1\" >0.55</td>\n",
       "                        <td id=\"T_0943e16c_59eb_11ec_a349_dfcbe02e91e4row0_col2\" class=\"data row0 col2\" >-0.87</td>\n",
       "                        <td id=\"T_0943e16c_59eb_11ec_a349_dfcbe02e91e4row0_col3\" class=\"data row0 col3\" >-0.74</td>\n",
       "                        <td id=\"T_0943e16c_59eb_11ec_a349_dfcbe02e91e4row0_col4\" class=\"data row0 col4\" >-0.30</td>\n",
       "                        <td id=\"T_0943e16c_59eb_11ec_a349_dfcbe02e91e4row0_col5\" class=\"data row0 col5\" >-0.31</td>\n",
       "                        <td id=\"T_0943e16c_59eb_11ec_a349_dfcbe02e91e4row0_col6\" class=\"data row0 col6\" >0.23</td>\n",
       "                        <td id=\"T_0943e16c_59eb_11ec_a349_dfcbe02e91e4row0_col7\" class=\"data row0 col7\" >0.14</td>\n",
       "                        <td id=\"T_0943e16c_59eb_11ec_a349_dfcbe02e91e4row0_col8\" class=\"data row0 col8\" >-0.67</td>\n",
       "            </tr>\n",
       "            <tr>\n",
       "                        <th id=\"T_0943e16c_59eb_11ec_a349_dfcbe02e91e4level0_row1\" class=\"row_heading level0 row1\" > Standard deviation of the integrated profile</th>\n",
       "                        <td id=\"T_0943e16c_59eb_11ec_a349_dfcbe02e91e4row1_col0\" class=\"data row1 col0\" >0.55</td>\n",
       "                        <td id=\"T_0943e16c_59eb_11ec_a349_dfcbe02e91e4row1_col1\" class=\"data row1 col1\" >1.00</td>\n",
       "                        <td id=\"T_0943e16c_59eb_11ec_a349_dfcbe02e91e4row1_col2\" class=\"data row1 col2\" >-0.52</td>\n",
       "                        <td id=\"T_0943e16c_59eb_11ec_a349_dfcbe02e91e4row1_col3\" class=\"data row1 col3\" >-0.54</td>\n",
       "                        <td id=\"T_0943e16c_59eb_11ec_a349_dfcbe02e91e4row1_col4\" class=\"data row1 col4\" >0.01</td>\n",
       "                        <td id=\"T_0943e16c_59eb_11ec_a349_dfcbe02e91e4row1_col5\" class=\"data row1 col5\" >-0.05</td>\n",
       "                        <td id=\"T_0943e16c_59eb_11ec_a349_dfcbe02e91e4row1_col6\" class=\"data row1 col6\" >0.03</td>\n",
       "                        <td id=\"T_0943e16c_59eb_11ec_a349_dfcbe02e91e4row1_col7\" class=\"data row1 col7\" >0.03</td>\n",
       "                        <td id=\"T_0943e16c_59eb_11ec_a349_dfcbe02e91e4row1_col8\" class=\"data row1 col8\" >-0.36</td>\n",
       "            </tr>\n",
       "            <tr>\n",
       "                        <th id=\"T_0943e16c_59eb_11ec_a349_dfcbe02e91e4level0_row2\" class=\"row_heading level0 row2\" > Excess kurtosis of the integrated profile</th>\n",
       "                        <td id=\"T_0943e16c_59eb_11ec_a349_dfcbe02e91e4row2_col0\" class=\"data row2 col0\" >-0.87</td>\n",
       "                        <td id=\"T_0943e16c_59eb_11ec_a349_dfcbe02e91e4row2_col1\" class=\"data row2 col1\" >-0.52</td>\n",
       "                        <td id=\"T_0943e16c_59eb_11ec_a349_dfcbe02e91e4row2_col2\" class=\"data row2 col2\" >1.00</td>\n",
       "                        <td id=\"T_0943e16c_59eb_11ec_a349_dfcbe02e91e4row2_col3\" class=\"data row2 col3\" >0.95</td>\n",
       "                        <td id=\"T_0943e16c_59eb_11ec_a349_dfcbe02e91e4row2_col4\" class=\"data row2 col4\" >0.41</td>\n",
       "                        <td id=\"T_0943e16c_59eb_11ec_a349_dfcbe02e91e4row2_col5\" class=\"data row2 col5\" >0.43</td>\n",
       "                        <td id=\"T_0943e16c_59eb_11ec_a349_dfcbe02e91e4row2_col6\" class=\"data row2 col6\" >-0.34</td>\n",
       "                        <td id=\"T_0943e16c_59eb_11ec_a349_dfcbe02e91e4row2_col7\" class=\"data row2 col7\" >-0.21</td>\n",
       "                        <td id=\"T_0943e16c_59eb_11ec_a349_dfcbe02e91e4row2_col8\" class=\"data row2 col8\" >0.79</td>\n",
       "            </tr>\n",
       "            <tr>\n",
       "                        <th id=\"T_0943e16c_59eb_11ec_a349_dfcbe02e91e4level0_row3\" class=\"row_heading level0 row3\" > Skewness of the integrated profile</th>\n",
       "                        <td id=\"T_0943e16c_59eb_11ec_a349_dfcbe02e91e4row3_col0\" class=\"data row3 col0\" >-0.74</td>\n",
       "                        <td id=\"T_0943e16c_59eb_11ec_a349_dfcbe02e91e4row3_col1\" class=\"data row3 col1\" >-0.54</td>\n",
       "                        <td id=\"T_0943e16c_59eb_11ec_a349_dfcbe02e91e4row3_col2\" class=\"data row3 col2\" >0.95</td>\n",
       "                        <td id=\"T_0943e16c_59eb_11ec_a349_dfcbe02e91e4row3_col3\" class=\"data row3 col3\" >1.00</td>\n",
       "                        <td id=\"T_0943e16c_59eb_11ec_a349_dfcbe02e91e4row3_col4\" class=\"data row3 col4\" >0.41</td>\n",
       "                        <td id=\"T_0943e16c_59eb_11ec_a349_dfcbe02e91e4row3_col5\" class=\"data row3 col5\" >0.42</td>\n",
       "                        <td id=\"T_0943e16c_59eb_11ec_a349_dfcbe02e91e4row3_col6\" class=\"data row3 col6\" >-0.33</td>\n",
       "                        <td id=\"T_0943e16c_59eb_11ec_a349_dfcbe02e91e4row3_col7\" class=\"data row3 col7\" >-0.20</td>\n",
       "                        <td id=\"T_0943e16c_59eb_11ec_a349_dfcbe02e91e4row3_col8\" class=\"data row3 col8\" >0.71</td>\n",
       "            </tr>\n",
       "            <tr>\n",
       "                        <th id=\"T_0943e16c_59eb_11ec_a349_dfcbe02e91e4level0_row4\" class=\"row_heading level0 row4\" > Mean of the DM-SNR curve</th>\n",
       "                        <td id=\"T_0943e16c_59eb_11ec_a349_dfcbe02e91e4row4_col0\" class=\"data row4 col0\" >-0.30</td>\n",
       "                        <td id=\"T_0943e16c_59eb_11ec_a349_dfcbe02e91e4row4_col1\" class=\"data row4 col1\" >0.01</td>\n",
       "                        <td id=\"T_0943e16c_59eb_11ec_a349_dfcbe02e91e4row4_col2\" class=\"data row4 col2\" >0.41</td>\n",
       "                        <td id=\"T_0943e16c_59eb_11ec_a349_dfcbe02e91e4row4_col3\" class=\"data row4 col3\" >0.41</td>\n",
       "                        <td id=\"T_0943e16c_59eb_11ec_a349_dfcbe02e91e4row4_col4\" class=\"data row4 col4\" >1.00</td>\n",
       "                        <td id=\"T_0943e16c_59eb_11ec_a349_dfcbe02e91e4row4_col5\" class=\"data row4 col5\" >0.80</td>\n",
       "                        <td id=\"T_0943e16c_59eb_11ec_a349_dfcbe02e91e4row4_col6\" class=\"data row4 col6\" >-0.62</td>\n",
       "                        <td id=\"T_0943e16c_59eb_11ec_a349_dfcbe02e91e4row4_col7\" class=\"data row4 col7\" >-0.35</td>\n",
       "                        <td id=\"T_0943e16c_59eb_11ec_a349_dfcbe02e91e4row4_col8\" class=\"data row4 col8\" >0.40</td>\n",
       "            </tr>\n",
       "            <tr>\n",
       "                        <th id=\"T_0943e16c_59eb_11ec_a349_dfcbe02e91e4level0_row5\" class=\"row_heading level0 row5\" > Standard deviation of the DM-SNR curve</th>\n",
       "                        <td id=\"T_0943e16c_59eb_11ec_a349_dfcbe02e91e4row5_col0\" class=\"data row5 col0\" >-0.31</td>\n",
       "                        <td id=\"T_0943e16c_59eb_11ec_a349_dfcbe02e91e4row5_col1\" class=\"data row5 col1\" >-0.05</td>\n",
       "                        <td id=\"T_0943e16c_59eb_11ec_a349_dfcbe02e91e4row5_col2\" class=\"data row5 col2\" >0.43</td>\n",
       "                        <td id=\"T_0943e16c_59eb_11ec_a349_dfcbe02e91e4row5_col3\" class=\"data row5 col3\" >0.42</td>\n",
       "                        <td id=\"T_0943e16c_59eb_11ec_a349_dfcbe02e91e4row5_col4\" class=\"data row5 col4\" >0.80</td>\n",
       "                        <td id=\"T_0943e16c_59eb_11ec_a349_dfcbe02e91e4row5_col5\" class=\"data row5 col5\" >1.00</td>\n",
       "                        <td id=\"T_0943e16c_59eb_11ec_a349_dfcbe02e91e4row5_col6\" class=\"data row5 col6\" >-0.81</td>\n",
       "                        <td id=\"T_0943e16c_59eb_11ec_a349_dfcbe02e91e4row5_col7\" class=\"data row5 col7\" >-0.58</td>\n",
       "                        <td id=\"T_0943e16c_59eb_11ec_a349_dfcbe02e91e4row5_col8\" class=\"data row5 col8\" >0.49</td>\n",
       "            </tr>\n",
       "            <tr>\n",
       "                        <th id=\"T_0943e16c_59eb_11ec_a349_dfcbe02e91e4level0_row6\" class=\"row_heading level0 row6\" > Excess kurtosis of the DM-SNR curve</th>\n",
       "                        <td id=\"T_0943e16c_59eb_11ec_a349_dfcbe02e91e4row6_col0\" class=\"data row6 col0\" >0.23</td>\n",
       "                        <td id=\"T_0943e16c_59eb_11ec_a349_dfcbe02e91e4row6_col1\" class=\"data row6 col1\" >0.03</td>\n",
       "                        <td id=\"T_0943e16c_59eb_11ec_a349_dfcbe02e91e4row6_col2\" class=\"data row6 col2\" >-0.34</td>\n",
       "                        <td id=\"T_0943e16c_59eb_11ec_a349_dfcbe02e91e4row6_col3\" class=\"data row6 col3\" >-0.33</td>\n",
       "                        <td id=\"T_0943e16c_59eb_11ec_a349_dfcbe02e91e4row6_col4\" class=\"data row6 col4\" >-0.62</td>\n",
       "                        <td id=\"T_0943e16c_59eb_11ec_a349_dfcbe02e91e4row6_col5\" class=\"data row6 col5\" >-0.81</td>\n",
       "                        <td id=\"T_0943e16c_59eb_11ec_a349_dfcbe02e91e4row6_col6\" class=\"data row6 col6\" >1.00</td>\n",
       "                        <td id=\"T_0943e16c_59eb_11ec_a349_dfcbe02e91e4row6_col7\" class=\"data row6 col7\" >0.92</td>\n",
       "                        <td id=\"T_0943e16c_59eb_11ec_a349_dfcbe02e91e4row6_col8\" class=\"data row6 col8\" >-0.39</td>\n",
       "            </tr>\n",
       "            <tr>\n",
       "                        <th id=\"T_0943e16c_59eb_11ec_a349_dfcbe02e91e4level0_row7\" class=\"row_heading level0 row7\" > Skewness of the DM-SNR curve</th>\n",
       "                        <td id=\"T_0943e16c_59eb_11ec_a349_dfcbe02e91e4row7_col0\" class=\"data row7 col0\" >0.14</td>\n",
       "                        <td id=\"T_0943e16c_59eb_11ec_a349_dfcbe02e91e4row7_col1\" class=\"data row7 col1\" >0.03</td>\n",
       "                        <td id=\"T_0943e16c_59eb_11ec_a349_dfcbe02e91e4row7_col2\" class=\"data row7 col2\" >-0.21</td>\n",
       "                        <td id=\"T_0943e16c_59eb_11ec_a349_dfcbe02e91e4row7_col3\" class=\"data row7 col3\" >-0.20</td>\n",
       "                        <td id=\"T_0943e16c_59eb_11ec_a349_dfcbe02e91e4row7_col4\" class=\"data row7 col4\" >-0.35</td>\n",
       "                        <td id=\"T_0943e16c_59eb_11ec_a349_dfcbe02e91e4row7_col5\" class=\"data row7 col5\" >-0.58</td>\n",
       "                        <td id=\"T_0943e16c_59eb_11ec_a349_dfcbe02e91e4row7_col6\" class=\"data row7 col6\" >0.92</td>\n",
       "                        <td id=\"T_0943e16c_59eb_11ec_a349_dfcbe02e91e4row7_col7\" class=\"data row7 col7\" >1.00</td>\n",
       "                        <td id=\"T_0943e16c_59eb_11ec_a349_dfcbe02e91e4row7_col8\" class=\"data row7 col8\" >-0.26</td>\n",
       "            </tr>\n",
       "            <tr>\n",
       "                        <th id=\"T_0943e16c_59eb_11ec_a349_dfcbe02e91e4level0_row8\" class=\"row_heading level0 row8\" >target_class</th>\n",
       "                        <td id=\"T_0943e16c_59eb_11ec_a349_dfcbe02e91e4row8_col0\" class=\"data row8 col0\" >-0.67</td>\n",
       "                        <td id=\"T_0943e16c_59eb_11ec_a349_dfcbe02e91e4row8_col1\" class=\"data row8 col1\" >-0.36</td>\n",
       "                        <td id=\"T_0943e16c_59eb_11ec_a349_dfcbe02e91e4row8_col2\" class=\"data row8 col2\" >0.79</td>\n",
       "                        <td id=\"T_0943e16c_59eb_11ec_a349_dfcbe02e91e4row8_col3\" class=\"data row8 col3\" >0.71</td>\n",
       "                        <td id=\"T_0943e16c_59eb_11ec_a349_dfcbe02e91e4row8_col4\" class=\"data row8 col4\" >0.40</td>\n",
       "                        <td id=\"T_0943e16c_59eb_11ec_a349_dfcbe02e91e4row8_col5\" class=\"data row8 col5\" >0.49</td>\n",
       "                        <td id=\"T_0943e16c_59eb_11ec_a349_dfcbe02e91e4row8_col6\" class=\"data row8 col6\" >-0.39</td>\n",
       "                        <td id=\"T_0943e16c_59eb_11ec_a349_dfcbe02e91e4row8_col7\" class=\"data row8 col7\" >-0.26</td>\n",
       "                        <td id=\"T_0943e16c_59eb_11ec_a349_dfcbe02e91e4row8_col8\" class=\"data row8 col8\" >1.00</td>\n",
       "            </tr>\n",
       "    </tbody></table>"
      ],
      "text/plain": [
       "<pandas.io.formats.style.Styler at 0x7f07accab5e0>"
      ]
     },
     "execution_count": 13,
     "metadata": {},
     "output_type": "execute_result"
    }
   ],
   "source": [
    "correlation = df.corr()\n",
    "correlation.style.background_gradient(cmap='coolwarm').set_precision(2)"
   ]
  },
  {
   "cell_type": "markdown",
   "metadata": {},
   "source": [
    "### Data visualization ()"
   ]
  },
  {
   "cell_type": "code",
   "execution_count": 14,
   "metadata": {},
   "outputs": [
    {
     "data": {
      "application/javascript": [
       "// Avoid scroll bar on very large images\n",
       "IPython.OutputArea.prototype._should_scroll = function(lines) {\n",
       "    return false;\n",
       "}\n"
      ],
      "text/plain": [
       "<IPython.core.display.Javascript object>"
      ]
     },
     "metadata": {},
     "output_type": "display_data"
    }
   ],
   "source": [
    "%%javascript\n",
    "// Avoid scroll bar on very large images\n",
    "IPython.OutputArea.prototype._should_scroll = function(lines) {\n",
    "    return false;\n",
    "}"
   ]
  },
  {
   "cell_type": "code",
   "execution_count": 15,
   "metadata": {},
   "outputs": [
    {
     "data": {
      "image/png": "[encoded data removed]",
      "text/plain": [
       "<Figure size 432x288 with 1 Axes>"
      ]
     },
     "metadata": {
      "needs_background": "light"
     },
     "output_type": "display_data"
    },
    {
     "data": {
      "image/png": "[encoded data removed]",
      "text/plain": [
       "<Figure size 432x288 with 1 Axes>"
      ]
     },
     "metadata": {
      "needs_background": "light"
     },
     "output_type": "display_data"
    },
    {
     "data": {
      "image/png": "[encoded data removed]",
      "text/plain": [
       "<Figure size 432x288 with 1 Axes>"
      ]
     },
     "metadata": {
      "needs_background": "light"
     },
     "output_type": "display_data"
    },
    {
     "data": {
      "image/png": "[encoded data removed]",
      "text/plain": [
       "<Figure size 432x288 with 1 Axes>"
      ]
     },
     "metadata": {
      "needs_background": "light"
     },
     "output_type": "display_data"
    },
    {
     "data": {
      "image/png": "[encoded data removed]",
      "text/plain": [
       "<Figure size 432x288 with 1 Axes>"
      ]
     },
     "metadata": {
      "needs_background": "light"
     },
     "output_type": "display_data"
    },
    {
     "data": {
      "image/png": "[encoded data removed]",
      "text/plain": [
       "<Figure size 432x288 with 1 Axes>"
      ]
     },
     "metadata": {
      "needs_background": "light"
     },
     "output_type": "display_data"
    },
    {
     "data": {
      "image/png": "[encoded data removed]",
      "text/plain": [
       "<Figure size 432x288 with 1 Axes>"
      ]
     },
     "metadata": {
      "needs_background": "light"
     },
     "output_type": "display_data"
    },
    {
     "data": {
      "image/png": "[encoded data removed]",
      "text/plain": [
       "<Figure size 432x288 with 1 Axes>"
      ]
     },
     "metadata": {
      "needs_background": "light"
     },
     "output_type": "display_data"
    }
   ],
   "source": [
    "# Plots the histogram of all columns (excluding target_class).\n",
    "for column in df.columns[:-1]:\n",
    "    plt.figure()\n",
    "    sns.histplot(x=df[column], hue=df.target_class)"
   ]
  },
  {
   "cell_type": "markdown",
   "metadata": {},
   "source": [
    "## 3 Preprocessing\n",
    "\n",
    "### 3.1 Missing Data, Encoding, Standardizing, Feature Engineering\n",
    "\n",
    "Look in: [freecodecamp: Preprocessing](https://www.youtube.com/watch?v=0B5eIE_1vpU&t=2076s) (not necessary in this dataset)"
   ]
  },
  {
   "cell_type": "markdown",
   "metadata": {},
   "source": [
    "### 3.2 Split data in train/test"
   ]
  },
  {
   "cell_type": "code",
   "execution_count": 16,
   "metadata": {},
   "outputs": [],
   "source": [
    "X = df.drop(['target_class'], axis=1)\n",
    "y = df.target_class"
   ]
  },
  {
   "cell_type": "code",
   "execution_count": 17,
   "metadata": {},
   "outputs": [
    {
     "data": {
      "text/plain": [
       "((8949, 8), (8949, 8), (8949,), (8949,))"
      ]
     },
     "execution_count": 17,
     "metadata": {},
     "output_type": "execute_result"
    }
   ],
   "source": [
    "# Prepare data to train models\n",
    "from sklearn.model_selection import train_test_split\n",
    "\n",
    "# 50/50 (common: 70/30 or 80/20)\n",
    "X_train, X_test, y_train, y_test = train_test_split(\n",
    "    X, y, train_size=0.5, random_state=42, stratify=y)\n",
    "\n",
    "X_train.shape, X_test.shape, y_train.shape, y_test.shape"
   ]
  },
  {
   "cell_type": "markdown",
   "metadata": {},
   "source": [
    "## 4. Models"
   ]
  },
  {
   "cell_type": "markdown",
   "metadata": {},
   "source": [
    "## How to use Scikit-Learn?\n",
    "\n",
    "By [Andre Ye](https://www.linkedin.com/in/andre-ye-501746150/), in KDnuggets:[The Ultimate Scikit-Learn Machine Learning Cheatsheet](https://www.kdnuggets.com/2021/01/ultimate-scikit-learn-machine-learning-cheatsheet.html).\n",
    "\n",
    "```python\n",
    "# Import\n",
    "from sklearn.BRANCH import MODEL_NAME\n",
    "from sklearn.metrics import METRIC_NAME\n",
    "\n",
    "# Build\n",
    "MODEL = MODEL_NAME()\n",
    "\n",
    "# Train\n",
    "MODEL.fit(X_train, y_train)\n",
    "\n",
    "# Predict\n",
    "y_pred_MODEL = MODEL.predict(X_test)\n",
    "\n",
    "# Eval \n",
    "METRIC = METRIC_NAME((y_test, y_pred_MODEL)) \n",
    "```"
   ]
  },
  {
   "cell_type": "code",
   "execution_count": 18,
   "metadata": {},
   "outputs": [],
   "source": [
    "# Metrics\n",
    "from sklearn.metrics import accuracy_score\n",
    "from sklearn.metrics import precision_score\n",
    "from sklearn.metrics import matthews_corrcoef\n",
    "from sklearn.metrics import confusion_matrix\n",
    "from sklearn.metrics import roc_curve\n",
    "from sklearn.metrics import auc\n",
    "from sklearn.metrics import confusion_matrix"
   ]
  },
  {
   "cell_type": "markdown",
   "metadata": {},
   "source": [
    "*Confusion Matrix:*\n",
    "\\begin{pmatrix} \n",
    "True Negative & False Positive\\\\\n",
    "False Negative & True Positive\n",
    "\\end{pmatrix} "
   ]
  },
  {
   "cell_type": "markdown",
   "metadata": {},
   "source": [
    "\\begin{equation}\n",
    "Accuracy = \\frac{TP+TN}{(TP+TN+FP+FN)} \\\\\n",
    "Precision = \\frac{TP}{(TP+FP)} \\\\\n",
    "MCC = \\frac{TP*TN-FP*FN}{\\sqrt{(TP+FP)(TP+FN)(TN+FP)(TN+FN)}} \\\\\n",
    "\\end{equation}\n",
    "\n",
    "*where:*\n",
    "\n",
    "*TP = True Positive  \n",
    "TN = True Negative  \n",
    "FP = False Positive  \n",
    "FN = False Negative* "
   ]
  },
  {
   "cell_type": "code",
   "execution_count": 19,
   "metadata": {},
   "outputs": [],
   "source": [
    "# Simple functions to run metrics and print results\n",
    "\n",
    "def evaluationModels(y_test, y_pred):\n",
    "    accuracy = accuracy_score(y_test, y_pred)\n",
    "    precision = precision_score(y_test, y_pred)\n",
    "    # Best metric for binary (0/1) classification \n",
    "    mcc = matthews_corrcoef(y_test, y_pred)\n",
    "    fp = confusion_matrix(y_test, y_pred)[0][1]\n",
    "    return accuracy, precision, mcc, fp\n",
    "\n",
    "\n",
    "def printMetrics(model, accuracy, precision, mcc, fp):\n",
    "    modelName = model.__class__.__name__\n",
    "    bar = \"-\" * 25\n",
    "    print(f\"{bar}\\n {modelName}\\n{bar}\")\n",
    "    print(f'- Accuracy: {accuracy:0.3f}')\n",
    "    print(f'- Precision: {precision:0.3f}')\n",
    "    print(f'- MCC: {mcc:0.3f}')\n",
    "    print(f'- False Positives: {fp}')"
   ]
  },
  {
   "cell_type": "markdown",
   "metadata": {},
   "source": [
    "### 4.1 Decision Tree\n",
    "\n",
    "See the parameters in: [sklearn.tree.DecisionTreeClassifier](https://scikit-learn.org/stable/modules/generated/sklearn.tree.DecisionTreeClassifier.html)\n",
    "\n",
    "More details in: [Decision Trees](https://scikit-learn.org/stable/modules/tree.html)\n",
    "\n",
    "How to tune the parameters: [InDepth: Parameter tuning for Decision Tree](https://medium.com/@mohtedibf/indepth-parameter-tuning-for-decision-tree-6753118a03c3)"
   ]
  },
  {
   "cell_type": "code",
   "execution_count": 20,
   "metadata": {},
   "outputs": [],
   "source": [
    "from sklearn.tree import DecisionTreeClassifier\n",
    "\n",
    "DT = DecisionTreeClassifier(max_depth=3, random_state=42)"
   ]
  },
  {
   "cell_type": "code",
   "execution_count": 21,
   "metadata": {},
   "outputs": [
    {
     "data": {
      "text/plain": [
       "DecisionTreeClassifier(max_depth=3, random_state=42)"
      ]
     },
     "execution_count": 21,
     "metadata": {},
     "output_type": "execute_result"
    }
   ],
   "source": [
    "# Training \n",
    "DT.fit(X_train, y_train)"
   ]
  },
  {
   "cell_type": "code",
   "execution_count": 22,
   "metadata": {},
   "outputs": [
    {
     "data": {
      "text/plain": [
       "{'ccp_alpha': 0.0,\n",
       " 'class_weight': None,\n",
       " 'criterion': 'gini',\n",
       " 'max_depth': 3,\n",
       " 'max_features': None,\n",
       " 'max_leaf_nodes': None,\n",
       " 'min_impurity_decrease': 0.0,\n",
       " 'min_impurity_split': None,\n",
       " 'min_samples_leaf': 1,\n",
       " 'min_samples_split': 2,\n",
       " 'min_weight_fraction_leaf': 0.0,\n",
       " 'presort': 'deprecated',\n",
       " 'random_state': 42,\n",
       " 'splitter': 'best'}"
      ]
     },
     "execution_count": 22,
     "metadata": {},
     "output_type": "execute_result"
    }
   ],
   "source": [
    "# Training parameters\n",
    "DT.get_params()"
   ]
  },
  {
   "cell_type": "code",
   "execution_count": 23,
   "metadata": {},
   "outputs": [],
   "source": [
    "# Predict\n",
    "y_pred_DT = DT.predict(X_test)"
   ]
  },
  {
   "cell_type": "code",
   "execution_count": 24,
   "metadata": {},
   "outputs": [
    {
     "name": "stdout",
     "output_type": "stream",
     "text": [
      "-------------------------\n",
      " DecisionTreeClassifier\n",
      "-------------------------\n",
      "- Accuracy: 0.978\n",
      "- Precision: 0.893\n",
      "- MCC: 0.868\n",
      "- False Positives: 85\n"
     ]
    }
   ],
   "source": [
    "# Evaluation\n",
    "accuracy, precision, mcc, fp = metricsDT = evaluationModels(y_test, y_pred_DT)\n",
    "printMetrics(DT, accuracy, precision, mcc, fp)"
   ]
  },
  {
   "cell_type": "markdown",
   "metadata": {},
   "source": [
    "MCC varies beetwen -1 (perfect negative correlation) and 1 (perfect positive correlation).\n",
    "OBS: 0 (random flip)"
   ]
  },
  {
   "cell_type": "code",
   "execution_count": 25,
   "metadata": {},
   "outputs": [
    {
     "data": {
      "text/plain": [
       "array([[8045,   85],\n",
       "       [ 109,  710]])"
      ]
     },
     "execution_count": 25,
     "metadata": {},
     "output_type": "execute_result"
    }
   ],
   "source": [
    "confusion_matrix(y_test, y_pred_DT) # (TN FP \\\\ FN & TP)"
   ]
  },
  {
   "cell_type": "markdown",
   "metadata": {},
   "source": [
    "### Trick (worst possible threshold)"
   ]
  },
  {
   "cell_type": "code",
   "execution_count": 26,
   "metadata": {},
   "outputs": [],
   "source": [
    "# Bad practice (don't do it)\n",
    "import warnings\n",
    "warnings.filterwarnings('ignore')"
   ]
  },
  {
   "cell_type": "code",
   "execution_count": 27,
   "metadata": {},
   "outputs": [
    {
     "name": "stdout",
     "output_type": "stream",
     "text": [
      "-------------------------\n",
      " list\n",
      "-------------------------\n",
      "- Accuracy: 0.908\n",
      "- Precision: 0.000\n",
      "- MCC: 0.000\n",
      "- False Positives: 0\n"
     ]
    }
   ],
   "source": [
    "threshold = [0] * len(X_test)  # All results equal to 0\n",
    "\n",
    "accuracy, precision, mcc, fp = metricsThreshold = evaluationModels(y_test, threshold)\n",
    "printMetrics(threshold, accuracy, precision, mcc, fp)  # The name is not defined"
   ]
  },
  {
   "cell_type": "code",
   "execution_count": 28,
   "metadata": {},
   "outputs": [
    {
     "data": {
      "text/html": [
       "<div>\n",
       "<style scoped>\n",
       "    .dataframe tbody tr th:only-of-type {\n",
       "        vertical-align: middle;\n",
       "    }\n",
       "\n",
       "    .dataframe tbody tr th {\n",
       "        vertical-align: top;\n",
       "    }\n",
       "\n",
       "    .dataframe thead th {\n",
       "        text-align: right;\n",
       "    }\n",
       "</style>\n",
       "<table border=\"1\" class=\"dataframe\">\n",
       "  <thead>\n",
       "    <tr style=\"text-align: right;\">\n",
       "      <th></th>\n",
       "      <th>Feature</th>\n",
       "      <th>Importance</th>\n",
       "    </tr>\n",
       "  </thead>\n",
       "  <tbody>\n",
       "    <tr>\n",
       "      <th>2</th>\n",
       "      <td>Excess kurtosis of the integrated profile</td>\n",
       "      <td>0.972950</td>\n",
       "    </tr>\n",
       "    <tr>\n",
       "      <th>5</th>\n",
       "      <td>Standard deviation of the DM-SNR curve</td>\n",
       "      <td>0.019431</td>\n",
       "    </tr>\n",
       "    <tr>\n",
       "      <th>0</th>\n",
       "      <td>Mean of the integrated profile</td>\n",
       "      <td>0.006398</td>\n",
       "    </tr>\n",
       "    <tr>\n",
       "      <th>1</th>\n",
       "      <td>Standard deviation of the integrated profile</td>\n",
       "      <td>0.001221</td>\n",
       "    </tr>\n",
       "    <tr>\n",
       "      <th>3</th>\n",
       "      <td>Skewness of the integrated profile</td>\n",
       "      <td>0.000000</td>\n",
       "    </tr>\n",
       "    <tr>\n",
       "      <th>4</th>\n",
       "      <td>Mean of the DM-SNR curve</td>\n",
       "      <td>0.000000</td>\n",
       "    </tr>\n",
       "    <tr>\n",
       "      <th>6</th>\n",
       "      <td>Excess kurtosis of the DM-SNR curve</td>\n",
       "      <td>0.000000</td>\n",
       "    </tr>\n",
       "    <tr>\n",
       "      <th>7</th>\n",
       "      <td>Skewness of the DM-SNR curve</td>\n",
       "      <td>0.000000</td>\n",
       "    </tr>\n",
       "  </tbody>\n",
       "</table>\n",
       "</div>"
      ],
      "text/plain": [
       "                                         Feature  Importance\n",
       "2      Excess kurtosis of the integrated profile    0.972950\n",
       "5         Standard deviation of the DM-SNR curve    0.019431\n",
       "0                 Mean of the integrated profile    0.006398\n",
       "1   Standard deviation of the integrated profile    0.001221\n",
       "3             Skewness of the integrated profile    0.000000\n",
       "4                       Mean of the DM-SNR curve    0.000000\n",
       "6            Excess kurtosis of the DM-SNR curve    0.000000\n",
       "7                   Skewness of the DM-SNR curve    0.000000"
      ]
     },
     "execution_count": 28,
     "metadata": {},
     "output_type": "execute_result"
    }
   ],
   "source": [
    "# Feature Importance\n",
    "\n",
    "featureImportanceDT = pd.DataFrame({'Feature': list(X_train.columns),\n",
    "                                  'Importance': DT.feature_importances_}).\\\n",
    "    sort_values('Importance', ascending=False)\n",
    "\n",
    "featureImportanceDT"
   ]
  },
  {
   "cell_type": "markdown",
   "metadata": {},
   "source": [
    "### 4.2 Random Forest\n",
    "\n",
    "See the parameters in: [sklearn.ensemble.RandomForestClassifier](https://scikit-learn.org/stable/modules/generated/sklearn.ensemble.RandomForestClassifier.html)\n",
    "\n",
    "More details in: [Random Forests](https://scikit-learn.org/stable/modules/ensemble.html#random-forests)\n",
    "\n",
    "How to tune the parameters: [Random Forest: Hyperparameters and how to fine-tune them](https://towardsdatascience.com/random-forest-hyperparameters-and-how-to-fine-tune-them-17aee785ee0d)"
   ]
  },
  {
   "cell_type": "code",
   "execution_count": 29,
   "metadata": {},
   "outputs": [
    {
     "data": {
      "text/plain": [
       "RandomForestClassifier(max_depth=4, random_state=42)"
      ]
     },
     "execution_count": 29,
     "metadata": {},
     "output_type": "execute_result"
    }
   ],
   "source": [
    "from sklearn.ensemble import RandomForestClassifier\n",
    "\n",
    "# Building (need to tune for better results)\n",
    "RF = RandomForestClassifier(max_depth=4, random_state=42)\n",
    "\n",
    "# Training \n",
    "RF.fit(X_train, y_train)"
   ]
  },
  {
   "cell_type": "code",
   "execution_count": 30,
   "metadata": {},
   "outputs": [
    {
     "data": {
      "text/plain": [
       "{'bootstrap': True,\n",
       " 'ccp_alpha': 0.0,\n",
       " 'class_weight': None,\n",
       " 'criterion': 'gini',\n",
       " 'max_depth': 4,\n",
       " 'max_features': 'auto',\n",
       " 'max_leaf_nodes': None,\n",
       " 'max_samples': None,\n",
       " 'min_impurity_decrease': 0.0,\n",
       " 'min_impurity_split': None,\n",
       " 'min_samples_leaf': 1,\n",
       " 'min_samples_split': 2,\n",
       " 'min_weight_fraction_leaf': 0.0,\n",
       " 'n_estimators': 100,\n",
       " 'n_jobs': None,\n",
       " 'oob_score': False,\n",
       " 'random_state': 42,\n",
       " 'verbose': 0,\n",
       " 'warm_start': False}"
      ]
     },
     "execution_count": 30,
     "metadata": {},
     "output_type": "execute_result"
    }
   ],
   "source": [
    "# Training parameters\n",
    "RF.get_params()"
   ]
  },
  {
   "cell_type": "code",
   "execution_count": 31,
   "metadata": {},
   "outputs": [],
   "source": [
    "# Predict\n",
    "y_pred_RF = RF.predict(X_test)"
   ]
  },
  {
   "cell_type": "code",
   "execution_count": 32,
   "metadata": {},
   "outputs": [
    {
     "name": "stdout",
     "output_type": "stream",
     "text": [
      "-------------------------\n",
      " RandomForestClassifier\n",
      "-------------------------\n",
      "- Accuracy: 0.979\n",
      "- Precision: 0.929\n",
      "- MCC: 0.870\n",
      "- False Positives: 52\n"
     ]
    }
   ],
   "source": [
    "# Evaluating\n",
    "accuracy, precision, mcc, fp = metricsRF = evaluationModels(y_test, y_pred_RF)\n",
    "printMetrics(RF, accuracy, precision, mcc, fp)"
   ]
  },
  {
   "cell_type": "code",
   "execution_count": 33,
   "metadata": {},
   "outputs": [
    {
     "data": {
      "text/html": [
       "<div>\n",
       "<style scoped>\n",
       "    .dataframe tbody tr th:only-of-type {\n",
       "        vertical-align: middle;\n",
       "    }\n",
       "\n",
       "    .dataframe tbody tr th {\n",
       "        vertical-align: top;\n",
       "    }\n",
       "\n",
       "    .dataframe thead th {\n",
       "        text-align: right;\n",
       "    }\n",
       "</style>\n",
       "<table border=\"1\" class=\"dataframe\">\n",
       "  <thead>\n",
       "    <tr style=\"text-align: right;\">\n",
       "      <th></th>\n",
       "      <th>feature</th>\n",
       "      <th>importance</th>\n",
       "    </tr>\n",
       "  </thead>\n",
       "  <tbody>\n",
       "    <tr>\n",
       "      <th>2</th>\n",
       "      <td>Excess kurtosis of the integrated profile</td>\n",
       "      <td>0.410166</td>\n",
       "    </tr>\n",
       "    <tr>\n",
       "      <th>3</th>\n",
       "      <td>Skewness of the integrated profile</td>\n",
       "      <td>0.215174</td>\n",
       "    </tr>\n",
       "    <tr>\n",
       "      <th>0</th>\n",
       "      <td>Mean of the integrated profile</td>\n",
       "      <td>0.176768</td>\n",
       "    </tr>\n",
       "    <tr>\n",
       "      <th>4</th>\n",
       "      <td>Mean of the DM-SNR curve</td>\n",
       "      <td>0.059261</td>\n",
       "    </tr>\n",
       "    <tr>\n",
       "      <th>5</th>\n",
       "      <td>Standard deviation of the DM-SNR curve</td>\n",
       "      <td>0.054170</td>\n",
       "    </tr>\n",
       "    <tr>\n",
       "      <th>1</th>\n",
       "      <td>Standard deviation of the integrated profile</td>\n",
       "      <td>0.033804</td>\n",
       "    </tr>\n",
       "    <tr>\n",
       "      <th>7</th>\n",
       "      <td>Skewness of the DM-SNR curve</td>\n",
       "      <td>0.030396</td>\n",
       "    </tr>\n",
       "    <tr>\n",
       "      <th>6</th>\n",
       "      <td>Excess kurtosis of the DM-SNR curve</td>\n",
       "      <td>0.020261</td>\n",
       "    </tr>\n",
       "  </tbody>\n",
       "</table>\n",
       "</div>"
      ],
      "text/plain": [
       "                                         feature  importance\n",
       "2      Excess kurtosis of the integrated profile    0.410166\n",
       "3             Skewness of the integrated profile    0.215174\n",
       "0                 Mean of the integrated profile    0.176768\n",
       "4                       Mean of the DM-SNR curve    0.059261\n",
       "5         Standard deviation of the DM-SNR curve    0.054170\n",
       "1   Standard deviation of the integrated profile    0.033804\n",
       "7                   Skewness of the DM-SNR curve    0.030396\n",
       "6            Excess kurtosis of the DM-SNR curve    0.020261"
      ]
     },
     "execution_count": 33,
     "metadata": {},
     "output_type": "execute_result"
    }
   ],
   "source": [
    "# Feature Importance\n",
    "featureImportanceRF = pd.DataFrame({'feature': list(X_train.columns),\n",
    "                                  'importance': RF.feature_importances_}).\\\n",
    "    sort_values('importance', ascending=False)\n",
    "\n",
    "featureImportanceRF"
   ]
  },
  {
   "cell_type": "markdown",
   "metadata": {},
   "source": [
    "### 4.3 K Nearest Neighbors (KNN)\n",
    "\n",
    "See the parameters in: [sklearn.neighbors.KNeighborsClassifier](https://scikit-learn.org/stable/modules/generated/sklearn.neighbors.KNeighborsClassifier.html)\n",
    "\n",
    "More details in: [Nearest Neighbors](https://scikit-learn.org/stable/modules/neighbors.html)"
   ]
  },
  {
   "cell_type": "code",
   "execution_count": 34,
   "metadata": {},
   "outputs": [
    {
     "data": {
      "text/plain": [
       "{'algorithm': 'auto',\n",
       " 'leaf_size': 30,\n",
       " 'metric': 'euclidean',\n",
       " 'metric_params': None,\n",
       " 'n_jobs': None,\n",
       " 'n_neighbors': 5,\n",
       " 'p': 2,\n",
       " 'weights': 'uniform'}"
      ]
     },
     "execution_count": 34,
     "metadata": {},
     "output_type": "execute_result"
    }
   ],
   "source": [
    "from sklearn.neighbors import KNeighborsClassifier\n",
    "\n",
    "# Building\n",
    "KNN = KNeighborsClassifier(metric='euclidean')\n",
    "\n",
    "# Training \n",
    "KNN.fit(X_train, y_train)\n",
    "KNN.get_params()"
   ]
  },
  {
   "cell_type": "code",
   "execution_count": 35,
   "metadata": {},
   "outputs": [],
   "source": [
    "# Predict\n",
    "y_pred_KNN = KNN.predict(X_test)"
   ]
  },
  {
   "cell_type": "code",
   "execution_count": 36,
   "metadata": {},
   "outputs": [
    {
     "name": "stdout",
     "output_type": "stream",
     "text": [
      "-------------------------\n",
      " KNeighborsClassifier\n",
      "-------------------------\n",
      "- Accuracy: 0.972\n",
      "- Precision: 0.892\n",
      "- MCC: 0.827\n",
      "- False Positives: 79\n"
     ]
    }
   ],
   "source": [
    "# Evaluating\n",
    "accuracy, precision, mcc, fp = metricsKNN = evaluationModels(y_test, y_pred_KNN)\n",
    "printMetrics(KNN, accuracy, precision, mcc, fp)"
   ]
  },
  {
   "cell_type": "markdown",
   "metadata": {},
   "source": [
    "### 4.4 XGBoost (Ensemble model)\n",
    "\n",
    "See the parameters in: [XGBoost Parameters](https://xgboost.readthedocs.io/en/latest/parameter.html)\n",
    "\n",
    "More details in: [Getting Started with XGBoost in scikit-learn](https://towardsdatascience.com/getting-started-with-xgboost-in-scikit-learn-f69f5f470a97)\n",
    "\n",
    "* XGBoost is regularized (avoid overfit).\n",
    "* XGBoost Have hyperparameters to handle imbalanced data and null values.\n",
    "* Combine some of the best practices and algorithms in a single model.\n",
    "* Fast and easy to use.\n",
    "* It is my go-to algorithm for dealing with structured data."
   ]
  },
  {
   "cell_type": "code",
   "execution_count": 37,
   "metadata": {},
   "outputs": [
    {
     "data": {
      "text/plain": [
       "XGBClassifier(base_score=0.5, booster='gbtree', colsample_bylevel=1,\n",
       "              colsample_bynode=1, colsample_bytree=1, gamma=0, gpu_id=-1,\n",
       "              importance_type='gain', interaction_constraints='',\n",
       "              learning_rate=0.300000012, max_delta_step=0, max_depth=4,\n",
       "              min_child_weight=1, missing=nan, monotone_constraints='()',\n",
       "              n_estimators=100, n_jobs=0, num_parallel_tree=1, random_state=42,\n",
       "              reg_alpha=0, reg_lambda=1, scale_pos_weight=1, subsample=1,\n",
       "              tree_method='exact', validate_parameters=1, verbosity=None)"
      ]
     },
     "execution_count": 37,
     "metadata": {},
     "output_type": "execute_result"
    }
   ],
   "source": [
    "import xgboost as xgb\n",
    "\n",
    "# Building (need to tune for better results)\n",
    "XGB = xgb.XGBClassifier(max_depth=4, random_state=42)\n",
    "\n",
    "# Training \n",
    "XGB.fit(X_train, y_train)"
   ]
  },
  {
   "cell_type": "code",
   "execution_count": 38,
   "metadata": {},
   "outputs": [
    {
     "data": {
      "text/plain": [
       "{'objective': 'binary:logistic',\n",
       " 'base_score': 0.5,\n",
       " 'booster': 'gbtree',\n",
       " 'colsample_bylevel': 1,\n",
       " 'colsample_bynode': 1,\n",
       " 'colsample_bytree': 1,\n",
       " 'gamma': 0,\n",
       " 'gpu_id': -1,\n",
       " 'importance_type': 'gain',\n",
       " 'interaction_constraints': '',\n",
       " 'learning_rate': 0.300000012,\n",
       " 'max_delta_step': 0,\n",
       " 'max_depth': 4,\n",
       " 'min_child_weight': 1,\n",
       " 'missing': nan,\n",
       " 'monotone_constraints': '()',\n",
       " 'n_estimators': 100,\n",
       " 'n_jobs': 0,\n",
       " 'num_parallel_tree': 1,\n",
       " 'random_state': 42,\n",
       " 'reg_alpha': 0,\n",
       " 'reg_lambda': 1,\n",
       " 'scale_pos_weight': 1,\n",
       " 'subsample': 1,\n",
       " 'tree_method': 'exact',\n",
       " 'validate_parameters': 1,\n",
       " 'verbosity': None}"
      ]
     },
     "execution_count": 38,
     "metadata": {},
     "output_type": "execute_result"
    }
   ],
   "source": [
    "# Training parameters\n",
    "XGB.get_params()"
   ]
  },
  {
   "cell_type": "code",
   "execution_count": 39,
   "metadata": {},
   "outputs": [],
   "source": [
    "# Predict\n",
    "y_pred_XGB = XGB.predict(X_test)"
   ]
  },
  {
   "cell_type": "code",
   "execution_count": 40,
   "metadata": {},
   "outputs": [
    {
     "name": "stdout",
     "output_type": "stream",
     "text": [
      "-------------------------\n",
      " XGBClassifier\n",
      "-------------------------\n",
      "- Accuracy: 0.979\n",
      "- Precision: 0.912\n",
      "- MCC: 0.868\n",
      "- False Positives: 67\n"
     ]
    }
   ],
   "source": [
    "# Evaluating\n",
    "accuracy, precision, mcc, fp = metricsXGB = evaluationModels(y_test, y_pred_XGB)\n",
    "printMetrics(XGB, accuracy, precision, mcc, fp)"
   ]
  },
  {
   "cell_type": "code",
   "execution_count": 41,
   "metadata": {},
   "outputs": [
    {
     "data": {
      "text/html": [
       "<div>\n",
       "<style scoped>\n",
       "    .dataframe tbody tr th:only-of-type {\n",
       "        vertical-align: middle;\n",
       "    }\n",
       "\n",
       "    .dataframe tbody tr th {\n",
       "        vertical-align: top;\n",
       "    }\n",
       "\n",
       "    .dataframe thead th {\n",
       "        text-align: right;\n",
       "    }\n",
       "</style>\n",
       "<table border=\"1\" class=\"dataframe\">\n",
       "  <thead>\n",
       "    <tr style=\"text-align: right;\">\n",
       "      <th></th>\n",
       "      <th>feature</th>\n",
       "      <th>importance</th>\n",
       "    </tr>\n",
       "  </thead>\n",
       "  <tbody>\n",
       "    <tr>\n",
       "      <th>2</th>\n",
       "      <td>Excess kurtosis of the integrated profile</td>\n",
       "      <td>0.705079</td>\n",
       "    </tr>\n",
       "    <tr>\n",
       "      <th>5</th>\n",
       "      <td>Standard deviation of the DM-SNR curve</td>\n",
       "      <td>0.066338</td>\n",
       "    </tr>\n",
       "    <tr>\n",
       "      <th>1</th>\n",
       "      <td>Standard deviation of the integrated profile</td>\n",
       "      <td>0.043162</td>\n",
       "    </tr>\n",
       "    <tr>\n",
       "      <th>6</th>\n",
       "      <td>Excess kurtosis of the DM-SNR curve</td>\n",
       "      <td>0.040389</td>\n",
       "    </tr>\n",
       "    <tr>\n",
       "      <th>0</th>\n",
       "      <td>Mean of the integrated profile</td>\n",
       "      <td>0.038011</td>\n",
       "    </tr>\n",
       "    <tr>\n",
       "      <th>3</th>\n",
       "      <td>Skewness of the integrated profile</td>\n",
       "      <td>0.037221</td>\n",
       "    </tr>\n",
       "    <tr>\n",
       "      <th>4</th>\n",
       "      <td>Mean of the DM-SNR curve</td>\n",
       "      <td>0.035053</td>\n",
       "    </tr>\n",
       "    <tr>\n",
       "      <th>7</th>\n",
       "      <td>Skewness of the DM-SNR curve</td>\n",
       "      <td>0.034746</td>\n",
       "    </tr>\n",
       "  </tbody>\n",
       "</table>\n",
       "</div>"
      ],
      "text/plain": [
       "                                         feature  importance\n",
       "2      Excess kurtosis of the integrated profile    0.705079\n",
       "5         Standard deviation of the DM-SNR curve    0.066338\n",
       "1   Standard deviation of the integrated profile    0.043162\n",
       "6            Excess kurtosis of the DM-SNR curve    0.040389\n",
       "0                 Mean of the integrated profile    0.038011\n",
       "3             Skewness of the integrated profile    0.037221\n",
       "4                       Mean of the DM-SNR curve    0.035053\n",
       "7                   Skewness of the DM-SNR curve    0.034746"
      ]
     },
     "execution_count": 41,
     "metadata": {},
     "output_type": "execute_result"
    }
   ],
   "source": [
    "# Feature Importance\n",
    "featureImportanceXGB = pd.DataFrame({'feature': list(X_train.columns),\n",
    "                                  'importance': XGB.feature_importances_}).\\\n",
    "    sort_values('importance', ascending=False)\n",
    "\n",
    "featureImportanceXGB"
   ]
  },
  {
   "cell_type": "markdown",
   "metadata": {},
   "source": [
    "### 4.5 Neural Network: Multi-Layer Perceptron (MLP) - Most simple NN model\n",
    "\n",
    "See the parameters in: [sklearn.neural_network.MLPClassifier](https://scikit-learn.org/stable/modules/generated/sklearn.neural_network.MLPClassifier.html)\n",
    "\n",
    "More details in: [Multi-layer Perceptron (MLP)](https://scikit-learn.org/stable/modules/neural_networks_supervised.html)"
   ]
  },
  {
   "cell_type": "code",
   "execution_count": 42,
   "metadata": {},
   "outputs": [
    {
     "data": {
      "text/plain": [
       "MLPClassifier(alpha=1, max_iter=1000)"
      ]
     },
     "execution_count": 42,
     "metadata": {},
     "output_type": "execute_result"
    }
   ],
   "source": [
    "from sklearn.neural_network import MLPClassifier\n",
    "\n",
    "MLP = MLPClassifier(alpha=1, max_iter=1000)\n",
    "\n",
    "# Training \n",
    "MLP.fit(X_train, y_train)"
   ]
  },
  {
   "cell_type": "code",
   "execution_count": 43,
   "metadata": {},
   "outputs": [
    {
     "data": {
      "text/plain": [
       "{'activation': 'relu',\n",
       " 'alpha': 1,\n",
       " 'batch_size': 'auto',\n",
       " 'beta_1': 0.9,\n",
       " 'beta_2': 0.999,\n",
       " 'early_stopping': False,\n",
       " 'epsilon': 1e-08,\n",
       " 'hidden_layer_sizes': (100,),\n",
       " 'learning_rate': 'constant',\n",
       " 'learning_rate_init': 0.001,\n",
       " 'max_fun': 15000,\n",
       " 'max_iter': 1000,\n",
       " 'momentum': 0.9,\n",
       " 'n_iter_no_change': 10,\n",
       " 'nesterovs_momentum': True,\n",
       " 'power_t': 0.5,\n",
       " 'random_state': None,\n",
       " 'shuffle': True,\n",
       " 'solver': 'adam',\n",
       " 'tol': 0.0001,\n",
       " 'validation_fraction': 0.1,\n",
       " 'verbose': False,\n",
       " 'warm_start': False}"
      ]
     },
     "execution_count": 43,
     "metadata": {},
     "output_type": "execute_result"
    }
   ],
   "source": [
    "# Training parameters\n",
    "MLP.get_params()"
   ]
  },
  {
   "cell_type": "code",
   "execution_count": 44,
   "metadata": {},
   "outputs": [],
   "source": [
    "# Predict\n",
    "y_pred_MLP = MLP.predict(X_test)"
   ]
  },
  {
   "cell_type": "code",
   "execution_count": 45,
   "metadata": {},
   "outputs": [
    {
     "name": "stdout",
     "output_type": "stream",
     "text": [
      "-------------------------\n",
      " MLPClassifier\n",
      "-------------------------\n",
      "- Accuracy: 0.977\n",
      "- Precision: 0.937\n",
      "- MCC: 0.855\n",
      "- False Positives: 44\n"
     ]
    }
   ],
   "source": [
    "# Evaluating\n",
    "accuracy, precision, mcc, fp = metricsMLP = evaluationModels(y_test, y_pred_MLP)\n",
    "printMetrics(MLP, accuracy, precision, mcc, fp)"
   ]
  },
  {
   "cell_type": "markdown",
   "metadata": {},
   "source": [
    "## 5. Comparison of models"
   ]
  },
  {
   "cell_type": "code",
   "execution_count": 46,
   "metadata": {},
   "outputs": [
    {
     "data": {
      "text/html": [
       "<div>\n",
       "<style scoped>\n",
       "    .dataframe tbody tr th:only-of-type {\n",
       "        vertical-align: middle;\n",
       "    }\n",
       "\n",
       "    .dataframe tbody tr th {\n",
       "        vertical-align: top;\n",
       "    }\n",
       "\n",
       "    .dataframe thead th {\n",
       "        text-align: right;\n",
       "    }\n",
       "</style>\n",
       "<table border=\"1\" class=\"dataframe\">\n",
       "  <thead>\n",
       "    <tr style=\"text-align: right;\">\n",
       "      <th></th>\n",
       "      <th>Accuracy</th>\n",
       "      <th>Precision</th>\n",
       "      <th>MCC</th>\n",
       "      <th>FP</th>\n",
       "    </tr>\n",
       "  </thead>\n",
       "  <tbody>\n",
       "    <tr>\n",
       "      <th>Threshold</th>\n",
       "      <td>0.908481</td>\n",
       "      <td>0.000000</td>\n",
       "      <td>0.000000</td>\n",
       "      <td>0</td>\n",
       "    </tr>\n",
       "    <tr>\n",
       "      <th>DT</th>\n",
       "      <td>0.978322</td>\n",
       "      <td>0.893082</td>\n",
       "      <td>0.868007</td>\n",
       "      <td>85</td>\n",
       "    </tr>\n",
       "    <tr>\n",
       "      <th>RF</th>\n",
       "      <td>0.979104</td>\n",
       "      <td>0.929348</td>\n",
       "      <td>0.869823</td>\n",
       "      <td>52</td>\n",
       "    </tr>\n",
       "    <tr>\n",
       "      <th>KNN</th>\n",
       "      <td>0.972399</td>\n",
       "      <td>0.891781</td>\n",
       "      <td>0.827126</td>\n",
       "      <td>79</td>\n",
       "    </tr>\n",
       "    <tr>\n",
       "      <th>MLP</th>\n",
       "      <td>0.976981</td>\n",
       "      <td>0.937233</td>\n",
       "      <td>0.855058</td>\n",
       "      <td>44</td>\n",
       "    </tr>\n",
       "    <tr>\n",
       "      <th>XGB</th>\n",
       "      <td>0.978657</td>\n",
       "      <td>0.912073</td>\n",
       "      <td>0.868180</td>\n",
       "      <td>67</td>\n",
       "    </tr>\n",
       "  </tbody>\n",
       "</table>\n",
       "</div>"
      ],
      "text/plain": [
       "           Accuracy  Precision       MCC  FP\n",
       "Threshold  0.908481   0.000000  0.000000   0\n",
       "DT         0.978322   0.893082  0.868007  85\n",
       "RF         0.979104   0.929348  0.869823  52\n",
       "KNN        0.972399   0.891781  0.827126  79\n",
       "MLP        0.976981   0.937233  0.855058  44\n",
       "XGB        0.978657   0.912073  0.868180  67"
      ]
     },
     "execution_count": 46,
     "metadata": {},
     "output_type": "execute_result"
    }
   ],
   "source": [
    "results_accuracy = {\n",
    "    'Threshold': metricsThreshold[0],\n",
    "    'DT': metricsDT[0],\n",
    "    'RF': metricsRF[0],\n",
    "    'KNN': metricsKNN[0],\n",
    "    'MLP': metricsMLP[0],\n",
    "    'XGB': metricsXGB[0],\n",
    "    \n",
    "}\n",
    "results_precision = {\n",
    "    'Threshold': metricsThreshold[1],\n",
    "    'DT': metricsDT[1],\n",
    "    'RF': metricsRF[1],\n",
    "    'KNN': metricsKNN[1],\n",
    "    'MLP': metricsMLP[1],\n",
    "    'XGB': metricsXGB[1],\n",
    "}\n",
    "results_mcc = {\n",
    "    'Threshold': metricsThreshold[2],\n",
    "    'DT': metricsDT[2],\n",
    "    'RF': metricsRF[2],\n",
    "    'KNN': metricsKNN[2],\n",
    "    'MLP': metricsMLP[2],\n",
    "    'XGB': metricsXGB[2],\n",
    "}\n",
    "\n",
    "results_fp = {\n",
    "    'Threshold': metricsThreshold[3],\n",
    "    'DT': metricsDT[3],\n",
    "    'RF': metricsRF[3],\n",
    "    'KNN': metricsKNN[3],\n",
    "    'MLP': metricsMLP[3],\n",
    "    'XGB': metricsXGB[3],\n",
    "}\n",
    "\n",
    "acc_df = pd.DataFrame.from_dict(results_accuracy, orient='index', columns=['Accuracy'])\n",
    "precision_df = pd.DataFrame.from_dict(results_precision, orient='index', columns=['Precision'])\n",
    "mcc_df = pd.DataFrame.from_dict(results_mcc, orient='index', columns=['MCC'])\n",
    "fp_df = pd.DataFrame.from_dict(results_fp, orient='index', columns=['FP'])\n",
    "results = pd.concat([acc_df, precision_df, mcc_df, fp_df], axis=1)\n",
    "results"
   ]
  },
  {
   "cell_type": "markdown",
   "metadata": {},
   "source": [
    "## 6. Improving the model\n",
    "\n",
    "What can we do better? \n",
    "\n",
    "- Be careful in this improvement phase that we often make the model worse."
   ]
  },
  {
   "cell_type": "code",
   "execution_count": 47,
   "metadata": {},
   "outputs": [],
   "source": [
    "from sklearn.model_selection import GridSearchCV\n",
    "# Try possible combinations of the parameters and find the best ones.\n",
    "\n",
    "from sklearn.model_selection import RandomizedSearchCV\n",
    "# Random search for the best parameters (slow and computationally intensive).\n",
    "\n",
    "from sklearn.ensemble import StackingClassifier\n",
    "# Combine algorithms and make a hybrid model."
   ]
  },
  {
   "cell_type": "markdown",
   "metadata": {},
   "source": [
    "More details in [Machine Learning: GridSearchCV & RandomizedSearchCV](https://towardsdatascience.com/machine-learning-gridsearchcv-randomizedsearchcv-d36b89231b10) and [Stacking made easy with Sklearn](https://towardsdatascience.com/stacking-made-easy-with-sklearn-e27a0793c92b)."
   ]
  },
  {
   "cell_type": "markdown",
   "metadata": {},
   "source": [
    "## 7. Save Model (doesn't work in the colab env)"
   ]
  },
  {
   "cell_type": "markdown",
   "metadata": {},
   "source": [
    "```python\n",
    "import pickle\n",
    "import datetime\n",
    "\n",
    "current_date: str = datetime.date.today().strftime(\"%Y-%m-%d\")\n",
    "    \n",
    "# save models\n",
    "filename_DT = f'models/{current_date}_Pulsar_DT.mlmodel'\n",
    "pickle.dump(DT, open(filename_DT, 'wb'))\n",
    "\n",
    "filename_RF = f'models/{current_date}_Pulsar_RF.mlmodel'\n",
    "pickle.dump(RF, open(filename_RF, 'wb'))\n",
    "\n",
    "filename_KNN = f'models/{current_date}_Pulsar_KNN.mlmodel'\n",
    "pickle.dump(KNN, open(filename_KNN, 'wb'))\n",
    "\n",
    "filename_MLP = f'models/{current_date}_Pulsar_MLP.mlmodel'\n",
    "pickle.dump(MLP, open(filename_MLP, 'wb'))\n",
    "\n",
    "filename_XGB = f'models/{current_date}_Pulsar_XGB.mlmodel'\n",
    "pickle.dump(XGB, open(filename_XGB, 'wb'))\n",
    "```"
   ]
  },
  {
   "cell_type": "markdown",
   "metadata": {},
   "source": [
    "## 7.1 Load model (doesn't work in the colab env)"
   ]
  },
  {
   "cell_type": "markdown",
   "metadata": {},
   "source": [
    "```python\n",
    "loaded_model = pickle.load(open(filename_RF, 'rb'))\n",
    "\n",
    "# In real life you will use data from the production pipeline.\n",
    "result = loaded_model.score(X_test, y_test)\n",
    "\n",
    "print(f'Random Forest: {result:0.3f}')\n",
    "```"
   ]
  },
  {
   "cell_type": "markdown",
   "metadata": {},
   "source": [
    "Random Forest: 0.979\n"
   ]
  },
  {
   "cell_type": "markdown",
   "metadata": {},
   "source": [
    "## 8. How to identify overfitting?"
   ]
  },
  {
   "cell_type": "code",
   "execution_count": 54,
   "metadata": {},
   "outputs": [
    {
     "data": {
      "image/png": "[encoded data removed]",
      "text/plain": [
       "<Figure size 1008x360 with 1 Axes>"
      ]
     },
     "metadata": {
      "needs_background": "light"
     },
     "output_type": "display_data"
    }
   ],
   "source": [
    "maxDepths = 15\n",
    "\n",
    "depths = [i for i in range(1, maxDepths+1)]  # +1 to include run 20\n",
    "train_results, test_results = list(), list()\n",
    "\n",
    "for i in depths:\n",
    "    MODEL = RandomForestClassifier(max_depth=i, random_state=42)\n",
    "    MODEL.fit(X_train, y_train)\n",
    "    method = MODEL.__class__.__name__\n",
    "    # train\n",
    "    y_pred_train = MODEL.predict(X_train)\n",
    "    train_accuracy = accuracy_score(y_train, y_pred_train)\n",
    "    train_results.append(train_accuracy)\n",
    "    # test\n",
    "    y_pred_test = MODEL.predict(X_test)\n",
    "    test_accuracy = accuracy_score(y_test, y_pred_test)\n",
    "    test_results.append(test_accuracy)\n",
    "    \n",
    "# Results train vs test\n",
    "plt.figure(figsize=(14, 5))\n",
    "plt.plot(depths, train_results, '-o', label='Train')\n",
    "plt.plot(depths, test_results, '-o', label='Test')\n",
    "plt.legend(loc=\"best\")\n",
    "plt.title(f\"{method} accuracy for training and testing a maximum of {maxDepths} depths\")\n",
    "plt.show()\n"
   ]
  },
  {
   "cell_type": "markdown",
   "metadata": {},
   "source": [
    "## 9. Automating boring tasks (Choosing the best model)"
   ]
  },
  {
   "cell_type": "code",
   "execution_count": 49,
   "metadata": {},
   "outputs": [],
   "source": [
    "# importing more models\n",
    "\n",
    "from sklearn.ensemble import AdaBoostClassifier, GradientBoostingClassifier\n",
    "from sklearn.naive_bayes import GaussianNB"
   ]
  },
  {
   "cell_type": "code",
   "execution_count": 50,
   "metadata": {},
   "outputs": [],
   "source": [
    "results_cols = [\"Classifier\", \"Accuracy\", \"Precision\", \"MCC\", \"False Positives\"]\n",
    "results = pd.DataFrame(columns = results_cols)\n",
    "\n",
    "# Models\n",
    "classifiers = [\n",
    "    DecisionTreeClassifier(max_depth=3, random_state=42),\n",
    "    RandomForestClassifier(max_depth=4, random_state=42),\n",
    "    KNeighborsClassifier(metric='euclidean'),\n",
    "    xgb.XGBClassifier(max_depth=4, random_state=42),\n",
    "    MLPClassifier(alpha=1, max_iter=1000),\n",
    "    AdaBoostClassifier(random_state=42),\n",
    "    GradientBoostingClassifier(max_depth=4, random_state=42),\n",
    "    GaussianNB()\n",
    "]"
   ]
  },
  {
   "cell_type": "code",
   "execution_count": 51,
   "metadata": {
    "scrolled": true
   },
   "outputs": [
    {
     "name": "stdout",
     "output_type": "stream",
     "text": [
      "-------------------------\n",
      " DecisionTreeClassifier\n",
      "-------------------------\n",
      "- Accuracy: 0.978\n",
      "- Precision: 0.893\n",
      "- MCC: 0.868\n",
      "- False Positives: 85\n",
      "-------------------------\n",
      " RandomForestClassifier\n",
      "-------------------------\n",
      "- Accuracy: 0.979\n",
      "- Precision: 0.929\n",
      "- MCC: 0.870\n",
      "- False Positives: 52\n",
      "-------------------------\n",
      " KNeighborsClassifier\n",
      "-------------------------\n",
      "- Accuracy: 0.972\n",
      "- Precision: 0.892\n",
      "- MCC: 0.827\n",
      "- False Positives: 79\n",
      "-------------------------\n",
      " XGBClassifier\n",
      "-------------------------\n",
      "- Accuracy: 0.979\n",
      "- Precision: 0.912\n",
      "- MCC: 0.868\n",
      "- False Positives: 67\n",
      "-------------------------\n",
      " MLPClassifier\n",
      "-------------------------\n",
      "- Accuracy: 0.975\n",
      "- Precision: 0.936\n",
      "- MCC: 0.844\n",
      "- False Positives: 44\n",
      "-------------------------\n",
      " AdaBoostClassifier\n",
      "-------------------------\n",
      "- Accuracy: 0.978\n",
      "- Precision: 0.928\n",
      "- MCC: 0.863\n",
      "- False Positives: 52\n",
      "-------------------------\n",
      " GradientBoostingClassifier\n",
      "-------------------------\n",
      "- Accuracy: 0.977\n",
      "- Precision: 0.890\n",
      "- MCC: 0.861\n",
      "- False Positives: 87\n",
      "-------------------------\n",
      " GaussianNB\n",
      "-------------------------\n",
      "- Accuracy: 0.943\n",
      "- Precision: 0.637\n",
      "- MCC: 0.713\n",
      "- False Positives: 403\n"
     ]
    }
   ],
   "source": [
    "for clf in classifiers:\n",
    "    clf.fit(X_train, y_train)\n",
    "    method = clf.__class__.__name__\n",
    "    y_pred = clf.predict(X_test)\n",
    "    accuracy, precision, mcc, fp = evaluationModels(y_test, y_pred)\n",
    "    printMetrics(clf, accuracy, precision, mcc, fp)\n",
    "    \n",
    "    temp = pd.DataFrame([[method, accuracy * 100, precision * 100, mcc * 100, fp]], columns = results_cols)\n",
    "    results = results.append(temp)"
   ]
  },
  {
   "cell_type": "code",
   "execution_count": 52,
   "metadata": {
    "scrolled": true
   },
   "outputs": [
    {
     "data": {
      "image/png": "[encoded data removed]",
      "text/plain": [
       "<Figure size 720x432 with 1 Axes>"
      ]
     },
     "metadata": {
      "needs_background": "light"
     },
     "output_type": "display_data"
    },
    {
     "data": {
      "image/png": "[encoded data removed]",
      "text/plain": [
       "<Figure size 720x432 with 1 Axes>"
      ]
     },
     "metadata": {
      "needs_background": "light"
     },
     "output_type": "display_data"
    },
    {
     "data": {
      "image/png": "[encoded data removed]",
      "text/plain": [
       "<Figure size 720x432 with 1 Axes>"
      ]
     },
     "metadata": {
      "needs_background": "light"
     },
     "output_type": "display_data"
    },
    {
     "data": {
      "image/png": "[encoded data removed]",
      "text/plain": [
       "<Figure size 720x432 with 1 Axes>"
      ]
     },
     "metadata": {
      "needs_background": "light"
     },
     "output_type": "display_data"
    }
   ],
   "source": [
    "for metrics in results_cols[1:]:\n",
    "    plt.figure(figsize = (10,6))\n",
    "    sns.barplot(x = metrics, y = 'Classifier', data = results)\n",
    "    plt.xlabel(f'{metrics} %')\n",
    "    plt.title(f'{metrics} of models')\n",
    "    plt.show()"
   ]
  },
  {
   "cell_type": "code",
   "execution_count": 53,
   "metadata": {},
   "outputs": [
    {
     "data": {
      "text/html": [
       "<div>\n",
       "<style scoped>\n",
       "    .dataframe tbody tr th:only-of-type {\n",
       "        vertical-align: middle;\n",
       "    }\n",
       "\n",
       "    .dataframe tbody tr th {\n",
       "        vertical-align: top;\n",
       "    }\n",
       "\n",
       "    .dataframe thead th {\n",
       "        text-align: right;\n",
       "    }\n",
       "</style>\n",
       "<table border=\"1\" class=\"dataframe\">\n",
       "  <thead>\n",
       "    <tr style=\"text-align: right;\">\n",
       "      <th></th>\n",
       "      <th>Classifier</th>\n",
       "      <th>Accuracy</th>\n",
       "      <th>Precision</th>\n",
       "      <th>MCC</th>\n",
       "      <th>False Positives</th>\n",
       "    </tr>\n",
       "  </thead>\n",
       "  <tbody>\n",
       "    <tr>\n",
       "      <th>0</th>\n",
       "      <td>RandomForestClassifier</td>\n",
       "      <td>97.910381</td>\n",
       "      <td>92.934783</td>\n",
       "      <td>86.982279</td>\n",
       "      <td>52</td>\n",
       "    </tr>\n",
       "    <tr>\n",
       "      <th>0</th>\n",
       "      <td>XGBClassifier</td>\n",
       "      <td>97.865683</td>\n",
       "      <td>91.207349</td>\n",
       "      <td>86.818047</td>\n",
       "      <td>67</td>\n",
       "    </tr>\n",
       "    <tr>\n",
       "      <th>0</th>\n",
       "      <td>DecisionTreeClassifier</td>\n",
       "      <td>97.832160</td>\n",
       "      <td>89.308176</td>\n",
       "      <td>86.800703</td>\n",
       "      <td>85</td>\n",
       "    </tr>\n",
       "    <tr>\n",
       "      <th>0</th>\n",
       "      <td>AdaBoostClassifier</td>\n",
       "      <td>97.809811</td>\n",
       "      <td>92.847318</td>\n",
       "      <td>86.311296</td>\n",
       "      <td>52</td>\n",
       "    </tr>\n",
       "    <tr>\n",
       "      <th>0</th>\n",
       "      <td>GradientBoostingClassifier</td>\n",
       "      <td>97.720416</td>\n",
       "      <td>88.973384</td>\n",
       "      <td>86.079695</td>\n",
       "      <td>87</td>\n",
       "    </tr>\n",
       "    <tr>\n",
       "      <th>0</th>\n",
       "      <td>MLPClassifier</td>\n",
       "      <td>97.541625</td>\n",
       "      <td>93.595342</td>\n",
       "      <td>84.447965</td>\n",
       "      <td>44</td>\n",
       "    </tr>\n",
       "    <tr>\n",
       "      <th>0</th>\n",
       "      <td>KNeighborsClassifier</td>\n",
       "      <td>97.239915</td>\n",
       "      <td>89.178082</td>\n",
       "      <td>82.712574</td>\n",
       "      <td>79</td>\n",
       "    </tr>\n",
       "    <tr>\n",
       "      <th>0</th>\n",
       "      <td>GaussianNB</td>\n",
       "      <td>94.256341</td>\n",
       "      <td>63.726373</td>\n",
       "      <td>71.257658</td>\n",
       "      <td>403</td>\n",
       "    </tr>\n",
       "  </tbody>\n",
       "</table>\n",
       "</div>"
      ],
      "text/plain": [
       "                   Classifier   Accuracy  Precision        MCC False Positives\n",
       "0      RandomForestClassifier  97.910381  92.934783  86.982279              52\n",
       "0               XGBClassifier  97.865683  91.207349  86.818047              67\n",
       "0      DecisionTreeClassifier  97.832160  89.308176  86.800703              85\n",
       "0          AdaBoostClassifier  97.809811  92.847318  86.311296              52\n",
       "0  GradientBoostingClassifier  97.720416  88.973384  86.079695              87\n",
       "0               MLPClassifier  97.541625  93.595342  84.447965              44\n",
       "0        KNeighborsClassifier  97.239915  89.178082  82.712574              79\n",
       "0                  GaussianNB  94.256341  63.726373  71.257658             403"
      ]
     },
     "execution_count": 53,
     "metadata": {},
     "output_type": "execute_result"
    }
   ],
   "source": [
    "results.sort_values('MCC', ascending=False)"
   ]
  },
  {
   "cell_type": "code",
   "execution_count": null,
   "metadata": {},
   "outputs": [],
   "source": []
  }
 ],
 "metadata": {
  "kernelspec": {
   "display_name": "Python 3",
   "language": "python",
   "name": "python3"
  },
  "language_info": {
   "codemirror_mode": {
    "name": "ipython",
    "version": 3
   },
   "file_extension": ".py",
   "mimetype": "text/x-python",
   "name": "python",
   "nbconvert_exporter": "python",
   "pygments_lexer": "ipython3",
   "version": "3.8.10"
  },
  "toc": {
   "base_numbering": 1,
   "nav_menu": {},
   "number_sections": true,
   "sideBar": true,
   "skip_h1_title": false,
   "title_cell": "Table of Contents",
   "title_sidebar": "Contents",
   "toc_cell": false,
   "toc_position": {},
   "toc_section_display": true,
   "toc_window_display": false
  }
 },
 "nbformat": 4,
 "nbformat_minor": 4
}
