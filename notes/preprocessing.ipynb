{
 "cells": [
  {
   "cell_type": "markdown",
   "id": "funded-algebra",
   "metadata": {},
   "source": [
    "# Preprocessing notes\n",
    "\n",
    "## Basic info\n",
    "Version: 0.2 (2021-12-11)  \n",
    "© Tiago Tamagusko (tamagusko@uc.pt)<br>\n",
    "License: [LICENSE](/LICENSE)"
   ]
  },
  {
   "cell_type": "code",
   "execution_count": 1,
   "id": "legislative-municipality",
   "metadata": {},
   "outputs": [
    {
     "data": {
      "text/html": [
       "<div>\n",
       "<style scoped>\n",
       "    .dataframe tbody tr th:only-of-type {\n",
       "        vertical-align: middle;\n",
       "    }\n",
       "\n",
       "    .dataframe tbody tr th {\n",
       "        vertical-align: top;\n",
       "    }\n",
       "\n",
       "    .dataframe thead th {\n",
       "        text-align: right;\n",
       "    }\n",
       "</style>\n",
       "<table border=\"1\" class=\"dataframe\">\n",
       "  <thead>\n",
       "    <tr style=\"text-align: right;\">\n",
       "      <th></th>\n",
       "      <th>cliente</th>\n",
       "      <th>idade</th>\n",
       "      <th>salario</th>\n",
       "      <th>totalCompras</th>\n",
       "      <th>compraRealizada</th>\n",
       "    </tr>\n",
       "  </thead>\n",
       "  <tbody>\n",
       "    <tr>\n",
       "      <th>0</th>\n",
       "      <td>Ines</td>\n",
       "      <td>23</td>\n",
       "      <td>1200</td>\n",
       "      <td>100</td>\n",
       "      <td>sim</td>\n",
       "    </tr>\n",
       "    <tr>\n",
       "      <th>1</th>\n",
       "      <td>Pedro</td>\n",
       "      <td>15</td>\n",
       "      <td>150</td>\n",
       "      <td>200</td>\n",
       "      <td>nao</td>\n",
       "    </tr>\n",
       "    <tr>\n",
       "      <th>2</th>\n",
       "      <td>Joao</td>\n",
       "      <td>45</td>\n",
       "      <td>800</td>\n",
       "      <td>NaN</td>\n",
       "      <td>talvez</td>\n",
       "    </tr>\n",
       "    <tr>\n",
       "      <th>3</th>\n",
       "      <td>Maria</td>\n",
       "      <td>NaN</td>\n",
       "      <td>3000</td>\n",
       "      <td>300</td>\n",
       "      <td>sim</td>\n",
       "    </tr>\n",
       "  </tbody>\n",
       "</table>\n",
       "</div>"
      ],
      "text/plain": [
       "  cliente idade salario totalCompras compraRealizada\n",
       "0    Ines    23    1200          100             sim\n",
       "1   Pedro    15     150          200             nao\n",
       "2    Joao    45     800          NaN          talvez\n",
       "3   Maria   NaN    3000          300             sim"
      ]
     },
     "execution_count": 1,
     "metadata": {},
     "output_type": "execute_result"
    }
   ],
   "source": [
    "import pandas as pd\n",
    "import numpy as np\n",
    "\n",
    "# Create a dataframe from dict\n",
    "data = {\n",
    "    'cliente': ['Ines','Pedro', 'Joao','Maria'],\n",
    "    'idade': ['23', '15', '45', np.nan],\n",
    "    'salario': ['1200', '150', '800', '3000'],\n",
    "    'totalCompras': ['100', '200', np.nan,  '300'],\n",
    "    'compraRealizada': ['sim', 'nao', 'talvez',  'sim']\n",
    "}\n",
    "\n",
    "df = pd.DataFrame(data, columns = data.keys())\n",
    "df"
   ]
  },
  {
   "cell_type": "markdown",
   "id": "blond-pacific",
   "metadata": {},
   "source": [
    "## Encoding values"
   ]
  },
  {
   "cell_type": "code",
   "execution_count": 2,
   "id": "commercial-backing",
   "metadata": {},
   "outputs": [
    {
     "data": {
      "text/html": [
       "<div>\n",
       "<style scoped>\n",
       "    .dataframe tbody tr th:only-of-type {\n",
       "        vertical-align: middle;\n",
       "    }\n",
       "\n",
       "    .dataframe tbody tr th {\n",
       "        vertical-align: top;\n",
       "    }\n",
       "\n",
       "    .dataframe thead th {\n",
       "        text-align: right;\n",
       "    }\n",
       "</style>\n",
       "<table border=\"1\" class=\"dataframe\">\n",
       "  <thead>\n",
       "    <tr style=\"text-align: right;\">\n",
       "      <th></th>\n",
       "      <th>cliente</th>\n",
       "      <th>idade</th>\n",
       "      <th>salario</th>\n",
       "      <th>totalCompras</th>\n",
       "      <th>compra_nao</th>\n",
       "      <th>compra_sim</th>\n",
       "      <th>compra_talvez</th>\n",
       "    </tr>\n",
       "  </thead>\n",
       "  <tbody>\n",
       "    <tr>\n",
       "      <th>0</th>\n",
       "      <td>Ines</td>\n",
       "      <td>23</td>\n",
       "      <td>1200</td>\n",
       "      <td>100</td>\n",
       "      <td>0</td>\n",
       "      <td>1</td>\n",
       "      <td>0</td>\n",
       "    </tr>\n",
       "    <tr>\n",
       "      <th>1</th>\n",
       "      <td>Pedro</td>\n",
       "      <td>15</td>\n",
       "      <td>150</td>\n",
       "      <td>200</td>\n",
       "      <td>1</td>\n",
       "      <td>0</td>\n",
       "      <td>0</td>\n",
       "    </tr>\n",
       "    <tr>\n",
       "      <th>2</th>\n",
       "      <td>Joao</td>\n",
       "      <td>45</td>\n",
       "      <td>800</td>\n",
       "      <td>NaN</td>\n",
       "      <td>0</td>\n",
       "      <td>0</td>\n",
       "      <td>1</td>\n",
       "    </tr>\n",
       "    <tr>\n",
       "      <th>3</th>\n",
       "      <td>Maria</td>\n",
       "      <td>NaN</td>\n",
       "      <td>3000</td>\n",
       "      <td>300</td>\n",
       "      <td>0</td>\n",
       "      <td>1</td>\n",
       "      <td>0</td>\n",
       "    </tr>\n",
       "  </tbody>\n",
       "</table>\n",
       "</div>"
      ],
      "text/plain": [
       "  cliente idade salario totalCompras  compra_nao  compra_sim  compra_talvez\n",
       "0    Ines    23    1200          100           0           1              0\n",
       "1   Pedro    15     150          200           1           0              0\n",
       "2    Joao    45     800          NaN           0           0              1\n",
       "3   Maria   NaN    3000          300           0           1              0"
      ]
     },
     "execution_count": 2,
     "metadata": {},
     "output_type": "execute_result"
    }
   ],
   "source": [
    "# One Hot Encoding\n",
    "df = pd.get_dummies(df, prefix=['compra'], columns=['compraRealizada'])\n",
    "df"
   ]
  },
  {
   "cell_type": "code",
   "execution_count": 3,
   "id": "retired-leadership",
   "metadata": {},
   "outputs": [
    {
     "data": {
      "text/html": [
       "<div>\n",
       "<style scoped>\n",
       "    .dataframe tbody tr th:only-of-type {\n",
       "        vertical-align: middle;\n",
       "    }\n",
       "\n",
       "    .dataframe tbody tr th {\n",
       "        vertical-align: top;\n",
       "    }\n",
       "\n",
       "    .dataframe thead th {\n",
       "        text-align: right;\n",
       "    }\n",
       "</style>\n",
       "<table border=\"1\" class=\"dataframe\">\n",
       "  <thead>\n",
       "    <tr style=\"text-align: right;\">\n",
       "      <th></th>\n",
       "      <th>cliente</th>\n",
       "      <th>idade</th>\n",
       "      <th>salario</th>\n",
       "      <th>totalCompras</th>\n",
       "      <th>compraRealizada</th>\n",
       "      <th>compra</th>\n",
       "    </tr>\n",
       "  </thead>\n",
       "  <tbody>\n",
       "    <tr>\n",
       "      <th>0</th>\n",
       "      <td>Ines</td>\n",
       "      <td>23</td>\n",
       "      <td>1200</td>\n",
       "      <td>100</td>\n",
       "      <td>sim</td>\n",
       "      <td>1</td>\n",
       "    </tr>\n",
       "    <tr>\n",
       "      <th>1</th>\n",
       "      <td>Pedro</td>\n",
       "      <td>15</td>\n",
       "      <td>150</td>\n",
       "      <td>200</td>\n",
       "      <td>nao</td>\n",
       "      <td>0</td>\n",
       "    </tr>\n",
       "    <tr>\n",
       "      <th>2</th>\n",
       "      <td>Joao</td>\n",
       "      <td>45</td>\n",
       "      <td>800</td>\n",
       "      <td>NaN</td>\n",
       "      <td>talvez</td>\n",
       "      <td>2</td>\n",
       "    </tr>\n",
       "    <tr>\n",
       "      <th>3</th>\n",
       "      <td>Maria</td>\n",
       "      <td>NaN</td>\n",
       "      <td>3000</td>\n",
       "      <td>300</td>\n",
       "      <td>sim</td>\n",
       "      <td>1</td>\n",
       "    </tr>\n",
       "  </tbody>\n",
       "</table>\n",
       "</div>"
      ],
      "text/plain": [
       "  cliente idade salario totalCompras compraRealizada  compra\n",
       "0    Ines    23    1200          100             sim       1\n",
       "1   Pedro    15     150          200             nao       0\n",
       "2    Joao    45     800          NaN          talvez       2\n",
       "3   Maria   NaN    3000          300             sim       1"
      ]
     },
     "execution_count": 3,
     "metadata": {},
     "output_type": "execute_result"
    }
   ],
   "source": [
    "# Label Encoding\n",
    "df = pd.DataFrame(data, columns = data.keys())\n",
    "\n",
    "from sklearn.preprocessing import LabelEncoder\n",
    "df['compra'] = LabelEncoder().fit_transform(df.compraRealizada)\n",
    "df"
   ]
  },
  {
   "cell_type": "code",
   "execution_count": 4,
   "id": "similar-congo",
   "metadata": {},
   "outputs": [
    {
     "data": {
      "text/html": [
       "<div>\n",
       "<style scoped>\n",
       "    .dataframe tbody tr th:only-of-type {\n",
       "        vertical-align: middle;\n",
       "    }\n",
       "\n",
       "    .dataframe tbody tr th {\n",
       "        vertical-align: top;\n",
       "    }\n",
       "\n",
       "    .dataframe thead th {\n",
       "        text-align: right;\n",
       "    }\n",
       "</style>\n",
       "<table border=\"1\" class=\"dataframe\">\n",
       "  <thead>\n",
       "    <tr style=\"text-align: right;\">\n",
       "      <th></th>\n",
       "      <th>cliente</th>\n",
       "      <th>idade</th>\n",
       "      <th>salario</th>\n",
       "      <th>totalCompras</th>\n",
       "      <th>compraRealizada</th>\n",
       "      <th>compra</th>\n",
       "    </tr>\n",
       "  </thead>\n",
       "  <tbody>\n",
       "    <tr>\n",
       "      <th>0</th>\n",
       "      <td>Ines</td>\n",
       "      <td>23</td>\n",
       "      <td>1200</td>\n",
       "      <td>100</td>\n",
       "      <td>sim</td>\n",
       "      <td>1</td>\n",
       "    </tr>\n",
       "    <tr>\n",
       "      <th>1</th>\n",
       "      <td>Pedro</td>\n",
       "      <td>15</td>\n",
       "      <td>150</td>\n",
       "      <td>200</td>\n",
       "      <td>nao</td>\n",
       "      <td>0</td>\n",
       "    </tr>\n",
       "    <tr>\n",
       "      <th>2</th>\n",
       "      <td>Joao</td>\n",
       "      <td>45</td>\n",
       "      <td>800</td>\n",
       "      <td>NaN</td>\n",
       "      <td>talvez</td>\n",
       "      <td>2</td>\n",
       "    </tr>\n",
       "    <tr>\n",
       "      <th>3</th>\n",
       "      <td>Maria</td>\n",
       "      <td>NaN</td>\n",
       "      <td>3000</td>\n",
       "      <td>300</td>\n",
       "      <td>sim</td>\n",
       "      <td>1</td>\n",
       "    </tr>\n",
       "  </tbody>\n",
       "</table>\n",
       "</div>"
      ],
      "text/plain": [
       "  cliente idade salario totalCompras compraRealizada  compra\n",
       "0    Ines    23    1200          100             sim       1\n",
       "1   Pedro    15     150          200             nao       0\n",
       "2    Joao    45     800          NaN          talvez       2\n",
       "3   Maria   NaN    3000          300             sim       1"
      ]
     },
     "execution_count": 4,
     "metadata": {},
     "output_type": "execute_result"
    }
   ],
   "source": [
    "# Ordinal Encoding\n",
    "df = pd.DataFrame(data, columns = data.keys())\n",
    "\n",
    "compra_dict = {\n",
    "    'sim': 1,\n",
    "    'nao': 0,\n",
    "    'talvez': 2,\n",
    "}\n",
    "df['compra'] = df.compraRealizada.map(compra_dict)\n",
    "# Can be simplified like this:\n",
    "# df['compra'] = df.compraRealizada.map(dict(sim=1, nao=0, talvez=2))\n",
    "df"
   ]
  },
  {
   "cell_type": "code",
   "execution_count": 5,
   "id": "angry-vertex",
   "metadata": {},
   "outputs": [
    {
     "data": {
      "text/html": [
       "<div>\n",
       "<style scoped>\n",
       "    .dataframe tbody tr th:only-of-type {\n",
       "        vertical-align: middle;\n",
       "    }\n",
       "\n",
       "    .dataframe tbody tr th {\n",
       "        vertical-align: top;\n",
       "    }\n",
       "\n",
       "    .dataframe thead th {\n",
       "        text-align: right;\n",
       "    }\n",
       "</style>\n",
       "<table border=\"1\" class=\"dataframe\">\n",
       "  <thead>\n",
       "    <tr style=\"text-align: right;\">\n",
       "      <th></th>\n",
       "      <th>cliente</th>\n",
       "      <th>idade</th>\n",
       "      <th>salario</th>\n",
       "      <th>totalCompras</th>\n",
       "      <th>compraRealizada</th>\n",
       "    </tr>\n",
       "  </thead>\n",
       "  <tbody>\n",
       "    <tr>\n",
       "      <th>0</th>\n",
       "      <td>Ines</td>\n",
       "      <td>23</td>\n",
       "      <td>1200</td>\n",
       "      <td>100</td>\n",
       "      <td>1</td>\n",
       "    </tr>\n",
       "    <tr>\n",
       "      <th>1</th>\n",
       "      <td>Pedro</td>\n",
       "      <td>15</td>\n",
       "      <td>150</td>\n",
       "      <td>200</td>\n",
       "      <td>0</td>\n",
       "    </tr>\n",
       "    <tr>\n",
       "      <th>2</th>\n",
       "      <td>Joao</td>\n",
       "      <td>45</td>\n",
       "      <td>800</td>\n",
       "      <td>NaN</td>\n",
       "      <td>2</td>\n",
       "    </tr>\n",
       "    <tr>\n",
       "      <th>3</th>\n",
       "      <td>Maria</td>\n",
       "      <td>NaN</td>\n",
       "      <td>3000</td>\n",
       "      <td>300</td>\n",
       "      <td>1</td>\n",
       "    </tr>\n",
       "  </tbody>\n",
       "</table>\n",
       "</div>"
      ],
      "text/plain": [
       "  cliente idade salario totalCompras  compraRealizada\n",
       "0    Ines    23    1200          100                1\n",
       "1   Pedro    15     150          200                0\n",
       "2    Joao    45     800          NaN                2\n",
       "3   Maria   NaN    3000          300                1"
      ]
     },
     "execution_count": 5,
     "metadata": {},
     "output_type": "execute_result"
    }
   ],
   "source": [
    "# Encoding w/ replace\n",
    "df = pd.DataFrame(data, columns = data.keys())\n",
    "df['compraRealizada'] = df['compraRealizada'].replace({'sim': 1, 'nao': 0, 'talvez': 2})\n",
    "df"
   ]
  },
  {
   "cell_type": "markdown",
   "id": "apparent-contribution",
   "metadata": {},
   "source": [
    "## Missing values"
   ]
  },
  {
   "cell_type": "code",
   "execution_count": 4,
   "id": "scenic-gateway",
   "metadata": {},
   "outputs": [
    {
     "data": {
      "text/plain": [
       "cliente            False\n",
       "idade               True\n",
       "salario            False\n",
       "totalCompras        True\n",
       "compraRealizada    False\n",
       "compra             False\n",
       "dtype: bool"
      ]
     },
     "execution_count": 4,
     "metadata": {},
     "output_type": "execute_result"
    }
   ],
   "source": [
    "# Verify na values\n",
    "df.isna().any()"
   ]
  },
  {
   "cell_type": "code",
   "execution_count": 5,
   "id": "radio-denver",
   "metadata": {},
   "outputs": [
    {
     "data": {
      "text/plain": [
       "0    False\n",
       "1    False\n",
       "2    False\n",
       "3     True\n",
       "Name: idade, dtype: bool"
      ]
     },
     "execution_count": 5,
     "metadata": {},
     "output_type": "execute_result"
    }
   ],
   "source": [
    "df['idade'].isnull()"
   ]
  },
  {
   "cell_type": "code",
   "execution_count": 6,
   "id": "indirect-apache",
   "metadata": {},
   "outputs": [
    {
     "data": {
      "text/plain": [
       "cliente            0\n",
       "idade              1\n",
       "salario            0\n",
       "totalCompras       1\n",
       "compraRealizada    0\n",
       "compra             0\n",
       "dtype: int64"
      ]
     },
     "execution_count": 6,
     "metadata": {},
     "output_type": "execute_result"
    }
   ],
   "source": [
    "df.isnull().sum()"
   ]
  },
  {
   "cell_type": "code",
   "execution_count": 9,
   "id": "focal-shell",
   "metadata": {},
   "outputs": [
    {
     "data": {
      "text/html": [
       "<div>\n",
       "<style scoped>\n",
       "    .dataframe tbody tr th:only-of-type {\n",
       "        vertical-align: middle;\n",
       "    }\n",
       "\n",
       "    .dataframe tbody tr th {\n",
       "        vertical-align: top;\n",
       "    }\n",
       "\n",
       "    .dataframe thead th {\n",
       "        text-align: right;\n",
       "    }\n",
       "</style>\n",
       "<table border=\"1\" class=\"dataframe\">\n",
       "  <thead>\n",
       "    <tr style=\"text-align: right;\">\n",
       "      <th></th>\n",
       "      <th>cliente</th>\n",
       "      <th>idade</th>\n",
       "      <th>salario</th>\n",
       "      <th>totalCompras</th>\n",
       "      <th>compraRealizada</th>\n",
       "    </tr>\n",
       "  </thead>\n",
       "  <tbody>\n",
       "    <tr>\n",
       "      <th>0</th>\n",
       "      <td>Ines</td>\n",
       "      <td>23</td>\n",
       "      <td>1200</td>\n",
       "      <td>100</td>\n",
       "      <td>1</td>\n",
       "    </tr>\n",
       "    <tr>\n",
       "      <th>1</th>\n",
       "      <td>Pedro</td>\n",
       "      <td>15</td>\n",
       "      <td>150</td>\n",
       "      <td>200</td>\n",
       "      <td>0</td>\n",
       "    </tr>\n",
       "  </tbody>\n",
       "</table>\n",
       "</div>"
      ],
      "text/plain": [
       "  cliente idade salario totalCompras  compraRealizada\n",
       "0    Ines    23    1200          100                1\n",
       "1   Pedro    15     150          200                0"
      ]
     },
     "execution_count": 9,
     "metadata": {},
     "output_type": "execute_result"
    }
   ],
   "source": [
    "# Drop na rows\n",
    "df.dropna()"
   ]
  },
  {
   "cell_type": "code",
   "execution_count": 7,
   "id": "flexible-definition",
   "metadata": {},
   "outputs": [
    {
     "data": {
      "text/html": [
       "<div>\n",
       "<style scoped>\n",
       "    .dataframe tbody tr th:only-of-type {\n",
       "        vertical-align: middle;\n",
       "    }\n",
       "\n",
       "    .dataframe tbody tr th {\n",
       "        vertical-align: top;\n",
       "    }\n",
       "\n",
       "    .dataframe thead th {\n",
       "        text-align: right;\n",
       "    }\n",
       "</style>\n",
       "<table border=\"1\" class=\"dataframe\">\n",
       "  <thead>\n",
       "    <tr style=\"text-align: right;\">\n",
       "      <th></th>\n",
       "      <th>cliente</th>\n",
       "      <th>idade</th>\n",
       "      <th>salario</th>\n",
       "      <th>totalCompras</th>\n",
       "      <th>compraRealizada</th>\n",
       "    </tr>\n",
       "  </thead>\n",
       "  <tbody>\n",
       "    <tr>\n",
       "      <th>0</th>\n",
       "      <td>Ines</td>\n",
       "      <td>23</td>\n",
       "      <td>1200</td>\n",
       "      <td>100</td>\n",
       "      <td>sim</td>\n",
       "    </tr>\n",
       "    <tr>\n",
       "      <th>1</th>\n",
       "      <td>Pedro</td>\n",
       "      <td>15</td>\n",
       "      <td>150</td>\n",
       "      <td>200</td>\n",
       "      <td>nao</td>\n",
       "    </tr>\n",
       "    <tr>\n",
       "      <th>2</th>\n",
       "      <td>Joao</td>\n",
       "      <td>45</td>\n",
       "      <td>800</td>\n",
       "      <td>0</td>\n",
       "      <td>talvez</td>\n",
       "    </tr>\n",
       "    <tr>\n",
       "      <th>3</th>\n",
       "      <td>Maria</td>\n",
       "      <td>0</td>\n",
       "      <td>3000</td>\n",
       "      <td>300</td>\n",
       "      <td>sim</td>\n",
       "    </tr>\n",
       "  </tbody>\n",
       "</table>\n",
       "</div>"
      ],
      "text/plain": [
       "  cliente idade salario totalCompras compraRealizada\n",
       "0    Ines    23    1200          100             sim\n",
       "1   Pedro    15     150          200             nao\n",
       "2    Joao    45     800            0          talvez\n",
       "3   Maria     0    3000          300             sim"
      ]
     },
     "execution_count": 7,
     "metadata": {},
     "output_type": "execute_result"
    }
   ],
   "source": [
    "# Fill NA\n",
    "df = pd.DataFrame(data, columns = data.keys())\n",
    "df.fillna(0"
   ]
  },
  {
   "cell_type": "code",
   "execution_count": 11,
   "id": "sublime-decline",
   "metadata": {},
   "outputs": [
    {
     "data": {
      "text/html": [
       "<div>\n",
       "<style scoped>\n",
       "    .dataframe tbody tr th:only-of-type {\n",
       "        vertical-align: middle;\n",
       "    }\n",
       "\n",
       "    .dataframe tbody tr th {\n",
       "        vertical-align: top;\n",
       "    }\n",
       "\n",
       "    .dataframe thead th {\n",
       "        text-align: right;\n",
       "    }\n",
       "</style>\n",
       "<table border=\"1\" class=\"dataframe\">\n",
       "  <thead>\n",
       "    <tr style=\"text-align: right;\">\n",
       "      <th></th>\n",
       "      <th>cliente</th>\n",
       "      <th>idade</th>\n",
       "      <th>salario</th>\n",
       "      <th>totalCompras</th>\n",
       "      <th>compraRealizada</th>\n",
       "    </tr>\n",
       "  </thead>\n",
       "  <tbody>\n",
       "    <tr>\n",
       "      <th>0</th>\n",
       "      <td>Ines</td>\n",
       "      <td>23</td>\n",
       "      <td>1200</td>\n",
       "      <td>100</td>\n",
       "      <td>sim</td>\n",
       "    </tr>\n",
       "    <tr>\n",
       "      <th>1</th>\n",
       "      <td>Pedro</td>\n",
       "      <td>15</td>\n",
       "      <td>150</td>\n",
       "      <td>200</td>\n",
       "      <td>nao</td>\n",
       "    </tr>\n",
       "    <tr>\n",
       "      <th>2</th>\n",
       "      <td>Joao</td>\n",
       "      <td>45</td>\n",
       "      <td>800</td>\n",
       "      <td>NaN</td>\n",
       "      <td>talvez</td>\n",
       "    </tr>\n",
       "    <tr>\n",
       "      <th>3</th>\n",
       "      <td>Maria</td>\n",
       "      <td>NaN</td>\n",
       "      <td>3000</td>\n",
       "      <td>300</td>\n",
       "      <td>sim</td>\n",
       "    </tr>\n",
       "  </tbody>\n",
       "</table>\n",
       "</div>"
      ],
      "text/plain": [
       "  cliente idade salario totalCompras compraRealizada\n",
       "0    Ines    23    1200          100             sim\n",
       "1   Pedro    15     150          200             nao\n",
       "2    Joao    45     800          NaN          talvez\n",
       "3   Maria   NaN    3000          300             sim"
      ]
     },
     "execution_count": 11,
     "metadata": {},
     "output_type": "execute_result"
    }
   ],
   "source": [
    "df"
   ]
  },
  {
   "cell_type": "code",
   "execution_count": 12,
   "id": "recognized-referral",
   "metadata": {},
   "outputs": [],
   "source": [
    "# https://towardsdatascience.com/how-to-use-python-and-missforest-algorithm-to-impute-missing-data-ed45eb47cb9a"
   ]
  }
 ],
 "metadata": {
  "kernelspec": {
   "display_name": "Python 3",
   "language": "python",
   "name": "python3"
  },
  "language_info": {
   "codemirror_mode": {
    "name": "ipython",
    "version": 3
   },
   "file_extension": ".py",
   "mimetype": "text/x-python",
   "name": "python",
   "nbconvert_exporter": "python",
   "pygments_lexer": "ipython3",
   "version": "3.8.10"
  }
 },
 "nbformat": 4,
 "nbformat_minor": 5
}
